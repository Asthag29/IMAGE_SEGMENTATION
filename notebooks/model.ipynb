{
 "cells": [
  {
   "cell_type": "code",
   "execution_count": null,
   "id": "078a7b86",
   "metadata": {},
   "outputs": [],
   "source": [
    "import torch\n",
    "from torch import nn\n",
    "from data import create_fish_dataloaders_separate, create_test_dataloader\n"
   ]
  },
  {
   "cell_type": "code",
   "execution_count": null,
   "id": "62c6a427",
   "metadata": {},
   "outputs": [],
   "source": [
    "class FishSegmentation(nn.Module):\n",
    "    def __init__(self):\n",
    "        super(FishSegmentation, self).__init__()\n",
    "        \n",
    "        # Helper function for conv blocks\n",
    "        def conv_block(in_channels, out_channels):   #using two conv2d layer increases the receptive field\n",
    "            return nn.Sequential(\n",
    "                nn.Conv2d(in_channels, out_channels, kernel_size=3, padding=1),\n",
    "                nn.ReLU(inplace=True),\n",
    "                nn.Conv2d(out_channels, out_channels, kernel_size=3, padding=1),\n",
    "                nn.ReLU(inplace=True)\n",
    "            )\n",
    "        \n",
    "        # Encoder\n",
    "        self.encoder1 = conv_block(1, 64)\n",
    "        self.encoder2 = conv_block(64, 128)\n",
    "        self.encoder3 = conv_block(128, 256)\n",
    "        \n",
    "        # Bottleneck\n",
    "        self.bottleneck = conv_block(256, 512)\n",
    "        \n",
    "        # Decoder\n",
    "        self.decoder1 = conv_block(512, 256)\n",
    "        self.decoder2 = conv_block(256, 128)\n",
    "        self.decoder3 = conv_block(128, 64)\n",
    "        \n",
    "        # Pooling and upsampling\n",
    "        self.pool = nn.MaxPool2d(kernel_size=2, stride=2)\n",
    "        self.upconv1 = nn.ConvTranspose2d(512, 256, kernel_size=2, stride=2)  #upsampling\n",
    "        self.upconv2 = nn.ConvTranspose2d(256, 128, kernel_size=2, stride=2)\n",
    "        self.upconv3 = nn.ConvTranspose2d(128, 64, kernel_size=2, stride=2)\n",
    "        \n",
    "        # Final layer\n",
    "        self.final = nn.Sequential(\n",
    "            nn.Conv2d(64, 1, kernel_size=1)\n",
    "        )\n",
    "    \n",
    "    def forward(self, x):\n",
    "        # Encoder\n",
    "        enc1 = self.encoder1(x)\n",
    "        enc2 = self.encoder2(self.pool(enc1))\n",
    "        enc3 = self.encoder3(self.pool(enc2))\n",
    "        \n",
    "        # Bottleneck\n",
    "        bottleneck = self.bottleneck(self.pool(enc3))\n",
    "        \n",
    "        # Decoder with skip connections\n",
    "        dec1 = self.decoder1(torch.cat([self.upconv1(bottleneck), enc3], dim=1))\n",
    "        dec2 = self.decoder2(torch.cat([self.upconv2(dec1), enc2], dim=1))\n",
    "        dec3 = self.decoder3(torch.cat([self.upconv3(dec2), enc1], dim=1))\n",
    "        \n",
    "        return self.final(dec3)"
   ]
  },
  {
   "cell_type": "code",
   "execution_count": 3,
   "id": "0427edaa",
   "metadata": {},
   "outputs": [
    {
     "name": "stdout",
     "output_type": "stream",
     "text": [
      "Input shape: torch.Size([64, 1, 224, 224])\n",
      "Output shape: torch.Size([64, 1, 224, 224])\n",
      "Model parameters: 7,696,193\n"
     ]
    }
   ],
   "source": [
    "Network= FishSegmentation()\n",
    "\n",
    "x = torch.randn(64, 1, 224, 224)  # [batch, channels, height, width]\n",
    "output = Network(x)\n",
    "print(f\"Input shape: {x.shape}\")\n",
    "print(f\"Output shape: {output.shape}\")\n",
    "print(f\"Model parameters: {sum(p.numel() for p in Network.parameters()):,}\")"
   ]
  },
  {
   "cell_type": "code",
   "execution_count": null,
   "id": "a11753ac",
   "metadata": {},
   "outputs": [],
   "source": []
  }
 ],
 "metadata": {
  "kernelspec": {
   "display_name": "fishenv",
   "language": "python",
   "name": "python3"
  },
  "language_info": {
   "codemirror_mode": {
    "name": "ipython",
    "version": 3
   },
   "file_extension": ".py",
   "mimetype": "text/x-python",
   "name": "python",
   "nbconvert_exporter": "python",
   "pygments_lexer": "ipython3",
   "version": "3.11.2"
  }
 },
 "nbformat": 4,
 "nbformat_minor": 5
}
