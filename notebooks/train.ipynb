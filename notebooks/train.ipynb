{
 "cells": [
  {
   "cell_type": "code",
   "execution_count": 32,
   "id": "57d53b24",
   "metadata": {},
   "outputs": [],
   "source": [
    "import torch \n",
    "from torch import nn\n",
    "from data import create_fish_dataloaders_separate, create_test_dataloader\n",
    "from model import FishSegmentation\n",
    "from tqdm import tqdm \n",
    "import matplotlib.pyplot as plt\n"
   ]
  },
  {
   "cell_type": "code",
   "execution_count": null,
   "id": "f04532ff",
   "metadata": {},
   "outputs": [],
   "source": [
    "def train(model , epochs , train_dataloaders , valid_dataloaders, optimizer, loss=None):\n",
    "    \n",
    "   \n",
    "    \n",
    "    device = torch.device('cuda' if torch.cuda.is_available() else 'cpu')\n",
    "    model.to(device)\n",
    "    \n",
    "    print(f\"Training on: {device}\")\n",
    "    print(f\"Model parameters: {sum(p.numel() for p in model.parameters()):,}\")\n",
    "    print(f\"Initial learning rate: {optimizer.param_groups[0]['lr']}\")\n",
    "\n",
    "    \n",
    "    best_val_loss = float('inf')\n",
    "    train_losses = []\n",
    "    val_losses = []\n",
    "    \n",
    "    print(\"Training started...\\n\")\n",
    "    \n",
    "    for epoch in range(epochs):\n",
    "        \n",
    "        # Training Phase\n",
    "        model.train()\n",
    "        running_train_loss = 0.0\n",
    "        \n",
    "        train_bar = tqdm(\n",
    "            train_dataloaders, \n",
    "            desc=f\"Epoch {epoch+1}/{epochs} - Training\",\n",
    "            leave=True \n",
    "        )\n",
    "        \n",
    "        for batch_idx, (image, mask, _) in enumerate(train_bar):\n",
    "            image, mask = image.to(device), mask.to(device)\n",
    "            \n",
    "            optimizer.zero_grad()\n",
    "            predicted = model(image)\n",
    "            loss= nn.BCELoss()(predicted,mask)\n",
    "            loss.backward()\n",
    "            optimizer.step()\n",
    "            \n",
    "            batch_loss = loss.item()\n",
    "            running_train_loss += batch_loss\n",
    "            \n",
    "            # Update display\n",
    "            train_bar.set_postfix({\n",
    "                'Loss': f'{running_train_loss:.4f}',\n",
    "            \n",
    "            })\n",
    "        \n",
    "        avg_train_loss = running_train_loss / len(train_dataloaders)\n",
    "        train_losses.append(avg_train_loss)\n",
    "        \n",
    "        # Validation Phase\n",
    "        model.eval()\n",
    "        running_val_loss = 0.0\n",
    "        \n",
    "        val_bar = tqdm(\n",
    "            valid_dataloaders, \n",
    "            desc=f\"Epoch {epoch+1}/{epochs} - Validation\",\n",
    "            leave=False\n",
    "        )\n",
    "        \n",
    "        with torch.no_grad():\n",
    "            for batch_idx, (image_valid, mask_valid, labels) in enumerate(val_bar):\n",
    "                image_valid, mask_valid = image_valid.to(device), mask_valid.to(device)\n",
    "                \n",
    "                predicted = model(image_valid)\n",
    "                loss = nn.BCELoss()(predicted, mask_valid)\n",
    "                running_val_loss += loss.item()\n",
    "                \n",
    "                val_bar.set_postfix({\n",
    "                    'Loss': f'{running_val_loss:.4f}',\n",
    "                    \n",
    "                })\n",
    "        \n",
    "        avg_val_loss = running_val_loss / len(valid_dataloaders)\n",
    "        val_losses.append(avg_val_loss)\n",
    "    \n",
    "        \n",
    "        print(f'\\nEpoch {epoch+1}/{epochs}:')\n",
    "        print(f'Train Loss: {avg_train_loss:.4f}')\n",
    "        print(f'Val Loss: {avg_val_loss:.4f}')\n",
    "       \n",
    "        \n",
    "        if avg_val_loss < best_val_loss:\n",
    "            best_val_loss = avg_val_loss\n",
    "            torch.save({\n",
    "                'epoch': epoch + 1,\n",
    "                'model_state_dict': model.state_dict(),\n",
    "                'optimizer_state_dict': optimizer.state_dict(),\n",
    "                \n",
    "                'train_loss': avg_train_loss,\n",
    "                'val_loss': avg_val_loss,\n",
    "                'best_val_loss': best_val_loss,\n",
    "                \n",
    "                'train_losses': train_losses,\n",
    "                'val_losses': val_losses,\n",
    "            }, 'best_fish_segmentation_model.pth')\n",
    "            print(f'✅ Best model saved! Val Loss: {avg_val_loss:.4f}')\n",
    "        \n",
    "        print('-' * 50)\n",
    "    \n",
    "    print(f\"\\n🎉 Training completed! Best validation loss: {best_val_loss:.4f}\")\n",
    "    return train_losses, val_losses"
   ]
  },
  {
   "cell_type": "code",
   "execution_count": 9,
   "id": "5f8731ec",
   "metadata": {},
   "outputs": [
    {
     "name": "stdout",
     "output_type": "stream",
     "text": [
      "Found 9000 samples across 9 categories\n"
     ]
    }
   ],
   "source": [
    "train_dataloaders, valid_dataloaders, categories = create_fish_dataloaders_separate()\n"
   ]
  },
  {
   "cell_type": "code",
   "execution_count": 70,
   "id": "b1b540f0",
   "metadata": {},
   "outputs": [
    {
     "name": "stdout",
     "output_type": "stream",
     "text": [
      "Found 9000 samples across 9 categories\n",
      "Training on: cuda\n",
      "Model parameters: 7,696,193\n",
      "Initial learning rate: 0.001\n",
      "Training started...\n",
      "\n"
     ]
    },
    {
     "name": "stderr",
     "output_type": "stream",
     "text": [
      "Epoch 1/500 - Training: 100%|██████████| 85/85 [00:40<00:00,  2.08it/s, Loss=35.9198]\n",
      "                                                                                     \r"
     ]
    },
    {
     "name": "stdout",
     "output_type": "stream",
     "text": [
      "\n",
      "Epoch 1/500:\n",
      "Train Loss: 0.4226\n",
      "Val Loss: 0.3442\n",
      "✅ Best model saved! Val Loss: 0.3442\n",
      "--------------------------------------------------\n"
     ]
    },
    {
     "name": "stderr",
     "output_type": "stream",
     "text": [
      "Epoch 2/500 - Training: 100%|██████████| 85/85 [00:40<00:00,  2.09it/s, Loss=33.4062]\n",
      "                                                                                     \r"
     ]
    },
    {
     "name": "stdout",
     "output_type": "stream",
     "text": [
      "\n",
      "Epoch 2/500:\n",
      "Train Loss: 0.3930\n",
      "Val Loss: 0.3171\n",
      "✅ Best model saved! Val Loss: 0.3171\n",
      "--------------------------------------------------\n"
     ]
    },
    {
     "name": "stderr",
     "output_type": "stream",
     "text": [
      "Epoch 3/500 - Training: 100%|██████████| 85/85 [00:40<00:00,  2.08it/s, Loss=22.9128]\n",
      "                                                                                     \r"
     ]
    },
    {
     "name": "stdout",
     "output_type": "stream",
     "text": [
      "\n",
      "Epoch 3/500:\n",
      "Train Loss: 0.2696\n",
      "Val Loss: 0.2296\n",
      "✅ Best model saved! Val Loss: 0.2296\n",
      "--------------------------------------------------\n"
     ]
    },
    {
     "name": "stderr",
     "output_type": "stream",
     "text": [
      "Epoch 4/500 - Training: 100%|██████████| 85/85 [00:40<00:00,  2.09it/s, Loss=15.4716]\n",
      "                                                                                     \r"
     ]
    },
    {
     "name": "stdout",
     "output_type": "stream",
     "text": [
      "\n",
      "Epoch 4/500:\n",
      "Train Loss: 0.1820\n",
      "Val Loss: 0.1569\n",
      "✅ Best model saved! Val Loss: 0.1569\n",
      "--------------------------------------------------\n"
     ]
    },
    {
     "name": "stderr",
     "output_type": "stream",
     "text": [
      "Epoch 5/500 - Training: 100%|██████████| 85/85 [00:40<00:00,  2.08it/s, Loss=13.3492]\n",
      "                                                                                     \r"
     ]
    },
    {
     "name": "stdout",
     "output_type": "stream",
     "text": [
      "\n",
      "Epoch 5/500:\n",
      "Train Loss: 0.1570\n",
      "Val Loss: 0.1351\n",
      "✅ Best model saved! Val Loss: 0.1351\n",
      "--------------------------------------------------\n"
     ]
    },
    {
     "name": "stderr",
     "output_type": "stream",
     "text": [
      "Epoch 6/500 - Training: 100%|██████████| 85/85 [00:40<00:00,  2.09it/s, Loss=10.6647]\n",
      "                                                                                     \r"
     ]
    },
    {
     "name": "stdout",
     "output_type": "stream",
     "text": [
      "\n",
      "Epoch 6/500:\n",
      "Train Loss: 0.1255\n",
      "Val Loss: 0.1347\n",
      "✅ Best model saved! Val Loss: 0.1347\n",
      "--------------------------------------------------\n"
     ]
    },
    {
     "name": "stderr",
     "output_type": "stream",
     "text": [
      "Epoch 7/500 - Training: 100%|██████████| 85/85 [00:40<00:00,  2.09it/s, Loss=10.1459]\n",
      "                                                                                     \r"
     ]
    },
    {
     "name": "stdout",
     "output_type": "stream",
     "text": [
      "\n",
      "Epoch 7/500:\n",
      "Train Loss: 0.1194\n",
      "Val Loss: 0.1094\n",
      "✅ Best model saved! Val Loss: 0.1094\n",
      "--------------------------------------------------\n"
     ]
    },
    {
     "name": "stderr",
     "output_type": "stream",
     "text": [
      "Epoch 8/500 - Training: 100%|██████████| 85/85 [00:40<00:00,  2.08it/s, Loss=8.6935]\n",
      "                                                                                     \r"
     ]
    },
    {
     "name": "stdout",
     "output_type": "stream",
     "text": [
      "\n",
      "Epoch 8/500:\n",
      "Train Loss: 0.1023\n",
      "Val Loss: 0.1011\n",
      "✅ Best model saved! Val Loss: 0.1011\n",
      "--------------------------------------------------\n"
     ]
    },
    {
     "name": "stderr",
     "output_type": "stream",
     "text": [
      "Epoch 9/500 - Training: 100%|██████████| 85/85 [00:40<00:00,  2.08it/s, Loss=7.7016]\n",
      "                                                                                     \r"
     ]
    },
    {
     "name": "stdout",
     "output_type": "stream",
     "text": [
      "\n",
      "Epoch 9/500:\n",
      "Train Loss: 0.0906\n",
      "Val Loss: 0.1029\n",
      "--------------------------------------------------\n"
     ]
    },
    {
     "name": "stderr",
     "output_type": "stream",
     "text": [
      "Epoch 10/500 - Training: 100%|██████████| 85/85 [00:40<00:00,  2.09it/s, Loss=7.2094]\n",
      "                                                                                      \r"
     ]
    },
    {
     "name": "stdout",
     "output_type": "stream",
     "text": [
      "\n",
      "Epoch 10/500:\n",
      "Train Loss: 0.0848\n",
      "Val Loss: 0.0858\n",
      "✅ Best model saved! Val Loss: 0.0858\n",
      "--------------------------------------------------\n"
     ]
    },
    {
     "name": "stderr",
     "output_type": "stream",
     "text": [
      "Epoch 11/500 - Training: 100%|██████████| 85/85 [00:40<00:00,  2.09it/s, Loss=6.6403]\n",
      "                                                                                      \r"
     ]
    },
    {
     "name": "stdout",
     "output_type": "stream",
     "text": [
      "\n",
      "Epoch 11/500:\n",
      "Train Loss: 0.0781\n",
      "Val Loss: 0.0780\n",
      "✅ Best model saved! Val Loss: 0.0780\n",
      "--------------------------------------------------\n"
     ]
    },
    {
     "name": "stderr",
     "output_type": "stream",
     "text": [
      "Epoch 12/500 - Training: 100%|██████████| 85/85 [00:40<00:00,  2.09it/s, Loss=6.1402]\n",
      "                                                                                      \r"
     ]
    },
    {
     "name": "stdout",
     "output_type": "stream",
     "text": [
      "\n",
      "Epoch 12/500:\n",
      "Train Loss: 0.0722\n",
      "Val Loss: 0.0715\n",
      "✅ Best model saved! Val Loss: 0.0715\n",
      "--------------------------------------------------\n"
     ]
    },
    {
     "name": "stderr",
     "output_type": "stream",
     "text": [
      "Epoch 13/500 - Training: 100%|██████████| 85/85 [00:40<00:00,  2.08it/s, Loss=5.7349]\n",
      "                                                                                      \r"
     ]
    },
    {
     "name": "stdout",
     "output_type": "stream",
     "text": [
      "\n",
      "Epoch 13/500:\n",
      "Train Loss: 0.0675\n",
      "Val Loss: 0.0687\n",
      "✅ Best model saved! Val Loss: 0.0687\n",
      "--------------------------------------------------\n"
     ]
    },
    {
     "name": "stderr",
     "output_type": "stream",
     "text": [
      "Epoch 14/500 - Training: 100%|██████████| 85/85 [00:40<00:00,  2.09it/s, Loss=5.2715]\n",
      "                                                                                      \r"
     ]
    },
    {
     "name": "stdout",
     "output_type": "stream",
     "text": [
      "\n",
      "Epoch 14/500:\n",
      "Train Loss: 0.0620\n",
      "Val Loss: 0.0665\n",
      "✅ Best model saved! Val Loss: 0.0665\n",
      "--------------------------------------------------\n"
     ]
    },
    {
     "name": "stderr",
     "output_type": "stream",
     "text": [
      "Epoch 15/500 - Training: 100%|██████████| 85/85 [00:40<00:00,  2.09it/s, Loss=5.0922]\n",
      "                                                                                      \r"
     ]
    },
    {
     "name": "stdout",
     "output_type": "stream",
     "text": [
      "\n",
      "Epoch 15/500:\n",
      "Train Loss: 0.0599\n",
      "Val Loss: 0.0654\n",
      "✅ Best model saved! Val Loss: 0.0654\n",
      "--------------------------------------------------\n"
     ]
    },
    {
     "name": "stderr",
     "output_type": "stream",
     "text": [
      "Epoch 16/500 - Training: 100%|██████████| 85/85 [00:40<00:00,  2.09it/s, Loss=4.8303]\n",
      "                                                                                      \r"
     ]
    },
    {
     "name": "stdout",
     "output_type": "stream",
     "text": [
      "\n",
      "Epoch 16/500:\n",
      "Train Loss: 0.0568\n",
      "Val Loss: 0.0600\n",
      "✅ Best model saved! Val Loss: 0.0600\n",
      "--------------------------------------------------\n"
     ]
    },
    {
     "name": "stderr",
     "output_type": "stream",
     "text": [
      "Epoch 17/500 - Training: 100%|██████████| 85/85 [00:40<00:00,  2.08it/s, Loss=4.4670]\n",
      "                                                                                      \r"
     ]
    },
    {
     "name": "stdout",
     "output_type": "stream",
     "text": [
      "\n",
      "Epoch 17/500:\n",
      "Train Loss: 0.0526\n",
      "Val Loss: 0.0579\n",
      "✅ Best model saved! Val Loss: 0.0579\n",
      "--------------------------------------------------\n"
     ]
    },
    {
     "name": "stderr",
     "output_type": "stream",
     "text": [
      "Epoch 18/500 - Training: 100%|██████████| 85/85 [00:40<00:00,  2.09it/s, Loss=4.5128]\n",
      "                                                                                      \r"
     ]
    },
    {
     "name": "stdout",
     "output_type": "stream",
     "text": [
      "\n",
      "Epoch 18/500:\n",
      "Train Loss: 0.0531\n",
      "Val Loss: 0.0573\n",
      "✅ Best model saved! Val Loss: 0.0573\n",
      "--------------------------------------------------\n"
     ]
    },
    {
     "name": "stderr",
     "output_type": "stream",
     "text": [
      "Epoch 19/500 - Training: 100%|██████████| 85/85 [00:40<00:00,  2.08it/s, Loss=4.3705]\n",
      "                                                                                      \r"
     ]
    },
    {
     "name": "stdout",
     "output_type": "stream",
     "text": [
      "\n",
      "Epoch 19/500:\n",
      "Train Loss: 0.0514\n",
      "Val Loss: 0.0570\n",
      "✅ Best model saved! Val Loss: 0.0570\n",
      "--------------------------------------------------\n"
     ]
    },
    {
     "name": "stderr",
     "output_type": "stream",
     "text": [
      "Epoch 20/500 - Training: 100%|██████████| 85/85 [00:40<00:00,  2.09it/s, Loss=4.0531]\n",
      "                                                                                      \r"
     ]
    },
    {
     "name": "stdout",
     "output_type": "stream",
     "text": [
      "\n",
      "Epoch 20/500:\n",
      "Train Loss: 0.0477\n",
      "Val Loss: 0.0535\n",
      "✅ Best model saved! Val Loss: 0.0535\n",
      "--------------------------------------------------\n"
     ]
    },
    {
     "name": "stderr",
     "output_type": "stream",
     "text": [
      "Epoch 21/500 - Training: 100%|██████████| 85/85 [00:40<00:00,  2.09it/s, Loss=3.7765]\n",
      "                                                                                      \r"
     ]
    },
    {
     "name": "stdout",
     "output_type": "stream",
     "text": [
      "\n",
      "Epoch 21/500:\n",
      "Train Loss: 0.0444\n",
      "Val Loss: 0.0503\n",
      "✅ Best model saved! Val Loss: 0.0503\n",
      "--------------------------------------------------\n"
     ]
    },
    {
     "name": "stderr",
     "output_type": "stream",
     "text": [
      "Epoch 22/500 - Training: 100%|██████████| 85/85 [00:40<00:00,  2.08it/s, Loss=3.7134]\n",
      "                                                                                      \r"
     ]
    },
    {
     "name": "stdout",
     "output_type": "stream",
     "text": [
      "\n",
      "Epoch 22/500:\n",
      "Train Loss: 0.0437\n",
      "Val Loss: 0.0504\n",
      "--------------------------------------------------\n"
     ]
    },
    {
     "name": "stderr",
     "output_type": "stream",
     "text": [
      "Epoch 23/500 - Training: 100%|██████████| 85/85 [00:40<00:00,  2.09it/s, Loss=3.5777]\n",
      "                                                                                      \r"
     ]
    },
    {
     "name": "stdout",
     "output_type": "stream",
     "text": [
      "\n",
      "Epoch 23/500:\n",
      "Train Loss: 0.0421\n",
      "Val Loss: 0.0478\n",
      "✅ Best model saved! Val Loss: 0.0478\n",
      "--------------------------------------------------\n"
     ]
    },
    {
     "name": "stderr",
     "output_type": "stream",
     "text": [
      "Epoch 24/500 - Training: 100%|██████████| 85/85 [00:40<00:00,  2.08it/s, Loss=3.5239]\n",
      "                                                                                      \r"
     ]
    },
    {
     "name": "stdout",
     "output_type": "stream",
     "text": [
      "\n",
      "Epoch 24/500:\n",
      "Train Loss: 0.0415\n",
      "Val Loss: 0.0452\n",
      "✅ Best model saved! Val Loss: 0.0452\n",
      "--------------------------------------------------\n"
     ]
    },
    {
     "name": "stderr",
     "output_type": "stream",
     "text": [
      "Epoch 25/500 - Training: 100%|██████████| 85/85 [00:40<00:00,  2.08it/s, Loss=3.5601]\n",
      "                                                                                      \r"
     ]
    },
    {
     "name": "stdout",
     "output_type": "stream",
     "text": [
      "\n",
      "Epoch 25/500:\n",
      "Train Loss: 0.0419\n",
      "Val Loss: 0.0440\n",
      "✅ Best model saved! Val Loss: 0.0440\n",
      "--------------------------------------------------\n"
     ]
    },
    {
     "name": "stderr",
     "output_type": "stream",
     "text": [
      "Epoch 26/500 - Training: 100%|██████████| 85/85 [00:40<00:00,  2.08it/s, Loss=3.2628]\n",
      "                                                                                      \r"
     ]
    },
    {
     "name": "stdout",
     "output_type": "stream",
     "text": [
      "\n",
      "Epoch 26/500:\n",
      "Train Loss: 0.0384\n",
      "Val Loss: 0.0451\n",
      "--------------------------------------------------\n"
     ]
    },
    {
     "name": "stderr",
     "output_type": "stream",
     "text": [
      "Epoch 27/500 - Training: 100%|██████████| 85/85 [00:40<00:00,  2.09it/s, Loss=3.1251]\n",
      "                                                                                      \r"
     ]
    },
    {
     "name": "stdout",
     "output_type": "stream",
     "text": [
      "\n",
      "Epoch 27/500:\n",
      "Train Loss: 0.0368\n",
      "Val Loss: 0.0424\n",
      "✅ Best model saved! Val Loss: 0.0424\n",
      "--------------------------------------------------\n"
     ]
    },
    {
     "name": "stderr",
     "output_type": "stream",
     "text": [
      "Epoch 28/500 - Training: 100%|██████████| 85/85 [00:40<00:00,  2.08it/s, Loss=2.9837]\n",
      "                                                                                      \r"
     ]
    },
    {
     "name": "stdout",
     "output_type": "stream",
     "text": [
      "\n",
      "Epoch 28/500:\n",
      "Train Loss: 0.0351\n",
      "Val Loss: 0.0430\n",
      "--------------------------------------------------\n"
     ]
    },
    {
     "name": "stderr",
     "output_type": "stream",
     "text": [
      "Epoch 29/500 - Training: 100%|██████████| 85/85 [00:40<00:00,  2.09it/s, Loss=2.9504]\n",
      "                                                                                      \r"
     ]
    },
    {
     "name": "stdout",
     "output_type": "stream",
     "text": [
      "\n",
      "Epoch 29/500:\n",
      "Train Loss: 0.0347\n",
      "Val Loss: 0.0439\n",
      "--------------------------------------------------\n"
     ]
    },
    {
     "name": "stderr",
     "output_type": "stream",
     "text": [
      "Epoch 30/500 - Training: 100%|██████████| 85/85 [00:40<00:00,  2.09it/s, Loss=2.7802]\n",
      "                                                                                      \r"
     ]
    },
    {
     "name": "stdout",
     "output_type": "stream",
     "text": [
      "\n",
      "Epoch 30/500:\n",
      "Train Loss: 0.0327\n",
      "Val Loss: 0.0428\n",
      "--------------------------------------------------\n"
     ]
    },
    {
     "name": "stderr",
     "output_type": "stream",
     "text": [
      "Epoch 31/500 - Training: 100%|██████████| 85/85 [00:40<00:00,  2.09it/s, Loss=3.2600]\n",
      "                                                                                      \r"
     ]
    },
    {
     "name": "stdout",
     "output_type": "stream",
     "text": [
      "\n",
      "Epoch 31/500:\n",
      "Train Loss: 0.0384\n",
      "Val Loss: 0.0547\n",
      "--------------------------------------------------\n"
     ]
    },
    {
     "name": "stderr",
     "output_type": "stream",
     "text": [
      "Epoch 32/500 - Training: 100%|██████████| 85/85 [00:40<00:00,  2.09it/s, Loss=2.9263]\n",
      "                                                                                      \r"
     ]
    },
    {
     "name": "stdout",
     "output_type": "stream",
     "text": [
      "\n",
      "Epoch 32/500:\n",
      "Train Loss: 0.0344\n",
      "Val Loss: 0.0401\n",
      "✅ Best model saved! Val Loss: 0.0401\n",
      "--------------------------------------------------\n"
     ]
    },
    {
     "name": "stderr",
     "output_type": "stream",
     "text": [
      "Epoch 33/500 - Training: 100%|██████████| 85/85 [00:40<00:00,  2.08it/s, Loss=2.5274]\n",
      "                                                                                      \r"
     ]
    },
    {
     "name": "stdout",
     "output_type": "stream",
     "text": [
      "\n",
      "Epoch 33/500:\n",
      "Train Loss: 0.0297\n",
      "Val Loss: 0.0389\n",
      "✅ Best model saved! Val Loss: 0.0389\n",
      "--------------------------------------------------\n"
     ]
    },
    {
     "name": "stderr",
     "output_type": "stream",
     "text": [
      "Epoch 34/500 - Training: 100%|██████████| 85/85 [00:40<00:00,  2.08it/s, Loss=2.5042]\n",
      "                                                                                      \r"
     ]
    },
    {
     "name": "stdout",
     "output_type": "stream",
     "text": [
      "\n",
      "Epoch 34/500:\n",
      "Train Loss: 0.0295\n",
      "Val Loss: 0.0383\n",
      "✅ Best model saved! Val Loss: 0.0383\n",
      "--------------------------------------------------\n"
     ]
    },
    {
     "name": "stderr",
     "output_type": "stream",
     "text": [
      "Epoch 35/500 - Training: 100%|██████████| 85/85 [00:40<00:00,  2.08it/s, Loss=2.2736]\n",
      "                                                                                      \r"
     ]
    },
    {
     "name": "stdout",
     "output_type": "stream",
     "text": [
      "\n",
      "Epoch 35/500:\n",
      "Train Loss: 0.0267\n",
      "Val Loss: 0.0378\n",
      "✅ Best model saved! Val Loss: 0.0378\n",
      "--------------------------------------------------\n"
     ]
    },
    {
     "name": "stderr",
     "output_type": "stream",
     "text": [
      "Epoch 36/500 - Training: 100%|██████████| 85/85 [00:40<00:00,  2.08it/s, Loss=2.2276]\n",
      "                                                                                      \r"
     ]
    },
    {
     "name": "stdout",
     "output_type": "stream",
     "text": [
      "\n",
      "Epoch 36/500:\n",
      "Train Loss: 0.0262\n",
      "Val Loss: 0.0371\n",
      "✅ Best model saved! Val Loss: 0.0371\n",
      "--------------------------------------------------\n"
     ]
    },
    {
     "name": "stderr",
     "output_type": "stream",
     "text": [
      "Epoch 37/500 - Training: 100%|██████████| 85/85 [00:40<00:00,  2.08it/s, Loss=2.1572]\n",
      "                                                                                      \r"
     ]
    },
    {
     "name": "stdout",
     "output_type": "stream",
     "text": [
      "\n",
      "Epoch 37/500:\n",
      "Train Loss: 0.0254\n",
      "Val Loss: 0.0379\n",
      "--------------------------------------------------\n"
     ]
    },
    {
     "name": "stderr",
     "output_type": "stream",
     "text": [
      "Epoch 38/500 - Training: 100%|██████████| 85/85 [00:40<00:00,  2.09it/s, Loss=2.1456]\n",
      "                                                                                      \r"
     ]
    },
    {
     "name": "stdout",
     "output_type": "stream",
     "text": [
      "\n",
      "Epoch 38/500:\n",
      "Train Loss: 0.0252\n",
      "Val Loss: 0.0391\n",
      "--------------------------------------------------\n"
     ]
    },
    {
     "name": "stderr",
     "output_type": "stream",
     "text": [
      "Epoch 39/500 - Training: 100%|██████████| 85/85 [00:40<00:00,  2.09it/s, Loss=2.3519]\n",
      "                                                                                      \r"
     ]
    },
    {
     "name": "stdout",
     "output_type": "stream",
     "text": [
      "\n",
      "Epoch 39/500:\n",
      "Train Loss: 0.0277\n",
      "Val Loss: 0.0373\n",
      "--------------------------------------------------\n"
     ]
    },
    {
     "name": "stderr",
     "output_type": "stream",
     "text": [
      "Epoch 40/500 - Training: 100%|██████████| 85/85 [00:40<00:00,  2.09it/s, Loss=2.1032]\n",
      "                                                                                      \r"
     ]
    },
    {
     "name": "stdout",
     "output_type": "stream",
     "text": [
      "\n",
      "Epoch 40/500:\n",
      "Train Loss: 0.0247\n",
      "Val Loss: 0.0362\n",
      "✅ Best model saved! Val Loss: 0.0362\n",
      "--------------------------------------------------\n"
     ]
    },
    {
     "name": "stderr",
     "output_type": "stream",
     "text": [
      "Epoch 41/500 - Training: 100%|██████████| 85/85 [00:40<00:00,  2.08it/s, Loss=1.8930]\n",
      "                                                                                      \r"
     ]
    },
    {
     "name": "stdout",
     "output_type": "stream",
     "text": [
      "\n",
      "Epoch 41/500:\n",
      "Train Loss: 0.0223\n",
      "Val Loss: 0.0368\n",
      "--------------------------------------------------\n"
     ]
    },
    {
     "name": "stderr",
     "output_type": "stream",
     "text": [
      "Epoch 42/500 - Training: 100%|██████████| 85/85 [00:40<00:00,  2.09it/s, Loss=1.8799]\n",
      "                                                                                      \r"
     ]
    },
    {
     "name": "stdout",
     "output_type": "stream",
     "text": [
      "\n",
      "Epoch 42/500:\n",
      "Train Loss: 0.0221\n",
      "Val Loss: 0.0372\n",
      "--------------------------------------------------\n"
     ]
    },
    {
     "name": "stderr",
     "output_type": "stream",
     "text": [
      "Epoch 43/500 - Training: 100%|██████████| 85/85 [00:40<00:00,  2.09it/s, Loss=1.8849]\n",
      "                                                                                      \r"
     ]
    },
    {
     "name": "stdout",
     "output_type": "stream",
     "text": [
      "\n",
      "Epoch 43/500:\n",
      "Train Loss: 0.0222\n",
      "Val Loss: 0.0384\n",
      "--------------------------------------------------\n"
     ]
    },
    {
     "name": "stderr",
     "output_type": "stream",
     "text": [
      "Epoch 44/500 - Training: 100%|██████████| 85/85 [00:40<00:00,  2.09it/s, Loss=1.8012]\n",
      "                                                                                      \r"
     ]
    },
    {
     "name": "stdout",
     "output_type": "stream",
     "text": [
      "\n",
      "Epoch 44/500:\n",
      "Train Loss: 0.0212\n",
      "Val Loss: 0.0359\n",
      "✅ Best model saved! Val Loss: 0.0359\n",
      "--------------------------------------------------\n"
     ]
    },
    {
     "name": "stderr",
     "output_type": "stream",
     "text": [
      "Epoch 45/500 - Training: 100%|██████████| 85/85 [00:40<00:00,  2.09it/s, Loss=1.7025]\n",
      "                                                                                      \r"
     ]
    },
    {
     "name": "stdout",
     "output_type": "stream",
     "text": [
      "\n",
      "Epoch 45/500:\n",
      "Train Loss: 0.0200\n",
      "Val Loss: 0.0363\n",
      "--------------------------------------------------\n"
     ]
    },
    {
     "name": "stderr",
     "output_type": "stream",
     "text": [
      "Epoch 46/500 - Training: 100%|██████████| 85/85 [00:40<00:00,  2.09it/s, Loss=1.6209]\n",
      "                                                                                      \r"
     ]
    },
    {
     "name": "stdout",
     "output_type": "stream",
     "text": [
      "\n",
      "Epoch 46/500:\n",
      "Train Loss: 0.0191\n",
      "Val Loss: 0.0343\n",
      "✅ Best model saved! Val Loss: 0.0343\n",
      "--------------------------------------------------\n"
     ]
    },
    {
     "name": "stderr",
     "output_type": "stream",
     "text": [
      "Epoch 47/500 - Training: 100%|██████████| 85/85 [00:40<00:00,  2.08it/s, Loss=1.6979]\n",
      "                                                                                      \r"
     ]
    },
    {
     "name": "stdout",
     "output_type": "stream",
     "text": [
      "\n",
      "Epoch 47/500:\n",
      "Train Loss: 0.0200\n",
      "Val Loss: 0.0360\n",
      "--------------------------------------------------\n"
     ]
    },
    {
     "name": "stderr",
     "output_type": "stream",
     "text": [
      "Epoch 48/500 - Training: 100%|██████████| 85/85 [00:40<00:00,  2.09it/s, Loss=1.6412]\n",
      "                                                                                      \r"
     ]
    },
    {
     "name": "stdout",
     "output_type": "stream",
     "text": [
      "\n",
      "Epoch 48/500:\n",
      "Train Loss: 0.0193\n",
      "Val Loss: 0.0358\n",
      "--------------------------------------------------\n"
     ]
    },
    {
     "name": "stderr",
     "output_type": "stream",
     "text": [
      "Epoch 49/500 - Training: 100%|██████████| 85/85 [00:40<00:00,  2.09it/s, Loss=1.4856]\n",
      "                                                                                      \r"
     ]
    },
    {
     "name": "stdout",
     "output_type": "stream",
     "text": [
      "\n",
      "Epoch 49/500:\n",
      "Train Loss: 0.0175\n",
      "Val Loss: 0.0360\n",
      "--------------------------------------------------\n"
     ]
    },
    {
     "name": "stderr",
     "output_type": "stream",
     "text": [
      "Epoch 50/500 - Training: 100%|██████████| 85/85 [00:40<00:00,  2.09it/s, Loss=1.4510]\n",
      "                                                                                      \r"
     ]
    },
    {
     "name": "stdout",
     "output_type": "stream",
     "text": [
      "\n",
      "Epoch 50/500:\n",
      "Train Loss: 0.0171\n",
      "Val Loss: 0.0398\n",
      "--------------------------------------------------\n"
     ]
    },
    {
     "name": "stderr",
     "output_type": "stream",
     "text": [
      "Epoch 51/500 - Training: 100%|██████████| 85/85 [00:40<00:00,  2.09it/s, Loss=1.4766]\n",
      "                                                                                      \r"
     ]
    },
    {
     "name": "stdout",
     "output_type": "stream",
     "text": [
      "\n",
      "Epoch 51/500:\n",
      "Train Loss: 0.0174\n",
      "Val Loss: 0.0337\n",
      "✅ Best model saved! Val Loss: 0.0337\n",
      "--------------------------------------------------\n"
     ]
    },
    {
     "name": "stderr",
     "output_type": "stream",
     "text": [
      "Epoch 52/500 - Training: 100%|██████████| 85/85 [00:40<00:00,  2.08it/s, Loss=1.3704]\n",
      "                                                                                      \r"
     ]
    },
    {
     "name": "stdout",
     "output_type": "stream",
     "text": [
      "\n",
      "Epoch 52/500:\n",
      "Train Loss: 0.0161\n",
      "Val Loss: 0.0368\n",
      "--------------------------------------------------\n"
     ]
    },
    {
     "name": "stderr",
     "output_type": "stream",
     "text": [
      "Epoch 53/500 - Training: 100%|██████████| 85/85 [00:40<00:00,  2.09it/s, Loss=1.4221]\n",
      "                                                                                      \r"
     ]
    },
    {
     "name": "stdout",
     "output_type": "stream",
     "text": [
      "\n",
      "Epoch 53/500:\n",
      "Train Loss: 0.0167\n",
      "Val Loss: 0.0342\n",
      "--------------------------------------------------\n"
     ]
    },
    {
     "name": "stderr",
     "output_type": "stream",
     "text": [
      "Epoch 54/500 - Training: 100%|██████████| 85/85 [00:40<00:00,  2.09it/s, Loss=1.4394]\n",
      "                                                                                      \r"
     ]
    },
    {
     "name": "stdout",
     "output_type": "stream",
     "text": [
      "\n",
      "Epoch 54/500:\n",
      "Train Loss: 0.0169\n",
      "Val Loss: 0.0363\n",
      "--------------------------------------------------\n"
     ]
    },
    {
     "name": "stderr",
     "output_type": "stream",
     "text": [
      "Epoch 55/500 - Training: 100%|██████████| 85/85 [00:40<00:00,  2.09it/s, Loss=1.3118]\n",
      "                                                                                      \r"
     ]
    },
    {
     "name": "stdout",
     "output_type": "stream",
     "text": [
      "\n",
      "Epoch 55/500:\n",
      "Train Loss: 0.0154\n",
      "Val Loss: 0.0363\n",
      "--------------------------------------------------\n"
     ]
    },
    {
     "name": "stderr",
     "output_type": "stream",
     "text": [
      "Epoch 56/500 - Training: 100%|██████████| 85/85 [00:40<00:00,  2.09it/s, Loss=1.2680]\n",
      "                                                                                      \r"
     ]
    },
    {
     "name": "stdout",
     "output_type": "stream",
     "text": [
      "\n",
      "Epoch 56/500:\n",
      "Train Loss: 0.0149\n",
      "Val Loss: 0.0357\n",
      "--------------------------------------------------\n"
     ]
    },
    {
     "name": "stderr",
     "output_type": "stream",
     "text": [
      "Epoch 57/500 - Training: 100%|██████████| 85/85 [00:40<00:00,  2.09it/s, Loss=1.1995]\n",
      "                                                                                      \r"
     ]
    },
    {
     "name": "stdout",
     "output_type": "stream",
     "text": [
      "\n",
      "Epoch 57/500:\n",
      "Train Loss: 0.0141\n",
      "Val Loss: 0.0353\n",
      "--------------------------------------------------\n"
     ]
    },
    {
     "name": "stderr",
     "output_type": "stream",
     "text": [
      "Epoch 58/500 - Training: 100%|██████████| 85/85 [00:40<00:00,  2.09it/s, Loss=1.1802]\n",
      "                                                                                      \r"
     ]
    },
    {
     "name": "stdout",
     "output_type": "stream",
     "text": [
      "\n",
      "Epoch 58/500:\n",
      "Train Loss: 0.0139\n",
      "Val Loss: 0.0344\n",
      "--------------------------------------------------\n"
     ]
    },
    {
     "name": "stderr",
     "output_type": "stream",
     "text": [
      "Epoch 59/500 - Training: 100%|██████████| 85/85 [00:40<00:00,  2.09it/s, Loss=1.2634]\n",
      "                                                                                      \r"
     ]
    },
    {
     "name": "stdout",
     "output_type": "stream",
     "text": [
      "\n",
      "Epoch 59/500:\n",
      "Train Loss: 0.0149\n",
      "Val Loss: 0.0345\n",
      "--------------------------------------------------\n"
     ]
    },
    {
     "name": "stderr",
     "output_type": "stream",
     "text": [
      "Epoch 60/500 - Training: 100%|██████████| 85/85 [00:40<00:00,  2.09it/s, Loss=37.6160]\n",
      "                                                                                      \r"
     ]
    },
    {
     "name": "stdout",
     "output_type": "stream",
     "text": [
      "\n",
      "Epoch 60/500:\n",
      "Train Loss: 0.4425\n",
      "Val Loss: 0.3648\n",
      "--------------------------------------------------\n"
     ]
    },
    {
     "name": "stderr",
     "output_type": "stream",
     "text": [
      "Epoch 61/500 - Training: 100%|██████████| 85/85 [00:40<00:00,  2.09it/s, Loss=24.4143]\n",
      "                                                                                      \r"
     ]
    },
    {
     "name": "stdout",
     "output_type": "stream",
     "text": [
      "\n",
      "Epoch 61/500:\n",
      "Train Loss: 0.2872\n",
      "Val Loss: 0.2112\n",
      "--------------------------------------------------\n"
     ]
    },
    {
     "name": "stderr",
     "output_type": "stream",
     "text": [
      "Epoch 62/500 - Training: 100%|██████████| 85/85 [00:40<00:00,  2.09it/s, Loss=15.1528]\n",
      "                                                                                      \r"
     ]
    },
    {
     "name": "stdout",
     "output_type": "stream",
     "text": [
      "\n",
      "Epoch 62/500:\n",
      "Train Loss: 0.1783\n",
      "Val Loss: 0.1528\n",
      "--------------------------------------------------\n"
     ]
    },
    {
     "name": "stderr",
     "output_type": "stream",
     "text": [
      "Epoch 63/500 - Training: 100%|██████████| 85/85 [00:40<00:00,  2.09it/s, Loss=11.4698]\n",
      "                                                                                      \r"
     ]
    },
    {
     "name": "stdout",
     "output_type": "stream",
     "text": [
      "\n",
      "Epoch 63/500:\n",
      "Train Loss: 0.1349\n",
      "Val Loss: 0.1189\n",
      "--------------------------------------------------\n"
     ]
    },
    {
     "name": "stderr",
     "output_type": "stream",
     "text": [
      "Epoch 64/500 - Training: 100%|██████████| 85/85 [00:40<00:00,  2.09it/s, Loss=8.9676]\n",
      "                                                                                      \r"
     ]
    },
    {
     "name": "stdout",
     "output_type": "stream",
     "text": [
      "\n",
      "Epoch 64/500:\n",
      "Train Loss: 0.1055\n",
      "Val Loss: 0.1023\n",
      "--------------------------------------------------\n"
     ]
    },
    {
     "name": "stderr",
     "output_type": "stream",
     "text": [
      "Epoch 65/500 - Training: 100%|██████████| 85/85 [00:40<00:00,  2.09it/s, Loss=7.7241]\n",
      "                                                                                      \r"
     ]
    },
    {
     "name": "stdout",
     "output_type": "stream",
     "text": [
      "\n",
      "Epoch 65/500:\n",
      "Train Loss: 0.0909\n",
      "Val Loss: 0.0905\n",
      "--------------------------------------------------\n"
     ]
    },
    {
     "name": "stderr",
     "output_type": "stream",
     "text": [
      "Epoch 66/500 - Training: 100%|██████████| 85/85 [00:40<00:00,  2.09it/s, Loss=6.8869]\n",
      "                                                                                      \r"
     ]
    },
    {
     "name": "stdout",
     "output_type": "stream",
     "text": [
      "\n",
      "Epoch 66/500:\n",
      "Train Loss: 0.0810\n",
      "Val Loss: 0.0781\n",
      "--------------------------------------------------\n"
     ]
    },
    {
     "name": "stderr",
     "output_type": "stream",
     "text": [
      "Epoch 67/500 - Training: 100%|██████████| 85/85 [00:40<00:00,  2.09it/s, Loss=6.1025]\n",
      "                                                                                      \r"
     ]
    },
    {
     "name": "stdout",
     "output_type": "stream",
     "text": [
      "\n",
      "Epoch 67/500:\n",
      "Train Loss: 0.0718\n",
      "Val Loss: 0.0934\n",
      "--------------------------------------------------\n"
     ]
    },
    {
     "name": "stderr",
     "output_type": "stream",
     "text": [
      "Epoch 68/500 - Training: 100%|██████████| 85/85 [00:40<00:00,  2.09it/s, Loss=9.2927]\n",
      "                                                                                      \r"
     ]
    },
    {
     "name": "stdout",
     "output_type": "stream",
     "text": [
      "\n",
      "Epoch 68/500:\n",
      "Train Loss: 0.1093\n",
      "Val Loss: 0.0818\n",
      "--------------------------------------------------\n"
     ]
    },
    {
     "name": "stderr",
     "output_type": "stream",
     "text": [
      "Epoch 69/500 - Training: 100%|██████████| 85/85 [00:40<00:00,  2.09it/s, Loss=6.1815]\n",
      "                                                                                      \r"
     ]
    },
    {
     "name": "stdout",
     "output_type": "stream",
     "text": [
      "\n",
      "Epoch 69/500:\n",
      "Train Loss: 0.0727\n",
      "Val Loss: 0.0733\n",
      "--------------------------------------------------\n"
     ]
    },
    {
     "name": "stderr",
     "output_type": "stream",
     "text": [
      "Epoch 70/500 - Training: 100%|██████████| 85/85 [00:40<00:00,  2.09it/s, Loss=5.5036]\n",
      "                                                                                      \r"
     ]
    },
    {
     "name": "stdout",
     "output_type": "stream",
     "text": [
      "\n",
      "Epoch 70/500:\n",
      "Train Loss: 0.0647\n",
      "Val Loss: 0.0685\n",
      "--------------------------------------------------\n"
     ]
    },
    {
     "name": "stderr",
     "output_type": "stream",
     "text": [
      "Epoch 71/500 - Training: 100%|██████████| 85/85 [00:40<00:00,  2.09it/s, Loss=5.1627]\n",
      "                                                                                      \r"
     ]
    },
    {
     "name": "stdout",
     "output_type": "stream",
     "text": [
      "\n",
      "Epoch 71/500:\n",
      "Train Loss: 0.0607\n",
      "Val Loss: 0.0633\n",
      "--------------------------------------------------\n"
     ]
    },
    {
     "name": "stderr",
     "output_type": "stream",
     "text": [
      "Epoch 72/500 - Training: 100%|██████████| 85/85 [00:40<00:00,  2.09it/s, Loss=4.8244]\n",
      "                                                                                      \r"
     ]
    },
    {
     "name": "stdout",
     "output_type": "stream",
     "text": [
      "\n",
      "Epoch 72/500:\n",
      "Train Loss: 0.0568\n",
      "Val Loss: 0.0603\n",
      "--------------------------------------------------\n"
     ]
    },
    {
     "name": "stderr",
     "output_type": "stream",
     "text": [
      "Epoch 73/500 - Training: 100%|██████████| 85/85 [00:40<00:00,  2.09it/s, Loss=4.6444]\n",
      "                                                                                      \r"
     ]
    },
    {
     "name": "stdout",
     "output_type": "stream",
     "text": [
      "\n",
      "Epoch 73/500:\n",
      "Train Loss: 0.0546\n",
      "Val Loss: 0.0593\n",
      "--------------------------------------------------\n"
     ]
    },
    {
     "name": "stderr",
     "output_type": "stream",
     "text": [
      "Epoch 74/500 - Training: 100%|██████████| 85/85 [00:40<00:00,  2.09it/s, Loss=4.4272]\n",
      "                                                                                      \r"
     ]
    },
    {
     "name": "stdout",
     "output_type": "stream",
     "text": [
      "\n",
      "Epoch 74/500:\n",
      "Train Loss: 0.0521\n",
      "Val Loss: 0.0562\n",
      "--------------------------------------------------\n"
     ]
    },
    {
     "name": "stderr",
     "output_type": "stream",
     "text": [
      "Epoch 75/500 - Training: 100%|██████████| 85/85 [00:40<00:00,  2.09it/s, Loss=4.2508]\n",
      "                                                                                      \r"
     ]
    },
    {
     "name": "stdout",
     "output_type": "stream",
     "text": [
      "\n",
      "Epoch 75/500:\n",
      "Train Loss: 0.0500\n",
      "Val Loss: 0.0533\n",
      "--------------------------------------------------\n"
     ]
    },
    {
     "name": "stderr",
     "output_type": "stream",
     "text": [
      "Epoch 76/500 - Training: 100%|██████████| 85/85 [00:40<00:00,  2.09it/s, Loss=4.0948]\n",
      "                                                                                      \r"
     ]
    },
    {
     "name": "stdout",
     "output_type": "stream",
     "text": [
      "\n",
      "Epoch 76/500:\n",
      "Train Loss: 0.0482\n",
      "Val Loss: 0.0529\n",
      "--------------------------------------------------\n"
     ]
    },
    {
     "name": "stderr",
     "output_type": "stream",
     "text": [
      "Epoch 77/500 - Training: 100%|██████████| 85/85 [00:40<00:00,  2.09it/s, Loss=3.9685]\n",
      "                                                                                      \r"
     ]
    },
    {
     "name": "stdout",
     "output_type": "stream",
     "text": [
      "\n",
      "Epoch 77/500:\n",
      "Train Loss: 0.0467\n",
      "Val Loss: 0.0509\n",
      "--------------------------------------------------\n"
     ]
    },
    {
     "name": "stderr",
     "output_type": "stream",
     "text": [
      "Epoch 78/500 - Training: 100%|██████████| 85/85 [00:40<00:00,  2.09it/s, Loss=3.8267]\n",
      "                                                                                      \r"
     ]
    },
    {
     "name": "stdout",
     "output_type": "stream",
     "text": [
      "\n",
      "Epoch 78/500:\n",
      "Train Loss: 0.0450\n",
      "Val Loss: 0.0501\n",
      "--------------------------------------------------\n"
     ]
    },
    {
     "name": "stderr",
     "output_type": "stream",
     "text": [
      "Epoch 79/500 - Training: 100%|██████████| 85/85 [00:40<00:00,  2.09it/s, Loss=3.6543]\n",
      "                                                                                      \r"
     ]
    },
    {
     "name": "stdout",
     "output_type": "stream",
     "text": [
      "\n",
      "Epoch 79/500:\n",
      "Train Loss: 0.0430\n",
      "Val Loss: 0.0502\n",
      "--------------------------------------------------\n"
     ]
    },
    {
     "name": "stderr",
     "output_type": "stream",
     "text": [
      "Epoch 80/500 - Training: 100%|██████████| 85/85 [00:40<00:00,  2.09it/s, Loss=3.5553]\n",
      "                                                                                      \r"
     ]
    },
    {
     "name": "stdout",
     "output_type": "stream",
     "text": [
      "\n",
      "Epoch 80/500:\n",
      "Train Loss: 0.0418\n",
      "Val Loss: 0.0480\n",
      "--------------------------------------------------\n"
     ]
    },
    {
     "name": "stderr",
     "output_type": "stream",
     "text": [
      "Epoch 81/500 - Training: 100%|██████████| 85/85 [00:40<00:00,  2.09it/s, Loss=3.4575]\n",
      "                                                                                      \r"
     ]
    },
    {
     "name": "stdout",
     "output_type": "stream",
     "text": [
      "\n",
      "Epoch 81/500:\n",
      "Train Loss: 0.0407\n",
      "Val Loss: 0.0481\n",
      "--------------------------------------------------\n"
     ]
    },
    {
     "name": "stderr",
     "output_type": "stream",
     "text": [
      "Epoch 82/500 - Training: 100%|██████████| 85/85 [00:40<00:00,  2.09it/s, Loss=3.3218]\n",
      "                                                                                      \r"
     ]
    },
    {
     "name": "stdout",
     "output_type": "stream",
     "text": [
      "\n",
      "Epoch 82/500:\n",
      "Train Loss: 0.0391\n",
      "Val Loss: 0.0467\n",
      "--------------------------------------------------\n"
     ]
    },
    {
     "name": "stderr",
     "output_type": "stream",
     "text": [
      "Epoch 83/500 - Training: 100%|██████████| 85/85 [00:40<00:00,  2.09it/s, Loss=3.2973]\n",
      "                                                                                      \r"
     ]
    },
    {
     "name": "stdout",
     "output_type": "stream",
     "text": [
      "\n",
      "Epoch 83/500:\n",
      "Train Loss: 0.0388\n",
      "Val Loss: 0.0463\n",
      "--------------------------------------------------\n"
     ]
    },
    {
     "name": "stderr",
     "output_type": "stream",
     "text": [
      "Epoch 84/500 - Training: 100%|██████████| 85/85 [00:40<00:00,  2.09it/s, Loss=3.1540]\n",
      "                                                                                      \r"
     ]
    },
    {
     "name": "stdout",
     "output_type": "stream",
     "text": [
      "\n",
      "Epoch 84/500:\n",
      "Train Loss: 0.0371\n",
      "Val Loss: 0.0465\n",
      "--------------------------------------------------\n"
     ]
    },
    {
     "name": "stderr",
     "output_type": "stream",
     "text": [
      "Epoch 85/500 - Training: 100%|██████████| 85/85 [00:40<00:00,  2.09it/s, Loss=3.1849]\n",
      "                                                                                      \r"
     ]
    },
    {
     "name": "stdout",
     "output_type": "stream",
     "text": [
      "\n",
      "Epoch 85/500:\n",
      "Train Loss: 0.0375\n",
      "Val Loss: 0.0453\n",
      "--------------------------------------------------\n"
     ]
    },
    {
     "name": "stderr",
     "output_type": "stream",
     "text": [
      "Epoch 86/500 - Training: 100%|██████████| 85/85 [00:40<00:00,  2.09it/s, Loss=3.0582]\n",
      "                                                                                      \r"
     ]
    },
    {
     "name": "stdout",
     "output_type": "stream",
     "text": [
      "\n",
      "Epoch 86/500:\n",
      "Train Loss: 0.0360\n",
      "Val Loss: 0.0436\n",
      "--------------------------------------------------\n"
     ]
    },
    {
     "name": "stderr",
     "output_type": "stream",
     "text": [
      "Epoch 87/500 - Training: 100%|██████████| 85/85 [00:40<00:00,  2.09it/s, Loss=2.8267]\n",
      "                                                                                      \r"
     ]
    },
    {
     "name": "stdout",
     "output_type": "stream",
     "text": [
      "\n",
      "Epoch 87/500:\n",
      "Train Loss: 0.0333\n",
      "Val Loss: 0.0429\n",
      "--------------------------------------------------\n"
     ]
    },
    {
     "name": "stderr",
     "output_type": "stream",
     "text": [
      "Epoch 88/500 - Training: 100%|██████████| 85/85 [00:40<00:00,  2.09it/s, Loss=2.7213]\n",
      "                                                                                      \r"
     ]
    },
    {
     "name": "stdout",
     "output_type": "stream",
     "text": [
      "\n",
      "Epoch 88/500:\n",
      "Train Loss: 0.0320\n",
      "Val Loss: 0.0430\n",
      "--------------------------------------------------\n"
     ]
    },
    {
     "name": "stderr",
     "output_type": "stream",
     "text": [
      "Epoch 89/500 - Training: 100%|██████████| 85/85 [00:40<00:00,  2.09it/s, Loss=2.8047]\n",
      "                                                                                      \r"
     ]
    },
    {
     "name": "stdout",
     "output_type": "stream",
     "text": [
      "\n",
      "Epoch 89/500:\n",
      "Train Loss: 0.0330\n",
      "Val Loss: 0.0424\n",
      "--------------------------------------------------\n"
     ]
    },
    {
     "name": "stderr",
     "output_type": "stream",
     "text": [
      "Epoch 90/500 - Training: 100%|██████████| 85/85 [00:40<00:00,  2.09it/s, Loss=2.6053]\n",
      "                                                                                      \r"
     ]
    },
    {
     "name": "stdout",
     "output_type": "stream",
     "text": [
      "\n",
      "Epoch 90/500:\n",
      "Train Loss: 0.0307\n",
      "Val Loss: 0.0421\n",
      "--------------------------------------------------\n"
     ]
    },
    {
     "name": "stderr",
     "output_type": "stream",
     "text": [
      "Epoch 91/500 - Training: 100%|██████████| 85/85 [00:40<00:00,  2.09it/s, Loss=2.5117]\n",
      "                                                                                      \r"
     ]
    },
    {
     "name": "stdout",
     "output_type": "stream",
     "text": [
      "\n",
      "Epoch 91/500:\n",
      "Train Loss: 0.0295\n",
      "Val Loss: 0.0422\n",
      "--------------------------------------------------\n"
     ]
    },
    {
     "name": "stderr",
     "output_type": "stream",
     "text": [
      "Epoch 92/500 - Training: 100%|██████████| 85/85 [00:40<00:00,  2.09it/s, Loss=2.4293]\n",
      "                                                                                      \r"
     ]
    },
    {
     "name": "stdout",
     "output_type": "stream",
     "text": [
      "\n",
      "Epoch 92/500:\n",
      "Train Loss: 0.0286\n",
      "Val Loss: 0.0436\n",
      "--------------------------------------------------\n"
     ]
    },
    {
     "name": "stderr",
     "output_type": "stream",
     "text": [
      "Epoch 93/500 - Training: 100%|██████████| 85/85 [00:40<00:00,  2.09it/s, Loss=2.3797]\n",
      "                                                                                      \r"
     ]
    },
    {
     "name": "stdout",
     "output_type": "stream",
     "text": [
      "\n",
      "Epoch 93/500:\n",
      "Train Loss: 0.0280\n",
      "Val Loss: 0.0396\n",
      "--------------------------------------------------\n"
     ]
    },
    {
     "name": "stderr",
     "output_type": "stream",
     "text": [
      "Epoch 94/500 - Training: 100%|██████████| 85/85 [00:40<00:00,  2.09it/s, Loss=2.3167]\n",
      "                                                                                      \r"
     ]
    },
    {
     "name": "stdout",
     "output_type": "stream",
     "text": [
      "\n",
      "Epoch 94/500:\n",
      "Train Loss: 0.0273\n",
      "Val Loss: 0.0403\n",
      "--------------------------------------------------\n"
     ]
    },
    {
     "name": "stderr",
     "output_type": "stream",
     "text": [
      "Epoch 95/500 - Training: 100%|██████████| 85/85 [00:40<00:00,  2.09it/s, Loss=2.2275]\n",
      "                                                                                      \r"
     ]
    },
    {
     "name": "stdout",
     "output_type": "stream",
     "text": [
      "\n",
      "Epoch 95/500:\n",
      "Train Loss: 0.0262\n",
      "Val Loss: 0.0389\n",
      "--------------------------------------------------\n"
     ]
    },
    {
     "name": "stderr",
     "output_type": "stream",
     "text": [
      "Epoch 96/500 - Training: 100%|██████████| 85/85 [00:40<00:00,  2.09it/s, Loss=2.1544]\n",
      "                                                                                      \r"
     ]
    },
    {
     "name": "stdout",
     "output_type": "stream",
     "text": [
      "\n",
      "Epoch 96/500:\n",
      "Train Loss: 0.0253\n",
      "Val Loss: 0.0397\n",
      "--------------------------------------------------\n"
     ]
    },
    {
     "name": "stderr",
     "output_type": "stream",
     "text": [
      "Epoch 97/500 - Training: 100%|██████████| 85/85 [00:40<00:00,  2.09it/s, Loss=2.1296]\n",
      "                                                                                      \r"
     ]
    },
    {
     "name": "stdout",
     "output_type": "stream",
     "text": [
      "\n",
      "Epoch 97/500:\n",
      "Train Loss: 0.0251\n",
      "Val Loss: 0.0381\n",
      "--------------------------------------------------\n"
     ]
    },
    {
     "name": "stderr",
     "output_type": "stream",
     "text": [
      "Epoch 98/500 - Training: 100%|██████████| 85/85 [00:40<00:00,  2.09it/s, Loss=2.1660]\n",
      "                                                                                      \r"
     ]
    },
    {
     "name": "stdout",
     "output_type": "stream",
     "text": [
      "\n",
      "Epoch 98/500:\n",
      "Train Loss: 0.0255\n",
      "Val Loss: 0.0423\n",
      "--------------------------------------------------\n"
     ]
    },
    {
     "name": "stderr",
     "output_type": "stream",
     "text": [
      "Epoch 99/500 - Training: 100%|██████████| 85/85 [00:40<00:00,  2.09it/s, Loss=2.3076]\n",
      "                                                                                      \r"
     ]
    },
    {
     "name": "stdout",
     "output_type": "stream",
     "text": [
      "\n",
      "Epoch 99/500:\n",
      "Train Loss: 0.0271\n",
      "Val Loss: 0.0388\n",
      "--------------------------------------------------\n"
     ]
    },
    {
     "name": "stderr",
     "output_type": "stream",
     "text": [
      "Epoch 100/500 - Training: 100%|██████████| 85/85 [00:40<00:00,  2.09it/s, Loss=2.0241]\n",
      "                                                                                       \r"
     ]
    },
    {
     "name": "stdout",
     "output_type": "stream",
     "text": [
      "\n",
      "Epoch 100/500:\n",
      "Train Loss: 0.0238\n",
      "Val Loss: 0.0380\n",
      "--------------------------------------------------\n"
     ]
    },
    {
     "name": "stderr",
     "output_type": "stream",
     "text": [
      "Epoch 101/500 - Training: 100%|██████████| 85/85 [00:40<00:00,  2.09it/s, Loss=2.0621]\n",
      "                                                                                       \r"
     ]
    },
    {
     "name": "stdout",
     "output_type": "stream",
     "text": [
      "\n",
      "Epoch 101/500:\n",
      "Train Loss: 0.0243\n",
      "Val Loss: 0.0392\n",
      "--------------------------------------------------\n"
     ]
    },
    {
     "name": "stderr",
     "output_type": "stream",
     "text": [
      "Epoch 102/500 - Training: 100%|██████████| 85/85 [00:40<00:00,  2.09it/s, Loss=1.8930]\n",
      "                                                                                       \r"
     ]
    },
    {
     "name": "stdout",
     "output_type": "stream",
     "text": [
      "\n",
      "Epoch 102/500:\n",
      "Train Loss: 0.0223\n",
      "Val Loss: 0.0388\n",
      "--------------------------------------------------\n"
     ]
    },
    {
     "name": "stderr",
     "output_type": "stream",
     "text": [
      "Epoch 103/500 - Training: 100%|██████████| 85/85 [00:40<00:00,  2.09it/s, Loss=1.7822]\n",
      "                                                                                       \r"
     ]
    },
    {
     "name": "stdout",
     "output_type": "stream",
     "text": [
      "\n",
      "Epoch 103/500:\n",
      "Train Loss: 0.0210\n",
      "Val Loss: 0.0378\n",
      "--------------------------------------------------\n"
     ]
    },
    {
     "name": "stderr",
     "output_type": "stream",
     "text": [
      "Epoch 104/500 - Training: 100%|██████████| 85/85 [00:40<00:00,  2.09it/s, Loss=1.7209]\n",
      "                                                                                       \r"
     ]
    },
    {
     "name": "stdout",
     "output_type": "stream",
     "text": [
      "\n",
      "Epoch 104/500:\n",
      "Train Loss: 0.0202\n",
      "Val Loss: 0.0385\n",
      "--------------------------------------------------\n"
     ]
    },
    {
     "name": "stderr",
     "output_type": "stream",
     "text": [
      "Epoch 105/500 - Training: 100%|██████████| 85/85 [00:40<00:00,  2.09it/s, Loss=1.6770]\n",
      "                                                                                       \r"
     ]
    },
    {
     "name": "stdout",
     "output_type": "stream",
     "text": [
      "\n",
      "Epoch 105/500:\n",
      "Train Loss: 0.0197\n",
      "Val Loss: 0.0385\n",
      "--------------------------------------------------\n"
     ]
    },
    {
     "name": "stderr",
     "output_type": "stream",
     "text": [
      "Epoch 106/500 - Training: 100%|██████████| 85/85 [00:40<00:00,  2.09it/s, Loss=1.6167]\n",
      "                                                                                       \r"
     ]
    },
    {
     "name": "stdout",
     "output_type": "stream",
     "text": [
      "\n",
      "Epoch 106/500:\n",
      "Train Loss: 0.0190\n",
      "Val Loss: 0.0393\n",
      "--------------------------------------------------\n"
     ]
    },
    {
     "name": "stderr",
     "output_type": "stream",
     "text": [
      "Epoch 107/500 - Training: 100%|██████████| 85/85 [00:40<00:00,  2.09it/s, Loss=1.6921]\n",
      "                                                                                       \r"
     ]
    },
    {
     "name": "stdout",
     "output_type": "stream",
     "text": [
      "\n",
      "Epoch 107/500:\n",
      "Train Loss: 0.0199\n",
      "Val Loss: 0.0385\n",
      "--------------------------------------------------\n"
     ]
    },
    {
     "name": "stderr",
     "output_type": "stream",
     "text": [
      "Epoch 108/500 - Training: 100%|██████████| 85/85 [00:40<00:00,  2.09it/s, Loss=1.5855]\n",
      "                                                                                       \r"
     ]
    },
    {
     "name": "stdout",
     "output_type": "stream",
     "text": [
      "\n",
      "Epoch 108/500:\n",
      "Train Loss: 0.0187\n",
      "Val Loss: 0.0383\n",
      "--------------------------------------------------\n"
     ]
    },
    {
     "name": "stderr",
     "output_type": "stream",
     "text": [
      "Epoch 109/500 - Training: 100%|██████████| 85/85 [00:40<00:00,  2.09it/s, Loss=1.5232]\n",
      "                                                                                       \r"
     ]
    },
    {
     "name": "stdout",
     "output_type": "stream",
     "text": [
      "\n",
      "Epoch 109/500:\n",
      "Train Loss: 0.0179\n",
      "Val Loss: 0.0387\n",
      "--------------------------------------------------\n"
     ]
    },
    {
     "name": "stderr",
     "output_type": "stream",
     "text": [
      "Epoch 110/500 - Training: 100%|██████████| 85/85 [00:40<00:00,  2.09it/s, Loss=1.4947]\n",
      "                                                                                       \r"
     ]
    },
    {
     "name": "stdout",
     "output_type": "stream",
     "text": [
      "\n",
      "Epoch 110/500:\n",
      "Train Loss: 0.0176\n",
      "Val Loss: 0.0396\n",
      "--------------------------------------------------\n"
     ]
    },
    {
     "name": "stderr",
     "output_type": "stream",
     "text": [
      "Epoch 111/500 - Training: 100%|██████████| 85/85 [00:40<00:00,  2.09it/s, Loss=1.4805]\n",
      "                                                                                       \r"
     ]
    },
    {
     "name": "stdout",
     "output_type": "stream",
     "text": [
      "\n",
      "Epoch 111/500:\n",
      "Train Loss: 0.0174\n",
      "Val Loss: 0.0405\n",
      "--------------------------------------------------\n"
     ]
    },
    {
     "name": "stderr",
     "output_type": "stream",
     "text": [
      "Epoch 112/500 - Training: 100%|██████████| 85/85 [00:40<00:00,  2.09it/s, Loss=1.7904]\n",
      "                                                                                       \r"
     ]
    },
    {
     "name": "stdout",
     "output_type": "stream",
     "text": [
      "\n",
      "Epoch 112/500:\n",
      "Train Loss: 0.0211\n",
      "Val Loss: 0.0411\n",
      "--------------------------------------------------\n"
     ]
    },
    {
     "name": "stderr",
     "output_type": "stream",
     "text": [
      "Epoch 113/500 - Training: 100%|██████████| 85/85 [00:40<00:00,  2.09it/s, Loss=1.5958]\n",
      "                                                                                       \r"
     ]
    },
    {
     "name": "stdout",
     "output_type": "stream",
     "text": [
      "\n",
      "Epoch 113/500:\n",
      "Train Loss: 0.0188\n",
      "Val Loss: 0.0396\n",
      "--------------------------------------------------\n"
     ]
    },
    {
     "name": "stderr",
     "output_type": "stream",
     "text": [
      "Epoch 114/500 - Training: 100%|██████████| 85/85 [00:40<00:00,  2.09it/s, Loss=1.4414]\n",
      "                                                                                       \r"
     ]
    },
    {
     "name": "stdout",
     "output_type": "stream",
     "text": [
      "\n",
      "Epoch 114/500:\n",
      "Train Loss: 0.0170\n",
      "Val Loss: 0.0388\n",
      "--------------------------------------------------\n"
     ]
    },
    {
     "name": "stderr",
     "output_type": "stream",
     "text": [
      "Epoch 115/500 - Training: 100%|██████████| 85/85 [00:40<00:00,  2.09it/s, Loss=1.3750]\n",
      "                                                                                       \r"
     ]
    },
    {
     "name": "stdout",
     "output_type": "stream",
     "text": [
      "\n",
      "Epoch 115/500:\n",
      "Train Loss: 0.0162\n",
      "Val Loss: 0.0383\n",
      "--------------------------------------------------\n"
     ]
    },
    {
     "name": "stderr",
     "output_type": "stream",
     "text": [
      "Epoch 116/500 - Training: 100%|██████████| 85/85 [00:40<00:00,  2.09it/s, Loss=1.3581]\n",
      "                                                                                       \r"
     ]
    },
    {
     "name": "stdout",
     "output_type": "stream",
     "text": [
      "\n",
      "Epoch 116/500:\n",
      "Train Loss: 0.0160\n",
      "Val Loss: 0.0406\n",
      "--------------------------------------------------\n"
     ]
    },
    {
     "name": "stderr",
     "output_type": "stream",
     "text": [
      "Epoch 117/500 - Training: 100%|██████████| 85/85 [00:40<00:00,  2.09it/s, Loss=1.3915]\n",
      "                                                                                       \r"
     ]
    },
    {
     "name": "stdout",
     "output_type": "stream",
     "text": [
      "\n",
      "Epoch 117/500:\n",
      "Train Loss: 0.0164\n",
      "Val Loss: 0.0398\n",
      "--------------------------------------------------\n"
     ]
    },
    {
     "name": "stderr",
     "output_type": "stream",
     "text": [
      "Epoch 118/500 - Training: 100%|██████████| 85/85 [00:40<00:00,  2.09it/s, Loss=1.3117]\n",
      "                                                                                       \r"
     ]
    },
    {
     "name": "stdout",
     "output_type": "stream",
     "text": [
      "\n",
      "Epoch 118/500:\n",
      "Train Loss: 0.0154\n",
      "Val Loss: 0.0404\n",
      "--------------------------------------------------\n"
     ]
    },
    {
     "name": "stderr",
     "output_type": "stream",
     "text": [
      "Epoch 119/500 - Training: 100%|██████████| 85/85 [00:40<00:00,  2.09it/s, Loss=1.2589]\n",
      "                                                                                       \r"
     ]
    },
    {
     "name": "stdout",
     "output_type": "stream",
     "text": [
      "\n",
      "Epoch 119/500:\n",
      "Train Loss: 0.0148\n",
      "Val Loss: 0.0406\n",
      "--------------------------------------------------\n"
     ]
    },
    {
     "name": "stderr",
     "output_type": "stream",
     "text": [
      "Epoch 120/500 - Training: 100%|██████████| 85/85 [00:40<00:00,  2.09it/s, Loss=1.2582]\n",
      "                                                                                       \r"
     ]
    },
    {
     "name": "stdout",
     "output_type": "stream",
     "text": [
      "\n",
      "Epoch 120/500:\n",
      "Train Loss: 0.0148\n",
      "Val Loss: 0.0402\n",
      "--------------------------------------------------\n"
     ]
    },
    {
     "name": "stderr",
     "output_type": "stream",
     "text": [
      "Epoch 121/500 - Training: 100%|██████████| 85/85 [00:40<00:00,  2.09it/s, Loss=1.2781]\n",
      "                                                                                       \r"
     ]
    },
    {
     "name": "stdout",
     "output_type": "stream",
     "text": [
      "\n",
      "Epoch 121/500:\n",
      "Train Loss: 0.0150\n",
      "Val Loss: 0.0419\n",
      "--------------------------------------------------\n"
     ]
    },
    {
     "name": "stderr",
     "output_type": "stream",
     "text": [
      "Epoch 122/500 - Training: 100%|██████████| 85/85 [00:40<00:00,  2.09it/s, Loss=13.5414]\n",
      "                                                                                       \r"
     ]
    },
    {
     "name": "stdout",
     "output_type": "stream",
     "text": [
      "\n",
      "Epoch 122/500:\n",
      "Train Loss: 0.1593\n",
      "Val Loss: 0.3491\n",
      "--------------------------------------------------\n"
     ]
    },
    {
     "name": "stderr",
     "output_type": "stream",
     "text": [
      "Epoch 123/500 - Training: 100%|██████████| 85/85 [00:40<00:00,  2.09it/s, Loss=18.8147]\n",
      "                                                                                       \r"
     ]
    },
    {
     "name": "stdout",
     "output_type": "stream",
     "text": [
      "\n",
      "Epoch 123/500:\n",
      "Train Loss: 0.2213\n",
      "Val Loss: 0.1538\n",
      "--------------------------------------------------\n"
     ]
    },
    {
     "name": "stderr",
     "output_type": "stream",
     "text": [
      "Epoch 124/500 - Training: 100%|██████████| 85/85 [00:40<00:00,  2.09it/s, Loss=10.1985]\n",
      "                                                                                       \r"
     ]
    },
    {
     "name": "stdout",
     "output_type": "stream",
     "text": [
      "\n",
      "Epoch 124/500:\n",
      "Train Loss: 0.1200\n",
      "Val Loss: 0.0993\n",
      "--------------------------------------------------\n"
     ]
    },
    {
     "name": "stderr",
     "output_type": "stream",
     "text": [
      "Epoch 125/500 - Training: 100%|██████████| 85/85 [00:40<00:00,  2.09it/s, Loss=7.6929]\n",
      "                                                                                       \r"
     ]
    },
    {
     "name": "stdout",
     "output_type": "stream",
     "text": [
      "\n",
      "Epoch 125/500:\n",
      "Train Loss: 0.0905\n",
      "Val Loss: 0.0993\n",
      "--------------------------------------------------\n"
     ]
    },
    {
     "name": "stderr",
     "output_type": "stream",
     "text": [
      "Epoch 126/500 - Training: 100%|██████████| 85/85 [00:40<00:00,  2.09it/s, Loss=6.7631]\n",
      "                                                                                       \r"
     ]
    },
    {
     "name": "stdout",
     "output_type": "stream",
     "text": [
      "\n",
      "Epoch 126/500:\n",
      "Train Loss: 0.0796\n",
      "Val Loss: 0.0762\n",
      "--------------------------------------------------\n"
     ]
    },
    {
     "name": "stderr",
     "output_type": "stream",
     "text": [
      "Epoch 127/500 - Training: 100%|██████████| 85/85 [00:40<00:00,  2.09it/s, Loss=5.7294]\n",
      "                                                                                       \r"
     ]
    },
    {
     "name": "stdout",
     "output_type": "stream",
     "text": [
      "\n",
      "Epoch 127/500:\n",
      "Train Loss: 0.0674\n",
      "Val Loss: 0.0678\n",
      "--------------------------------------------------\n"
     ]
    },
    {
     "name": "stderr",
     "output_type": "stream",
     "text": [
      "Epoch 128/500 - Training: 100%|██████████| 85/85 [00:40<00:00,  2.09it/s, Loss=5.3844]\n",
      "                                                                                       \r"
     ]
    },
    {
     "name": "stdout",
     "output_type": "stream",
     "text": [
      "\n",
      "Epoch 128/500:\n",
      "Train Loss: 0.0633\n",
      "Val Loss: 0.0646\n",
      "--------------------------------------------------\n"
     ]
    },
    {
     "name": "stderr",
     "output_type": "stream",
     "text": [
      "Epoch 129/500 - Training: 100%|██████████| 85/85 [00:40<00:00,  2.09it/s, Loss=5.0598]\n",
      "                                                                                       \r"
     ]
    },
    {
     "name": "stdout",
     "output_type": "stream",
     "text": [
      "\n",
      "Epoch 129/500:\n",
      "Train Loss: 0.0595\n",
      "Val Loss: 0.0612\n",
      "--------------------------------------------------\n"
     ]
    },
    {
     "name": "stderr",
     "output_type": "stream",
     "text": [
      "Epoch 130/500 - Training: 100%|██████████| 85/85 [00:40<00:00,  2.09it/s, Loss=4.6813]\n",
      "                                                                                       \r"
     ]
    },
    {
     "name": "stdout",
     "output_type": "stream",
     "text": [
      "\n",
      "Epoch 130/500:\n",
      "Train Loss: 0.0551\n",
      "Val Loss: 0.0629\n",
      "--------------------------------------------------\n"
     ]
    },
    {
     "name": "stderr",
     "output_type": "stream",
     "text": [
      "Epoch 131/500 - Training: 100%|██████████| 85/85 [00:40<00:00,  2.09it/s, Loss=4.5470]\n",
      "                                                                                       \r"
     ]
    },
    {
     "name": "stdout",
     "output_type": "stream",
     "text": [
      "\n",
      "Epoch 131/500:\n",
      "Train Loss: 0.0535\n",
      "Val Loss: 0.0568\n",
      "--------------------------------------------------\n"
     ]
    },
    {
     "name": "stderr",
     "output_type": "stream",
     "text": [
      "Epoch 132/500 - Training: 100%|██████████| 85/85 [00:40<00:00,  2.09it/s, Loss=4.3376]\n",
      "                                                                                       \r"
     ]
    },
    {
     "name": "stdout",
     "output_type": "stream",
     "text": [
      "\n",
      "Epoch 132/500:\n",
      "Train Loss: 0.0510\n",
      "Val Loss: 0.0535\n",
      "--------------------------------------------------\n"
     ]
    },
    {
     "name": "stderr",
     "output_type": "stream",
     "text": [
      "Epoch 133/500 - Training: 100%|██████████| 85/85 [00:40<00:00,  2.09it/s, Loss=4.1373]\n",
      "                                                                                       \r"
     ]
    },
    {
     "name": "stdout",
     "output_type": "stream",
     "text": [
      "\n",
      "Epoch 133/500:\n",
      "Train Loss: 0.0487\n",
      "Val Loss: 0.0531\n",
      "--------------------------------------------------\n"
     ]
    },
    {
     "name": "stderr",
     "output_type": "stream",
     "text": [
      "Epoch 134/500 - Training: 100%|██████████| 85/85 [00:40<00:00,  2.09it/s, Loss=4.0276]\n",
      "                                                                                       \r"
     ]
    },
    {
     "name": "stdout",
     "output_type": "stream",
     "text": [
      "\n",
      "Epoch 134/500:\n",
      "Train Loss: 0.0474\n",
      "Val Loss: 0.0497\n",
      "--------------------------------------------------\n"
     ]
    },
    {
     "name": "stderr",
     "output_type": "stream",
     "text": [
      "Epoch 135/500 - Training: 100%|██████████| 85/85 [00:40<00:00,  2.09it/s, Loss=3.8808]\n",
      "                                                                                       \r"
     ]
    },
    {
     "name": "stdout",
     "output_type": "stream",
     "text": [
      "\n",
      "Epoch 135/500:\n",
      "Train Loss: 0.0457\n",
      "Val Loss: 0.0511\n",
      "--------------------------------------------------\n"
     ]
    },
    {
     "name": "stderr",
     "output_type": "stream",
     "text": [
      "Epoch 136/500 - Training: 100%|██████████| 85/85 [00:40<00:00,  2.09it/s, Loss=3.7165]\n",
      "                                                                                       \r"
     ]
    },
    {
     "name": "stdout",
     "output_type": "stream",
     "text": [
      "\n",
      "Epoch 136/500:\n",
      "Train Loss: 0.0437\n",
      "Val Loss: 0.0486\n",
      "--------------------------------------------------\n"
     ]
    },
    {
     "name": "stderr",
     "output_type": "stream",
     "text": [
      "Epoch 137/500 - Training: 100%|██████████| 85/85 [00:40<00:00,  2.09it/s, Loss=3.6902]\n",
      "                                                                                       \r"
     ]
    },
    {
     "name": "stdout",
     "output_type": "stream",
     "text": [
      "\n",
      "Epoch 137/500:\n",
      "Train Loss: 0.0434\n",
      "Val Loss: 0.0486\n",
      "--------------------------------------------------\n"
     ]
    },
    {
     "name": "stderr",
     "output_type": "stream",
     "text": [
      "Epoch 138/500 - Training: 100%|██████████| 85/85 [00:40<00:00,  2.09it/s, Loss=3.4934]\n",
      "                                                                                       \r"
     ]
    },
    {
     "name": "stdout",
     "output_type": "stream",
     "text": [
      "\n",
      "Epoch 138/500:\n",
      "Train Loss: 0.0411\n",
      "Val Loss: 0.0467\n",
      "--------------------------------------------------\n"
     ]
    },
    {
     "name": "stderr",
     "output_type": "stream",
     "text": [
      "Epoch 139/500 - Training: 100%|██████████| 85/85 [00:40<00:00,  2.09it/s, Loss=3.4405]\n",
      "                                                                                       \r"
     ]
    },
    {
     "name": "stdout",
     "output_type": "stream",
     "text": [
      "\n",
      "Epoch 139/500:\n",
      "Train Loss: 0.0405\n",
      "Val Loss: 0.0474\n",
      "--------------------------------------------------\n"
     ]
    },
    {
     "name": "stderr",
     "output_type": "stream",
     "text": [
      "Epoch 140/500 - Training: 100%|██████████| 85/85 [00:40<00:00,  2.09it/s, Loss=3.2894]\n",
      "                                                                                       \r"
     ]
    },
    {
     "name": "stdout",
     "output_type": "stream",
     "text": [
      "\n",
      "Epoch 140/500:\n",
      "Train Loss: 0.0387\n",
      "Val Loss: 0.0492\n",
      "--------------------------------------------------\n"
     ]
    },
    {
     "name": "stderr",
     "output_type": "stream",
     "text": [
      "Epoch 141/500 - Training: 100%|██████████| 85/85 [00:40<00:00,  2.09it/s, Loss=3.2558]\n",
      "                                                                                       \r"
     ]
    },
    {
     "name": "stdout",
     "output_type": "stream",
     "text": [
      "\n",
      "Epoch 141/500:\n",
      "Train Loss: 0.0383\n",
      "Val Loss: 0.0454\n",
      "--------------------------------------------------\n"
     ]
    },
    {
     "name": "stderr",
     "output_type": "stream",
     "text": [
      "Epoch 142/500 - Training: 100%|██████████| 85/85 [00:40<00:00,  2.09it/s, Loss=3.2043]\n",
      "                                                                                       \r"
     ]
    },
    {
     "name": "stdout",
     "output_type": "stream",
     "text": [
      "\n",
      "Epoch 142/500:\n",
      "Train Loss: 0.0377\n",
      "Val Loss: 0.0433\n",
      "--------------------------------------------------\n"
     ]
    },
    {
     "name": "stderr",
     "output_type": "stream",
     "text": [
      "Epoch 143/500 - Training: 100%|██████████| 85/85 [00:40<00:00,  2.09it/s, Loss=3.0626]\n",
      "                                                                                       \r"
     ]
    },
    {
     "name": "stdout",
     "output_type": "stream",
     "text": [
      "\n",
      "Epoch 143/500:\n",
      "Train Loss: 0.0360\n",
      "Val Loss: 0.0423\n",
      "--------------------------------------------------\n"
     ]
    },
    {
     "name": "stderr",
     "output_type": "stream",
     "text": [
      "Epoch 144/500 - Training: 100%|██████████| 85/85 [00:40<00:00,  2.09it/s, Loss=2.9645]\n",
      "                                                                                       \r"
     ]
    },
    {
     "name": "stdout",
     "output_type": "stream",
     "text": [
      "\n",
      "Epoch 144/500:\n",
      "Train Loss: 0.0349\n",
      "Val Loss: 0.0436\n",
      "--------------------------------------------------\n"
     ]
    },
    {
     "name": "stderr",
     "output_type": "stream",
     "text": [
      "Epoch 145/500 - Training: 100%|██████████| 85/85 [00:40<00:00,  2.09it/s, Loss=2.9050]\n",
      "                                                                                       \r"
     ]
    },
    {
     "name": "stdout",
     "output_type": "stream",
     "text": [
      "\n",
      "Epoch 145/500:\n",
      "Train Loss: 0.0342\n",
      "Val Loss: 0.0425\n",
      "--------------------------------------------------\n"
     ]
    },
    {
     "name": "stderr",
     "output_type": "stream",
     "text": [
      "Epoch 146/500 - Training: 100%|██████████| 85/85 [00:40<00:00,  2.09it/s, Loss=2.8284]\n",
      "                                                                                       \r"
     ]
    },
    {
     "name": "stdout",
     "output_type": "stream",
     "text": [
      "\n",
      "Epoch 146/500:\n",
      "Train Loss: 0.0333\n",
      "Val Loss: 0.0423\n",
      "--------------------------------------------------\n"
     ]
    },
    {
     "name": "stderr",
     "output_type": "stream",
     "text": [
      "Epoch 147/500 - Training: 100%|██████████| 85/85 [00:40<00:00,  2.09it/s, Loss=2.7986]\n",
      "                                                                                       \r"
     ]
    },
    {
     "name": "stdout",
     "output_type": "stream",
     "text": [
      "\n",
      "Epoch 147/500:\n",
      "Train Loss: 0.0329\n",
      "Val Loss: 0.0393\n",
      "--------------------------------------------------\n"
     ]
    },
    {
     "name": "stderr",
     "output_type": "stream",
     "text": [
      "Epoch 148/500 - Training: 100%|██████████| 85/85 [00:40<00:00,  2.09it/s, Loss=2.6965]\n",
      "                                                                                       \r"
     ]
    },
    {
     "name": "stdout",
     "output_type": "stream",
     "text": [
      "\n",
      "Epoch 148/500:\n",
      "Train Loss: 0.0317\n",
      "Val Loss: 0.0401\n",
      "--------------------------------------------------\n"
     ]
    },
    {
     "name": "stderr",
     "output_type": "stream",
     "text": [
      "Epoch 149/500 - Training: 100%|██████████| 85/85 [00:40<00:00,  2.09it/s, Loss=2.7170]\n",
      "                                                                                       \r"
     ]
    },
    {
     "name": "stdout",
     "output_type": "stream",
     "text": [
      "\n",
      "Epoch 149/500:\n",
      "Train Loss: 0.0320\n",
      "Val Loss: 0.0388\n",
      "--------------------------------------------------\n"
     ]
    },
    {
     "name": "stderr",
     "output_type": "stream",
     "text": [
      "Epoch 150/500 - Training: 100%|██████████| 85/85 [00:40<00:00,  2.08it/s, Loss=2.6118]\n",
      "                                                                                       \r"
     ]
    },
    {
     "name": "stdout",
     "output_type": "stream",
     "text": [
      "\n",
      "Epoch 150/500:\n",
      "Train Loss: 0.0307\n",
      "Val Loss: 0.0391\n",
      "--------------------------------------------------\n"
     ]
    },
    {
     "name": "stderr",
     "output_type": "stream",
     "text": [
      "Epoch 151/500 - Training: 100%|██████████| 85/85 [00:40<00:00,  2.09it/s, Loss=2.5317]\n",
      "                                                                                       \r"
     ]
    },
    {
     "name": "stdout",
     "output_type": "stream",
     "text": [
      "\n",
      "Epoch 151/500:\n",
      "Train Loss: 0.0298\n",
      "Val Loss: 0.0399\n",
      "--------------------------------------------------\n"
     ]
    },
    {
     "name": "stderr",
     "output_type": "stream",
     "text": [
      "Epoch 152/500 - Training: 100%|██████████| 85/85 [00:40<00:00,  2.09it/s, Loss=2.5306]\n",
      "                                                                                       \r"
     ]
    },
    {
     "name": "stdout",
     "output_type": "stream",
     "text": [
      "\n",
      "Epoch 152/500:\n",
      "Train Loss: 0.0298\n",
      "Val Loss: 0.0486\n",
      "--------------------------------------------------\n"
     ]
    },
    {
     "name": "stderr",
     "output_type": "stream",
     "text": [
      "Epoch 153/500 - Training: 100%|██████████| 85/85 [00:40<00:00,  2.09it/s, Loss=3.2683]\n",
      "                                                                                       \r"
     ]
    },
    {
     "name": "stdout",
     "output_type": "stream",
     "text": [
      "\n",
      "Epoch 153/500:\n",
      "Train Loss: 0.0385\n",
      "Val Loss: 0.0397\n",
      "--------------------------------------------------\n"
     ]
    },
    {
     "name": "stderr",
     "output_type": "stream",
     "text": [
      "Epoch 154/500 - Training: 100%|██████████| 85/85 [00:40<00:00,  2.09it/s, Loss=2.4275]\n",
      "                                                                                       \r"
     ]
    },
    {
     "name": "stdout",
     "output_type": "stream",
     "text": [
      "\n",
      "Epoch 154/500:\n",
      "Train Loss: 0.0286\n",
      "Val Loss: 0.0376\n",
      "--------------------------------------------------\n"
     ]
    },
    {
     "name": "stderr",
     "output_type": "stream",
     "text": [
      "Epoch 155/500 - Training: 100%|██████████| 85/85 [00:40<00:00,  2.09it/s, Loss=2.3089]\n",
      "                                                                                       \r"
     ]
    },
    {
     "name": "stdout",
     "output_type": "stream",
     "text": [
      "\n",
      "Epoch 155/500:\n",
      "Train Loss: 0.0272\n",
      "Val Loss: 0.0378\n",
      "--------------------------------------------------\n"
     ]
    },
    {
     "name": "stderr",
     "output_type": "stream",
     "text": [
      "Epoch 156/500 - Training: 100%|██████████| 85/85 [00:40<00:00,  2.09it/s, Loss=2.2529]\n",
      "                                                                                       \r"
     ]
    },
    {
     "name": "stdout",
     "output_type": "stream",
     "text": [
      "\n",
      "Epoch 156/500:\n",
      "Train Loss: 0.0265\n",
      "Val Loss: 0.0378\n",
      "--------------------------------------------------\n"
     ]
    },
    {
     "name": "stderr",
     "output_type": "stream",
     "text": [
      "Epoch 157/500 - Training: 100%|██████████| 85/85 [00:40<00:00,  2.09it/s, Loss=2.2013]\n",
      "                                                                                       \r"
     ]
    },
    {
     "name": "stdout",
     "output_type": "stream",
     "text": [
      "\n",
      "Epoch 157/500:\n",
      "Train Loss: 0.0259\n",
      "Val Loss: 0.0386\n",
      "--------------------------------------------------\n"
     ]
    },
    {
     "name": "stderr",
     "output_type": "stream",
     "text": [
      "Epoch 158/500 - Training: 100%|██████████| 85/85 [00:40<00:00,  2.09it/s, Loss=2.1617]\n",
      "                                                                                       \r"
     ]
    },
    {
     "name": "stdout",
     "output_type": "stream",
     "text": [
      "\n",
      "Epoch 158/500:\n",
      "Train Loss: 0.0254\n",
      "Val Loss: 0.0394\n",
      "--------------------------------------------------\n"
     ]
    },
    {
     "name": "stderr",
     "output_type": "stream",
     "text": [
      "Epoch 159/500 - Training: 100%|██████████| 85/85 [00:40<00:00,  2.09it/s, Loss=2.1789]\n",
      "                                                                                       \r"
     ]
    },
    {
     "name": "stdout",
     "output_type": "stream",
     "text": [
      "\n",
      "Epoch 159/500:\n",
      "Train Loss: 0.0256\n",
      "Val Loss: 0.0373\n",
      "--------------------------------------------------\n"
     ]
    },
    {
     "name": "stderr",
     "output_type": "stream",
     "text": [
      "Epoch 160/500 - Training: 100%|██████████| 85/85 [00:40<00:00,  2.09it/s, Loss=2.0844]\n",
      "                                                                                       \r"
     ]
    },
    {
     "name": "stdout",
     "output_type": "stream",
     "text": [
      "\n",
      "Epoch 160/500:\n",
      "Train Loss: 0.0245\n",
      "Val Loss: 0.0385\n",
      "--------------------------------------------------\n"
     ]
    },
    {
     "name": "stderr",
     "output_type": "stream",
     "text": [
      "Epoch 161/500 - Training: 100%|██████████| 85/85 [00:40<00:00,  2.09it/s, Loss=2.0862]\n",
      "                                                                                       \r"
     ]
    },
    {
     "name": "stdout",
     "output_type": "stream",
     "text": [
      "\n",
      "Epoch 161/500:\n",
      "Train Loss: 0.0245\n",
      "Val Loss: 0.0363\n",
      "--------------------------------------------------\n"
     ]
    },
    {
     "name": "stderr",
     "output_type": "stream",
     "text": [
      "Epoch 162/500 - Training: 100%|██████████| 85/85 [00:40<00:00,  2.09it/s, Loss=1.9682]\n",
      "                                                                                       \r"
     ]
    },
    {
     "name": "stdout",
     "output_type": "stream",
     "text": [
      "\n",
      "Epoch 162/500:\n",
      "Train Loss: 0.0232\n",
      "Val Loss: 0.0367\n",
      "--------------------------------------------------\n"
     ]
    },
    {
     "name": "stderr",
     "output_type": "stream",
     "text": [
      "Epoch 163/500 - Training: 100%|██████████| 85/85 [00:40<00:00,  2.09it/s, Loss=1.9710]\n",
      "                                                                                       \r"
     ]
    },
    {
     "name": "stdout",
     "output_type": "stream",
     "text": [
      "\n",
      "Epoch 163/500:\n",
      "Train Loss: 0.0232\n",
      "Val Loss: 0.0383\n",
      "--------------------------------------------------\n"
     ]
    },
    {
     "name": "stderr",
     "output_type": "stream",
     "text": [
      "Epoch 164/500 - Training: 100%|██████████| 85/85 [00:40<00:00,  2.09it/s, Loss=1.9221]\n",
      "                                                                                       \r"
     ]
    },
    {
     "name": "stdout",
     "output_type": "stream",
     "text": [
      "\n",
      "Epoch 164/500:\n",
      "Train Loss: 0.0226\n",
      "Val Loss: 0.0390\n",
      "--------------------------------------------------\n"
     ]
    },
    {
     "name": "stderr",
     "output_type": "stream",
     "text": [
      "Epoch 165/500 - Training: 100%|██████████| 85/85 [00:40<00:00,  2.09it/s, Loss=1.8456]\n",
      "                                                                                       \r"
     ]
    },
    {
     "name": "stdout",
     "output_type": "stream",
     "text": [
      "\n",
      "Epoch 165/500:\n",
      "Train Loss: 0.0217\n",
      "Val Loss: 0.0377\n",
      "--------------------------------------------------\n"
     ]
    },
    {
     "name": "stderr",
     "output_type": "stream",
     "text": [
      "Epoch 166/500 - Training: 100%|██████████| 85/85 [00:40<00:00,  2.09it/s, Loss=1.8332]\n",
      "                                                                                       \r"
     ]
    },
    {
     "name": "stdout",
     "output_type": "stream",
     "text": [
      "\n",
      "Epoch 166/500:\n",
      "Train Loss: 0.0216\n",
      "Val Loss: 0.0362\n",
      "--------------------------------------------------\n"
     ]
    },
    {
     "name": "stderr",
     "output_type": "stream",
     "text": [
      "Epoch 167/500 - Training: 100%|██████████| 85/85 [00:40<00:00,  2.09it/s, Loss=1.8541]\n",
      "                                                                                       \r"
     ]
    },
    {
     "name": "stdout",
     "output_type": "stream",
     "text": [
      "\n",
      "Epoch 167/500:\n",
      "Train Loss: 0.0218\n",
      "Val Loss: 0.0362\n",
      "--------------------------------------------------\n"
     ]
    },
    {
     "name": "stderr",
     "output_type": "stream",
     "text": [
      "Epoch 168/500 - Training: 100%|██████████| 85/85 [00:40<00:00,  2.09it/s, Loss=1.7705]\n",
      "                                                                                       \r"
     ]
    },
    {
     "name": "stdout",
     "output_type": "stream",
     "text": [
      "\n",
      "Epoch 168/500:\n",
      "Train Loss: 0.0208\n",
      "Val Loss: 0.0371\n",
      "--------------------------------------------------\n"
     ]
    },
    {
     "name": "stderr",
     "output_type": "stream",
     "text": [
      "Epoch 169/500 - Training: 100%|██████████| 85/85 [00:40<00:00,  2.09it/s, Loss=1.8066]\n",
      "                                                                                       \r"
     ]
    },
    {
     "name": "stdout",
     "output_type": "stream",
     "text": [
      "\n",
      "Epoch 169/500:\n",
      "Train Loss: 0.0213\n",
      "Val Loss: 0.0363\n",
      "--------------------------------------------------\n"
     ]
    },
    {
     "name": "stderr",
     "output_type": "stream",
     "text": [
      "Epoch 170/500 - Training: 100%|██████████| 85/85 [00:40<00:00,  2.09it/s, Loss=1.7099]\n",
      "                                                                                       \r"
     ]
    },
    {
     "name": "stdout",
     "output_type": "stream",
     "text": [
      "\n",
      "Epoch 170/500:\n",
      "Train Loss: 0.0201\n",
      "Val Loss: 0.0368\n",
      "--------------------------------------------------\n"
     ]
    },
    {
     "name": "stderr",
     "output_type": "stream",
     "text": [
      "Epoch 171/500 - Training: 100%|██████████| 85/85 [00:40<00:00,  2.09it/s, Loss=1.7787]\n",
      "                                                                                       \r"
     ]
    },
    {
     "name": "stdout",
     "output_type": "stream",
     "text": [
      "\n",
      "Epoch 171/500:\n",
      "Train Loss: 0.0209\n",
      "Val Loss: 0.0362\n",
      "--------------------------------------------------\n"
     ]
    },
    {
     "name": "stderr",
     "output_type": "stream",
     "text": [
      "Epoch 172/500 - Training: 100%|██████████| 85/85 [00:40<00:00,  2.09it/s, Loss=1.7263]\n",
      "                                                                                       \r"
     ]
    },
    {
     "name": "stdout",
     "output_type": "stream",
     "text": [
      "\n",
      "Epoch 172/500:\n",
      "Train Loss: 0.0203\n",
      "Val Loss: 0.0363\n",
      "--------------------------------------------------\n"
     ]
    },
    {
     "name": "stderr",
     "output_type": "stream",
     "text": [
      "Epoch 173/500 - Training: 100%|██████████| 85/85 [00:40<00:00,  2.09it/s, Loss=1.6411]\n",
      "                                                                                       \r"
     ]
    },
    {
     "name": "stdout",
     "output_type": "stream",
     "text": [
      "\n",
      "Epoch 173/500:\n",
      "Train Loss: 0.0193\n",
      "Val Loss: 0.0361\n",
      "--------------------------------------------------\n"
     ]
    },
    {
     "name": "stderr",
     "output_type": "stream",
     "text": [
      "Epoch 174/500 - Training: 100%|██████████| 85/85 [00:40<00:00,  2.09it/s, Loss=1.5456]\n",
      "                                                                                       \r"
     ]
    },
    {
     "name": "stdout",
     "output_type": "stream",
     "text": [
      "\n",
      "Epoch 174/500:\n",
      "Train Loss: 0.0182\n",
      "Val Loss: 0.0371\n",
      "--------------------------------------------------\n"
     ]
    },
    {
     "name": "stderr",
     "output_type": "stream",
     "text": [
      "Epoch 175/500 - Training: 100%|██████████| 85/85 [00:40<00:00,  2.09it/s, Loss=1.6035]\n",
      "                                                                                       \r"
     ]
    },
    {
     "name": "stdout",
     "output_type": "stream",
     "text": [
      "\n",
      "Epoch 175/500:\n",
      "Train Loss: 0.0189\n",
      "Val Loss: 0.0367\n",
      "--------------------------------------------------\n"
     ]
    },
    {
     "name": "stderr",
     "output_type": "stream",
     "text": [
      "Epoch 176/500 - Training: 100%|██████████| 85/85 [00:40<00:00,  2.09it/s, Loss=1.5330]\n",
      "                                                                                       \r"
     ]
    },
    {
     "name": "stdout",
     "output_type": "stream",
     "text": [
      "\n",
      "Epoch 176/500:\n",
      "Train Loss: 0.0180\n",
      "Val Loss: 0.0360\n",
      "--------------------------------------------------\n"
     ]
    },
    {
     "name": "stderr",
     "output_type": "stream",
     "text": [
      "Epoch 177/500 - Training: 100%|██████████| 85/85 [00:40<00:00,  2.09it/s, Loss=1.4927]\n",
      "                                                                                       \r"
     ]
    },
    {
     "name": "stdout",
     "output_type": "stream",
     "text": [
      "\n",
      "Epoch 177/500:\n",
      "Train Loss: 0.0176\n",
      "Val Loss: 0.0373\n",
      "--------------------------------------------------\n"
     ]
    },
    {
     "name": "stderr",
     "output_type": "stream",
     "text": [
      "Epoch 178/500 - Training: 100%|██████████| 85/85 [00:40<00:00,  2.09it/s, Loss=1.4710]\n",
      "                                                                                       \r"
     ]
    },
    {
     "name": "stdout",
     "output_type": "stream",
     "text": [
      "\n",
      "Epoch 178/500:\n",
      "Train Loss: 0.0173\n",
      "Val Loss: 0.0358\n",
      "--------------------------------------------------\n"
     ]
    },
    {
     "name": "stderr",
     "output_type": "stream",
     "text": [
      "Epoch 179/500 - Training: 100%|██████████| 85/85 [00:40<00:00,  2.09it/s, Loss=1.4972]\n",
      "                                                                                       \r"
     ]
    },
    {
     "name": "stdout",
     "output_type": "stream",
     "text": [
      "\n",
      "Epoch 179/500:\n",
      "Train Loss: 0.0176\n",
      "Val Loss: 0.0370\n",
      "--------------------------------------------------\n"
     ]
    },
    {
     "name": "stderr",
     "output_type": "stream",
     "text": [
      "Epoch 180/500 - Training: 100%|██████████| 85/85 [00:40<00:00,  2.09it/s, Loss=1.4803]\n",
      "                                                                                       \r"
     ]
    },
    {
     "name": "stdout",
     "output_type": "stream",
     "text": [
      "\n",
      "Epoch 180/500:\n",
      "Train Loss: 0.0174\n",
      "Val Loss: 0.0388\n",
      "--------------------------------------------------\n"
     ]
    },
    {
     "name": "stderr",
     "output_type": "stream",
     "text": [
      "Epoch 181/500 - Training: 100%|██████████| 85/85 [00:40<00:00,  2.09it/s, Loss=1.7268]\n",
      "                                                                                       \r"
     ]
    },
    {
     "name": "stdout",
     "output_type": "stream",
     "text": [
      "\n",
      "Epoch 181/500:\n",
      "Train Loss: 0.0203\n",
      "Val Loss: 0.0369\n",
      "--------------------------------------------------\n"
     ]
    },
    {
     "name": "stderr",
     "output_type": "stream",
     "text": [
      "Epoch 182/500 - Training: 100%|██████████| 85/85 [00:40<00:00,  2.09it/s, Loss=1.5086]\n",
      "                                                                                       \r"
     ]
    },
    {
     "name": "stdout",
     "output_type": "stream",
     "text": [
      "\n",
      "Epoch 182/500:\n",
      "Train Loss: 0.0177\n",
      "Val Loss: 0.0384\n",
      "--------------------------------------------------\n"
     ]
    },
    {
     "name": "stderr",
     "output_type": "stream",
     "text": [
      "Epoch 183/500 - Training: 100%|██████████| 85/85 [00:40<00:00,  2.09it/s, Loss=1.3885]\n",
      "                                                                                       \r"
     ]
    },
    {
     "name": "stdout",
     "output_type": "stream",
     "text": [
      "\n",
      "Epoch 183/500:\n",
      "Train Loss: 0.0163\n",
      "Val Loss: 0.0350\n",
      "--------------------------------------------------\n"
     ]
    },
    {
     "name": "stderr",
     "output_type": "stream",
     "text": [
      "Epoch 184/500 - Training: 100%|██████████| 85/85 [00:40<00:00,  2.09it/s, Loss=1.3467]\n",
      "                                                                                       \r"
     ]
    },
    {
     "name": "stdout",
     "output_type": "stream",
     "text": [
      "\n",
      "Epoch 184/500:\n",
      "Train Loss: 0.0158\n",
      "Val Loss: 0.0377\n",
      "--------------------------------------------------\n"
     ]
    },
    {
     "name": "stderr",
     "output_type": "stream",
     "text": [
      "Epoch 185/500 - Training: 100%|██████████| 85/85 [00:40<00:00,  2.09it/s, Loss=1.3318]\n",
      "                                                                                       \r"
     ]
    },
    {
     "name": "stdout",
     "output_type": "stream",
     "text": [
      "\n",
      "Epoch 185/500:\n",
      "Train Loss: 0.0157\n",
      "Val Loss: 0.0365\n",
      "--------------------------------------------------\n"
     ]
    },
    {
     "name": "stderr",
     "output_type": "stream",
     "text": [
      "Epoch 186/500 - Training: 100%|██████████| 85/85 [00:40<00:00,  2.09it/s, Loss=1.2969]\n",
      "                                                                                       \r"
     ]
    },
    {
     "name": "stdout",
     "output_type": "stream",
     "text": [
      "\n",
      "Epoch 186/500:\n",
      "Train Loss: 0.0153\n",
      "Val Loss: 0.0356\n",
      "--------------------------------------------------\n"
     ]
    },
    {
     "name": "stderr",
     "output_type": "stream",
     "text": [
      "Epoch 187/500 - Training: 100%|██████████| 85/85 [00:40<00:00,  2.08it/s, Loss=1.4788]\n",
      "                                                                                       \r"
     ]
    },
    {
     "name": "stdout",
     "output_type": "stream",
     "text": [
      "\n",
      "Epoch 187/500:\n",
      "Train Loss: 0.0174\n",
      "Val Loss: 0.0360\n",
      "--------------------------------------------------\n"
     ]
    },
    {
     "name": "stderr",
     "output_type": "stream",
     "text": [
      "Epoch 188/500 - Training: 100%|██████████| 85/85 [00:40<00:00,  2.09it/s, Loss=1.3319]\n",
      "                                                                                       \r"
     ]
    },
    {
     "name": "stdout",
     "output_type": "stream",
     "text": [
      "\n",
      "Epoch 188/500:\n",
      "Train Loss: 0.0157\n",
      "Val Loss: 0.0367\n",
      "--------------------------------------------------\n"
     ]
    },
    {
     "name": "stderr",
     "output_type": "stream",
     "text": [
      "Epoch 189/500 - Training: 100%|██████████| 85/85 [00:40<00:00,  2.09it/s, Loss=1.2317]\n",
      "                                                                                       \r"
     ]
    },
    {
     "name": "stdout",
     "output_type": "stream",
     "text": [
      "\n",
      "Epoch 189/500:\n",
      "Train Loss: 0.0145\n",
      "Val Loss: 0.0367\n",
      "--------------------------------------------------\n"
     ]
    },
    {
     "name": "stderr",
     "output_type": "stream",
     "text": [
      "Epoch 190/500 - Training: 100%|██████████| 85/85 [00:40<00:00,  2.09it/s, Loss=2.2102]\n",
      "                                                                                       \r"
     ]
    },
    {
     "name": "stdout",
     "output_type": "stream",
     "text": [
      "\n",
      "Epoch 190/500:\n",
      "Train Loss: 0.0260\n",
      "Val Loss: 0.0568\n",
      "--------------------------------------------------\n"
     ]
    },
    {
     "name": "stderr",
     "output_type": "stream",
     "text": [
      "Epoch 191/500 - Training: 100%|██████████| 85/85 [00:40<00:00,  2.09it/s, Loss=2.1293]\n",
      "                                                                                       \r"
     ]
    },
    {
     "name": "stdout",
     "output_type": "stream",
     "text": [
      "\n",
      "Epoch 191/500:\n",
      "Train Loss: 0.0251\n",
      "Val Loss: 0.0354\n",
      "--------------------------------------------------\n"
     ]
    },
    {
     "name": "stderr",
     "output_type": "stream",
     "text": [
      "Epoch 192/500 - Training: 100%|██████████| 85/85 [00:40<00:00,  2.09it/s, Loss=1.3513]\n",
      "                                                                                       \r"
     ]
    },
    {
     "name": "stdout",
     "output_type": "stream",
     "text": [
      "\n",
      "Epoch 192/500:\n",
      "Train Loss: 0.0159\n",
      "Val Loss: 0.0348\n",
      "--------------------------------------------------\n"
     ]
    },
    {
     "name": "stderr",
     "output_type": "stream",
     "text": [
      "Epoch 193/500 - Training: 100%|██████████| 85/85 [00:40<00:00,  2.09it/s, Loss=1.2271]\n",
      "                                                                                       \r"
     ]
    },
    {
     "name": "stdout",
     "output_type": "stream",
     "text": [
      "\n",
      "Epoch 193/500:\n",
      "Train Loss: 0.0144\n",
      "Val Loss: 0.0352\n",
      "--------------------------------------------------\n"
     ]
    },
    {
     "name": "stderr",
     "output_type": "stream",
     "text": [
      "Epoch 194/500 - Training: 100%|██████████| 85/85 [00:40<00:00,  2.09it/s, Loss=1.1534]\n",
      "                                                                                       \r"
     ]
    },
    {
     "name": "stdout",
     "output_type": "stream",
     "text": [
      "\n",
      "Epoch 194/500:\n",
      "Train Loss: 0.0136\n",
      "Val Loss: 0.0373\n",
      "--------------------------------------------------\n"
     ]
    },
    {
     "name": "stderr",
     "output_type": "stream",
     "text": [
      "Epoch 195/500 - Training: 100%|██████████| 85/85 [00:40<00:00,  2.09it/s, Loss=1.1307]\n",
      "                                                                                       \r"
     ]
    },
    {
     "name": "stdout",
     "output_type": "stream",
     "text": [
      "\n",
      "Epoch 195/500:\n",
      "Train Loss: 0.0133\n",
      "Val Loss: 0.0354\n",
      "--------------------------------------------------\n"
     ]
    },
    {
     "name": "stderr",
     "output_type": "stream",
     "text": [
      "Epoch 196/500 - Training: 100%|██████████| 85/85 [00:40<00:00,  2.09it/s, Loss=1.1147]\n",
      "                                                                                       \r"
     ]
    },
    {
     "name": "stdout",
     "output_type": "stream",
     "text": [
      "\n",
      "Epoch 196/500:\n",
      "Train Loss: 0.0131\n",
      "Val Loss: 0.0367\n",
      "--------------------------------------------------\n"
     ]
    },
    {
     "name": "stderr",
     "output_type": "stream",
     "text": [
      "Epoch 197/500 - Training: 100%|██████████| 85/85 [00:40<00:00,  2.09it/s, Loss=1.0905]\n",
      "                                                                                       \r"
     ]
    },
    {
     "name": "stdout",
     "output_type": "stream",
     "text": [
      "\n",
      "Epoch 197/500:\n",
      "Train Loss: 0.0128\n",
      "Val Loss: 0.0373\n",
      "--------------------------------------------------\n"
     ]
    },
    {
     "name": "stderr",
     "output_type": "stream",
     "text": [
      "Epoch 198/500 - Training: 100%|██████████| 85/85 [00:40<00:00,  2.09it/s, Loss=1.0794]\n",
      "                                                                                       \r"
     ]
    },
    {
     "name": "stdout",
     "output_type": "stream",
     "text": [
      "\n",
      "Epoch 198/500:\n",
      "Train Loss: 0.0127\n",
      "Val Loss: 0.0382\n",
      "--------------------------------------------------\n"
     ]
    },
    {
     "name": "stderr",
     "output_type": "stream",
     "text": [
      "Epoch 199/500 - Training: 100%|██████████| 85/85 [00:40<00:00,  2.09it/s, Loss=1.1023]\n",
      "                                                                                       \r"
     ]
    },
    {
     "name": "stdout",
     "output_type": "stream",
     "text": [
      "\n",
      "Epoch 199/500:\n",
      "Train Loss: 0.0130\n",
      "Val Loss: 0.0391\n",
      "--------------------------------------------------\n"
     ]
    },
    {
     "name": "stderr",
     "output_type": "stream",
     "text": [
      "Epoch 200/500 - Training: 100%|██████████| 85/85 [00:40<00:00,  2.09it/s, Loss=1.1279]\n",
      "                                                                                       \r"
     ]
    },
    {
     "name": "stdout",
     "output_type": "stream",
     "text": [
      "\n",
      "Epoch 200/500:\n",
      "Train Loss: 0.0133\n",
      "Val Loss: 0.0380\n",
      "--------------------------------------------------\n"
     ]
    },
    {
     "name": "stderr",
     "output_type": "stream",
     "text": [
      "Epoch 201/500 - Training: 100%|██████████| 85/85 [00:40<00:00,  2.08it/s, Loss=1.0737]\n",
      "                                                                                       \r"
     ]
    },
    {
     "name": "stdout",
     "output_type": "stream",
     "text": [
      "\n",
      "Epoch 201/500:\n",
      "Train Loss: 0.0126\n",
      "Val Loss: 0.0381\n",
      "--------------------------------------------------\n"
     ]
    },
    {
     "name": "stderr",
     "output_type": "stream",
     "text": [
      "Epoch 202/500 - Training: 100%|██████████| 85/85 [00:40<00:00,  2.09it/s, Loss=1.0304]\n",
      "                                                                                       \r"
     ]
    },
    {
     "name": "stdout",
     "output_type": "stream",
     "text": [
      "\n",
      "Epoch 202/500:\n",
      "Train Loss: 0.0121\n",
      "Val Loss: 0.0394\n",
      "--------------------------------------------------\n"
     ]
    },
    {
     "name": "stderr",
     "output_type": "stream",
     "text": [
      "Epoch 203/500 - Training: 100%|██████████| 85/85 [00:40<00:00,  2.09it/s, Loss=1.0476]\n",
      "                                                                                       \r"
     ]
    },
    {
     "name": "stdout",
     "output_type": "stream",
     "text": [
      "\n",
      "Epoch 203/500:\n",
      "Train Loss: 0.0123\n",
      "Val Loss: 0.0416\n",
      "--------------------------------------------------\n"
     ]
    },
    {
     "name": "stderr",
     "output_type": "stream",
     "text": [
      "Epoch 204/500 - Training: 100%|██████████| 85/85 [00:40<00:00,  2.09it/s, Loss=1.1893]\n",
      "                                                                                       \r"
     ]
    },
    {
     "name": "stdout",
     "output_type": "stream",
     "text": [
      "\n",
      "Epoch 204/500:\n",
      "Train Loss: 0.0140\n",
      "Val Loss: 0.0388\n",
      "--------------------------------------------------\n"
     ]
    },
    {
     "name": "stderr",
     "output_type": "stream",
     "text": [
      "Epoch 205/500 - Training: 100%|██████████| 85/85 [00:40<00:00,  2.09it/s, Loss=1.0904]\n",
      "                                                                                       \r"
     ]
    },
    {
     "name": "stdout",
     "output_type": "stream",
     "text": [
      "\n",
      "Epoch 205/500:\n",
      "Train Loss: 0.0128\n",
      "Val Loss: 0.0380\n",
      "--------------------------------------------------\n"
     ]
    },
    {
     "name": "stderr",
     "output_type": "stream",
     "text": [
      "Epoch 206/500 - Training: 100%|██████████| 85/85 [00:40<00:00,  2.09it/s, Loss=1.0606]\n",
      "                                                                                       \r"
     ]
    },
    {
     "name": "stdout",
     "output_type": "stream",
     "text": [
      "\n",
      "Epoch 206/500:\n",
      "Train Loss: 0.0125\n",
      "Val Loss: 0.0373\n",
      "--------------------------------------------------\n"
     ]
    },
    {
     "name": "stderr",
     "output_type": "stream",
     "text": [
      "Epoch 207/500 - Training: 100%|██████████| 85/85 [00:40<00:00,  2.09it/s, Loss=1.0101]\n",
      "                                                                                       \r"
     ]
    },
    {
     "name": "stdout",
     "output_type": "stream",
     "text": [
      "\n",
      "Epoch 207/500:\n",
      "Train Loss: 0.0119\n",
      "Val Loss: 0.0383\n",
      "--------------------------------------------------\n"
     ]
    },
    {
     "name": "stderr",
     "output_type": "stream",
     "text": [
      "Epoch 208/500 - Training: 100%|██████████| 85/85 [00:40<00:00,  2.09it/s, Loss=0.9917]\n",
      "                                                                                       \r"
     ]
    },
    {
     "name": "stdout",
     "output_type": "stream",
     "text": [
      "\n",
      "Epoch 208/500:\n",
      "Train Loss: 0.0117\n",
      "Val Loss: 0.0400\n",
      "--------------------------------------------------\n"
     ]
    },
    {
     "name": "stderr",
     "output_type": "stream",
     "text": [
      "Epoch 209/500 - Training: 100%|██████████| 85/85 [00:40<00:00,  2.09it/s, Loss=1.0385]\n",
      "                                                                                       \r"
     ]
    },
    {
     "name": "stdout",
     "output_type": "stream",
     "text": [
      "\n",
      "Epoch 209/500:\n",
      "Train Loss: 0.0122\n",
      "Val Loss: 0.0396\n",
      "--------------------------------------------------\n"
     ]
    },
    {
     "name": "stderr",
     "output_type": "stream",
     "text": [
      "Epoch 210/500 - Training: 100%|██████████| 85/85 [00:40<00:00,  2.09it/s, Loss=1.0824]\n",
      "                                                                                       \r"
     ]
    },
    {
     "name": "stdout",
     "output_type": "stream",
     "text": [
      "\n",
      "Epoch 210/500:\n",
      "Train Loss: 0.0127\n",
      "Val Loss: 0.0390\n",
      "--------------------------------------------------\n"
     ]
    },
    {
     "name": "stderr",
     "output_type": "stream",
     "text": [
      "Epoch 211/500 - Training: 100%|██████████| 85/85 [00:40<00:00,  2.09it/s, Loss=1.0670]\n",
      "                                                                                       \r"
     ]
    },
    {
     "name": "stdout",
     "output_type": "stream",
     "text": [
      "\n",
      "Epoch 211/500:\n",
      "Train Loss: 0.0126\n",
      "Val Loss: 0.0390\n",
      "--------------------------------------------------\n"
     ]
    },
    {
     "name": "stderr",
     "output_type": "stream",
     "text": [
      "Epoch 212/500 - Training: 100%|██████████| 85/85 [00:40<00:00,  2.09it/s, Loss=1.1595]\n",
      "                                                                                       \r"
     ]
    },
    {
     "name": "stdout",
     "output_type": "stream",
     "text": [
      "\n",
      "Epoch 212/500:\n",
      "Train Loss: 0.0136\n",
      "Val Loss: 0.0397\n",
      "--------------------------------------------------\n"
     ]
    },
    {
     "name": "stderr",
     "output_type": "stream",
     "text": [
      "Epoch 213/500 - Training: 100%|██████████| 85/85 [00:40<00:00,  2.09it/s, Loss=1.4891]\n",
      "                                                                                       \r"
     ]
    },
    {
     "name": "stdout",
     "output_type": "stream",
     "text": [
      "\n",
      "Epoch 213/500:\n",
      "Train Loss: 0.0175\n",
      "Val Loss: 0.0457\n",
      "--------------------------------------------------\n"
     ]
    },
    {
     "name": "stderr",
     "output_type": "stream",
     "text": [
      "Epoch 214/500 - Training: 100%|██████████| 85/85 [00:40<00:00,  2.09it/s, Loss=2.8876]\n",
      "                                                                                       \r"
     ]
    },
    {
     "name": "stdout",
     "output_type": "stream",
     "text": [
      "\n",
      "Epoch 214/500:\n",
      "Train Loss: 0.0340\n",
      "Val Loss: 0.0364\n",
      "--------------------------------------------------\n"
     ]
    },
    {
     "name": "stderr",
     "output_type": "stream",
     "text": [
      "Epoch 215/500 - Training: 100%|██████████| 85/85 [00:40<00:00,  2.09it/s, Loss=1.4175]\n",
      "                                                                                       \r"
     ]
    },
    {
     "name": "stdout",
     "output_type": "stream",
     "text": [
      "\n",
      "Epoch 215/500:\n",
      "Train Loss: 0.0167\n",
      "Val Loss: 0.0364\n",
      "--------------------------------------------------\n"
     ]
    },
    {
     "name": "stderr",
     "output_type": "stream",
     "text": [
      "Epoch 216/500 - Training: 100%|██████████| 85/85 [00:40<00:00,  2.09it/s, Loss=1.1419]\n",
      "                                                                                       \r"
     ]
    },
    {
     "name": "stdout",
     "output_type": "stream",
     "text": [
      "\n",
      "Epoch 216/500:\n",
      "Train Loss: 0.0134\n",
      "Val Loss: 0.0362\n",
      "--------------------------------------------------\n"
     ]
    },
    {
     "name": "stderr",
     "output_type": "stream",
     "text": [
      "Epoch 217/500 - Training: 100%|██████████| 85/85 [00:40<00:00,  2.09it/s, Loss=1.0140]\n",
      "                                                                                       \r"
     ]
    },
    {
     "name": "stdout",
     "output_type": "stream",
     "text": [
      "\n",
      "Epoch 217/500:\n",
      "Train Loss: 0.0119\n",
      "Val Loss: 0.0375\n",
      "--------------------------------------------------\n"
     ]
    },
    {
     "name": "stderr",
     "output_type": "stream",
     "text": [
      "Epoch 218/500 - Training: 100%|██████████| 85/85 [00:40<00:00,  2.09it/s, Loss=0.9613]\n",
      "                                                                                       \r"
     ]
    },
    {
     "name": "stdout",
     "output_type": "stream",
     "text": [
      "\n",
      "Epoch 218/500:\n",
      "Train Loss: 0.0113\n",
      "Val Loss: 0.0391\n",
      "--------------------------------------------------\n"
     ]
    },
    {
     "name": "stderr",
     "output_type": "stream",
     "text": [
      "Epoch 219/500 - Training: 100%|██████████| 85/85 [00:40<00:00,  2.09it/s, Loss=0.9222]\n",
      "                                                                                       \r"
     ]
    },
    {
     "name": "stdout",
     "output_type": "stream",
     "text": [
      "\n",
      "Epoch 219/500:\n",
      "Train Loss: 0.0108\n",
      "Val Loss: 0.0395\n",
      "--------------------------------------------------\n"
     ]
    },
    {
     "name": "stderr",
     "output_type": "stream",
     "text": [
      "Epoch 220/500 - Training: 100%|██████████| 85/85 [00:40<00:00,  2.09it/s, Loss=0.8873]\n",
      "                                                                                       \r"
     ]
    },
    {
     "name": "stdout",
     "output_type": "stream",
     "text": [
      "\n",
      "Epoch 220/500:\n",
      "Train Loss: 0.0104\n",
      "Val Loss: 0.0403\n",
      "--------------------------------------------------\n"
     ]
    },
    {
     "name": "stderr",
     "output_type": "stream",
     "text": [
      "Epoch 221/500 - Training: 100%|██████████| 85/85 [00:40<00:00,  2.09it/s, Loss=0.8679]\n",
      "                                                                                       \r"
     ]
    },
    {
     "name": "stdout",
     "output_type": "stream",
     "text": [
      "\n",
      "Epoch 221/500:\n",
      "Train Loss: 0.0102\n",
      "Val Loss: 0.0412\n",
      "--------------------------------------------------\n"
     ]
    },
    {
     "name": "stderr",
     "output_type": "stream",
     "text": [
      "Epoch 222/500 - Training: 100%|██████████| 85/85 [00:40<00:00,  2.09it/s, Loss=0.8609]\n",
      "                                                                                       \r"
     ]
    },
    {
     "name": "stdout",
     "output_type": "stream",
     "text": [
      "\n",
      "Epoch 222/500:\n",
      "Train Loss: 0.0101\n",
      "Val Loss: 0.0414\n",
      "--------------------------------------------------\n"
     ]
    },
    {
     "name": "stderr",
     "output_type": "stream",
     "text": [
      "Epoch 223/500 - Training: 100%|██████████| 85/85 [00:40<00:00,  2.09it/s, Loss=0.8599]\n",
      "                                                                                       \r"
     ]
    },
    {
     "name": "stdout",
     "output_type": "stream",
     "text": [
      "\n",
      "Epoch 223/500:\n",
      "Train Loss: 0.0101\n",
      "Val Loss: 0.0410\n",
      "--------------------------------------------------\n"
     ]
    },
    {
     "name": "stderr",
     "output_type": "stream",
     "text": [
      "Epoch 224/500 - Training: 100%|██████████| 85/85 [00:40<00:00,  2.09it/s, Loss=0.8490]\n",
      "                                                                                       \r"
     ]
    },
    {
     "name": "stdout",
     "output_type": "stream",
     "text": [
      "\n",
      "Epoch 224/500:\n",
      "Train Loss: 0.0100\n",
      "Val Loss: 0.0414\n",
      "--------------------------------------------------\n"
     ]
    },
    {
     "name": "stderr",
     "output_type": "stream",
     "text": [
      "Epoch 225/500 - Training: 100%|██████████| 85/85 [00:40<00:00,  2.09it/s, Loss=0.8339]\n",
      "                                                                                       \r"
     ]
    },
    {
     "name": "stdout",
     "output_type": "stream",
     "text": [
      "\n",
      "Epoch 225/500:\n",
      "Train Loss: 0.0098\n",
      "Val Loss: 0.0428\n",
      "--------------------------------------------------\n"
     ]
    },
    {
     "name": "stderr",
     "output_type": "stream",
     "text": [
      "Epoch 226/500 - Training: 100%|██████████| 85/85 [00:40<00:00,  2.09it/s, Loss=0.8271]\n",
      "                                                                                       \r"
     ]
    },
    {
     "name": "stdout",
     "output_type": "stream",
     "text": [
      "\n",
      "Epoch 226/500:\n",
      "Train Loss: 0.0097\n",
      "Val Loss: 0.0413\n",
      "--------------------------------------------------\n"
     ]
    },
    {
     "name": "stderr",
     "output_type": "stream",
     "text": [
      "Epoch 227/500 - Training: 100%|██████████| 85/85 [00:40<00:00,  2.09it/s, Loss=0.8634]\n",
      "                                                                                       \r"
     ]
    },
    {
     "name": "stdout",
     "output_type": "stream",
     "text": [
      "\n",
      "Epoch 227/500:\n",
      "Train Loss: 0.0102\n",
      "Val Loss: 0.0410\n",
      "--------------------------------------------------\n"
     ]
    },
    {
     "name": "stderr",
     "output_type": "stream",
     "text": [
      "Epoch 228/500 - Training: 100%|██████████| 85/85 [00:40<00:00,  2.09it/s, Loss=0.8748]\n",
      "                                                                                       \r"
     ]
    },
    {
     "name": "stdout",
     "output_type": "stream",
     "text": [
      "\n",
      "Epoch 228/500:\n",
      "Train Loss: 0.0103\n",
      "Val Loss: 0.0437\n",
      "--------------------------------------------------\n"
     ]
    },
    {
     "name": "stderr",
     "output_type": "stream",
     "text": [
      "Epoch 229/500 - Training: 100%|██████████| 85/85 [00:40<00:00,  2.09it/s, Loss=0.9263]\n",
      "                                                                                       \r"
     ]
    },
    {
     "name": "stdout",
     "output_type": "stream",
     "text": [
      "\n",
      "Epoch 229/500:\n",
      "Train Loss: 0.0109\n",
      "Val Loss: 0.0413\n",
      "--------------------------------------------------\n"
     ]
    },
    {
     "name": "stderr",
     "output_type": "stream",
     "text": [
      "Epoch 230/500 - Training: 100%|██████████| 85/85 [00:40<00:00,  2.09it/s, Loss=0.8879]\n",
      "                                                                                       \r"
     ]
    },
    {
     "name": "stdout",
     "output_type": "stream",
     "text": [
      "\n",
      "Epoch 230/500:\n",
      "Train Loss: 0.0104\n",
      "Val Loss: 0.0414\n",
      "--------------------------------------------------\n"
     ]
    },
    {
     "name": "stderr",
     "output_type": "stream",
     "text": [
      "Epoch 231/500 - Training: 100%|██████████| 85/85 [00:40<00:00,  2.09it/s, Loss=0.8960]\n",
      "                                                                                       \r"
     ]
    },
    {
     "name": "stdout",
     "output_type": "stream",
     "text": [
      "\n",
      "Epoch 231/500:\n",
      "Train Loss: 0.0105\n",
      "Val Loss: 0.0388\n",
      "--------------------------------------------------\n"
     ]
    },
    {
     "name": "stderr",
     "output_type": "stream",
     "text": [
      "Epoch 232/500 - Training: 100%|██████████| 85/85 [00:40<00:00,  2.09it/s, Loss=0.8671]\n",
      "                                                                                       \r"
     ]
    },
    {
     "name": "stdout",
     "output_type": "stream",
     "text": [
      "\n",
      "Epoch 232/500:\n",
      "Train Loss: 0.0102\n",
      "Val Loss: 0.0418\n",
      "--------------------------------------------------\n"
     ]
    },
    {
     "name": "stderr",
     "output_type": "stream",
     "text": [
      "Epoch 233/500 - Training: 100%|██████████| 85/85 [00:40<00:00,  2.09it/s, Loss=0.8258]\n",
      "                                                                                       \r"
     ]
    },
    {
     "name": "stdout",
     "output_type": "stream",
     "text": [
      "\n",
      "Epoch 233/500:\n",
      "Train Loss: 0.0097\n",
      "Val Loss: 0.0431\n",
      "--------------------------------------------------\n"
     ]
    },
    {
     "name": "stderr",
     "output_type": "stream",
     "text": [
      "Epoch 234/500 - Training: 100%|██████████| 85/85 [00:40<00:00,  2.09it/s, Loss=0.8058]\n",
      "                                                                                       \r"
     ]
    },
    {
     "name": "stdout",
     "output_type": "stream",
     "text": [
      "\n",
      "Epoch 234/500:\n",
      "Train Loss: 0.0095\n",
      "Val Loss: 0.0417\n",
      "--------------------------------------------------\n"
     ]
    },
    {
     "name": "stderr",
     "output_type": "stream",
     "text": [
      "Epoch 235/500 - Training: 100%|██████████| 85/85 [00:40<00:00,  2.09it/s, Loss=0.8363]\n",
      "                                                                                       \r"
     ]
    },
    {
     "name": "stdout",
     "output_type": "stream",
     "text": [
      "\n",
      "Epoch 235/500:\n",
      "Train Loss: 0.0098\n",
      "Val Loss: 0.0414\n",
      "--------------------------------------------------\n"
     ]
    },
    {
     "name": "stderr",
     "output_type": "stream",
     "text": [
      "Epoch 236/500 - Training: 100%|██████████| 85/85 [00:40<00:00,  2.09it/s, Loss=0.8173]\n",
      "                                                                                       \r"
     ]
    },
    {
     "name": "stdout",
     "output_type": "stream",
     "text": [
      "\n",
      "Epoch 236/500:\n",
      "Train Loss: 0.0096\n",
      "Val Loss: 0.0426\n",
      "--------------------------------------------------\n"
     ]
    },
    {
     "name": "stderr",
     "output_type": "stream",
     "text": [
      "Epoch 237/500 - Training: 100%|██████████| 85/85 [00:40<00:00,  2.09it/s, Loss=0.8230]\n",
      "                                                                                       \r"
     ]
    },
    {
     "name": "stdout",
     "output_type": "stream",
     "text": [
      "\n",
      "Epoch 237/500:\n",
      "Train Loss: 0.0097\n",
      "Val Loss: 0.0404\n",
      "--------------------------------------------------\n"
     ]
    },
    {
     "name": "stderr",
     "output_type": "stream",
     "text": [
      "Epoch 238/500 - Training: 100%|██████████| 85/85 [00:40<00:00,  2.09it/s, Loss=0.8793]\n",
      "                                                                                       \r"
     ]
    },
    {
     "name": "stdout",
     "output_type": "stream",
     "text": [
      "\n",
      "Epoch 238/500:\n",
      "Train Loss: 0.0103\n",
      "Val Loss: 0.0418\n",
      "--------------------------------------------------\n"
     ]
    },
    {
     "name": "stderr",
     "output_type": "stream",
     "text": [
      "Epoch 239/500 - Training: 100%|██████████| 85/85 [00:40<00:00,  2.09it/s, Loss=0.8759]\n",
      "                                                                                       \r"
     ]
    },
    {
     "name": "stdout",
     "output_type": "stream",
     "text": [
      "\n",
      "Epoch 239/500:\n",
      "Train Loss: 0.0103\n",
      "Val Loss: 0.0428\n",
      "--------------------------------------------------\n"
     ]
    },
    {
     "name": "stderr",
     "output_type": "stream",
     "text": [
      "Epoch 240/500 - Training: 100%|██████████| 85/85 [00:40<00:00,  2.09it/s, Loss=0.8116]\n",
      "                                                                                       \r"
     ]
    },
    {
     "name": "stdout",
     "output_type": "stream",
     "text": [
      "\n",
      "Epoch 240/500:\n",
      "Train Loss: 0.0095\n",
      "Val Loss: 0.0435\n",
      "--------------------------------------------------\n"
     ]
    },
    {
     "name": "stderr",
     "output_type": "stream",
     "text": [
      "Epoch 241/500 - Training: 100%|██████████| 85/85 [00:40<00:00,  2.09it/s, Loss=0.7920]\n",
      "                                                                                       \r"
     ]
    },
    {
     "name": "stdout",
     "output_type": "stream",
     "text": [
      "\n",
      "Epoch 241/500:\n",
      "Train Loss: 0.0093\n",
      "Val Loss: 0.0417\n",
      "--------------------------------------------------\n"
     ]
    },
    {
     "name": "stderr",
     "output_type": "stream",
     "text": [
      "Epoch 242/500 - Training: 100%|██████████| 85/85 [00:40<00:00,  2.09it/s, Loss=0.7985]\n",
      "                                                                                       \r"
     ]
    },
    {
     "name": "stdout",
     "output_type": "stream",
     "text": [
      "\n",
      "Epoch 242/500:\n",
      "Train Loss: 0.0094\n",
      "Val Loss: 0.0413\n",
      "--------------------------------------------------\n"
     ]
    },
    {
     "name": "stderr",
     "output_type": "stream",
     "text": [
      "Epoch 243/500 - Training: 100%|██████████| 85/85 [00:40<00:00,  2.09it/s, Loss=0.7634]\n",
      "                                                                                       \r"
     ]
    },
    {
     "name": "stdout",
     "output_type": "stream",
     "text": [
      "\n",
      "Epoch 243/500:\n",
      "Train Loss: 0.0090\n",
      "Val Loss: 0.0439\n",
      "--------------------------------------------------\n"
     ]
    },
    {
     "name": "stderr",
     "output_type": "stream",
     "text": [
      "Epoch 244/500 - Training: 100%|██████████| 85/85 [00:40<00:00,  2.09it/s, Loss=0.8303]\n",
      "                                                                                       \r"
     ]
    },
    {
     "name": "stdout",
     "output_type": "stream",
     "text": [
      "\n",
      "Epoch 244/500:\n",
      "Train Loss: 0.0098\n",
      "Val Loss: 0.0401\n",
      "--------------------------------------------------\n"
     ]
    },
    {
     "name": "stderr",
     "output_type": "stream",
     "text": [
      "Epoch 245/500 - Training: 100%|██████████| 85/85 [00:40<00:00,  2.09it/s, Loss=0.8045]\n",
      "                                                                                       \r"
     ]
    },
    {
     "name": "stdout",
     "output_type": "stream",
     "text": [
      "\n",
      "Epoch 245/500:\n",
      "Train Loss: 0.0095\n",
      "Val Loss: 0.0425\n",
      "--------------------------------------------------\n"
     ]
    },
    {
     "name": "stderr",
     "output_type": "stream",
     "text": [
      "Epoch 246/500 - Training: 100%|██████████| 85/85 [00:40<00:00,  2.08it/s, Loss=0.8090]\n",
      "                                                                                       \r"
     ]
    },
    {
     "name": "stdout",
     "output_type": "stream",
     "text": [
      "\n",
      "Epoch 246/500:\n",
      "Train Loss: 0.0095\n",
      "Val Loss: 0.0449\n",
      "--------------------------------------------------\n"
     ]
    },
    {
     "name": "stderr",
     "output_type": "stream",
     "text": [
      "Epoch 247/500 - Training: 100%|██████████| 85/85 [00:40<00:00,  2.09it/s, Loss=19.3691]\n",
      "                                                                                       \r"
     ]
    },
    {
     "name": "stdout",
     "output_type": "stream",
     "text": [
      "\n",
      "Epoch 247/500:\n",
      "Train Loss: 0.2279\n",
      "Val Loss: 0.1535\n",
      "--------------------------------------------------\n"
     ]
    },
    {
     "name": "stderr",
     "output_type": "stream",
     "text": [
      "Epoch 248/500 - Training: 100%|██████████| 85/85 [00:40<00:00,  2.09it/s, Loss=9.6737]\n",
      "                                                                                       \r"
     ]
    },
    {
     "name": "stdout",
     "output_type": "stream",
     "text": [
      "\n",
      "Epoch 248/500:\n",
      "Train Loss: 0.1138\n",
      "Val Loss: 0.0952\n",
      "--------------------------------------------------\n"
     ]
    },
    {
     "name": "stderr",
     "output_type": "stream",
     "text": [
      "Epoch 249/500 - Training: 100%|██████████| 85/85 [00:40<00:00,  2.09it/s, Loss=7.5942]\n",
      "                                                                                       \r"
     ]
    },
    {
     "name": "stdout",
     "output_type": "stream",
     "text": [
      "\n",
      "Epoch 249/500:\n",
      "Train Loss: 0.0893\n",
      "Val Loss: 0.0821\n",
      "--------------------------------------------------\n"
     ]
    },
    {
     "name": "stderr",
     "output_type": "stream",
     "text": [
      "Epoch 250/500 - Training: 100%|██████████| 85/85 [00:40<00:00,  2.09it/s, Loss=6.0336]\n",
      "                                                                                       \r"
     ]
    },
    {
     "name": "stdout",
     "output_type": "stream",
     "text": [
      "\n",
      "Epoch 250/500:\n",
      "Train Loss: 0.0710\n",
      "Val Loss: 0.0710\n",
      "--------------------------------------------------\n"
     ]
    },
    {
     "name": "stderr",
     "output_type": "stream",
     "text": [
      "Epoch 251/500 - Training: 100%|██████████| 85/85 [00:40<00:00,  2.09it/s, Loss=5.4763]\n",
      "                                                                                       \r"
     ]
    },
    {
     "name": "stdout",
     "output_type": "stream",
     "text": [
      "\n",
      "Epoch 251/500:\n",
      "Train Loss: 0.0644\n",
      "Val Loss: 0.0679\n",
      "--------------------------------------------------\n"
     ]
    },
    {
     "name": "stderr",
     "output_type": "stream",
     "text": [
      "Epoch 252/500 - Training: 100%|██████████| 85/85 [00:40<00:00,  2.09it/s, Loss=5.0474]\n",
      "                                                                                       \r"
     ]
    },
    {
     "name": "stdout",
     "output_type": "stream",
     "text": [
      "\n",
      "Epoch 252/500:\n",
      "Train Loss: 0.0594\n",
      "Val Loss: 0.0617\n",
      "--------------------------------------------------\n"
     ]
    },
    {
     "name": "stderr",
     "output_type": "stream",
     "text": [
      "Epoch 253/500 - Training: 100%|██████████| 85/85 [00:40<00:00,  2.09it/s, Loss=4.8088]\n",
      "                                                                                       \r"
     ]
    },
    {
     "name": "stdout",
     "output_type": "stream",
     "text": [
      "\n",
      "Epoch 253/500:\n",
      "Train Loss: 0.0566\n",
      "Val Loss: 0.0602\n",
      "--------------------------------------------------\n"
     ]
    },
    {
     "name": "stderr",
     "output_type": "stream",
     "text": [
      "Epoch 254/500 - Training: 100%|██████████| 85/85 [00:40<00:00,  2.09it/s, Loss=4.6418]\n",
      "                                                                                       \r"
     ]
    },
    {
     "name": "stdout",
     "output_type": "stream",
     "text": [
      "\n",
      "Epoch 254/500:\n",
      "Train Loss: 0.0546\n",
      "Val Loss: 0.0576\n",
      "--------------------------------------------------\n"
     ]
    },
    {
     "name": "stderr",
     "output_type": "stream",
     "text": [
      "Epoch 255/500 - Training: 100%|██████████| 85/85 [00:40<00:00,  2.09it/s, Loss=4.4273]\n",
      "                                                                                       \r"
     ]
    },
    {
     "name": "stdout",
     "output_type": "stream",
     "text": [
      "\n",
      "Epoch 255/500:\n",
      "Train Loss: 0.0521\n",
      "Val Loss: 0.0556\n",
      "--------------------------------------------------\n"
     ]
    },
    {
     "name": "stderr",
     "output_type": "stream",
     "text": [
      "Epoch 256/500 - Training: 100%|██████████| 85/85 [00:40<00:00,  2.09it/s, Loss=4.1809]\n",
      "                                                                                       \r"
     ]
    },
    {
     "name": "stdout",
     "output_type": "stream",
     "text": [
      "\n",
      "Epoch 256/500:\n",
      "Train Loss: 0.0492\n",
      "Val Loss: 0.0536\n",
      "--------------------------------------------------\n"
     ]
    },
    {
     "name": "stderr",
     "output_type": "stream",
     "text": [
      "Epoch 257/500 - Training: 100%|██████████| 85/85 [00:40<00:00,  2.09it/s, Loss=4.0801]\n",
      "                                                                                       \r"
     ]
    },
    {
     "name": "stdout",
     "output_type": "stream",
     "text": [
      "\n",
      "Epoch 257/500:\n",
      "Train Loss: 0.0480\n",
      "Val Loss: 0.0524\n",
      "--------------------------------------------------\n"
     ]
    },
    {
     "name": "stderr",
     "output_type": "stream",
     "text": [
      "Epoch 258/500 - Training: 100%|██████████| 85/85 [00:40<00:00,  2.09it/s, Loss=3.9350]\n",
      "                                                                                       \r"
     ]
    },
    {
     "name": "stdout",
     "output_type": "stream",
     "text": [
      "\n",
      "Epoch 258/500:\n",
      "Train Loss: 0.0463\n",
      "Val Loss: 0.0514\n",
      "--------------------------------------------------\n"
     ]
    },
    {
     "name": "stderr",
     "output_type": "stream",
     "text": [
      "Epoch 259/500 - Training: 100%|██████████| 85/85 [00:40<00:00,  2.09it/s, Loss=3.8064]\n",
      "                                                                                       \r"
     ]
    },
    {
     "name": "stdout",
     "output_type": "stream",
     "text": [
      "\n",
      "Epoch 259/500:\n",
      "Train Loss: 0.0448\n",
      "Val Loss: 0.0518\n",
      "--------------------------------------------------\n"
     ]
    },
    {
     "name": "stderr",
     "output_type": "stream",
     "text": [
      "Epoch 260/500 - Training: 100%|██████████| 85/85 [00:40<00:00,  2.09it/s, Loss=3.7191]\n",
      "                                                                                       \r"
     ]
    },
    {
     "name": "stdout",
     "output_type": "stream",
     "text": [
      "\n",
      "Epoch 260/500:\n",
      "Train Loss: 0.0438\n",
      "Val Loss: 0.0493\n",
      "--------------------------------------------------\n"
     ]
    },
    {
     "name": "stderr",
     "output_type": "stream",
     "text": [
      "Epoch 261/500 - Training: 100%|██████████| 85/85 [00:40<00:00,  2.09it/s, Loss=3.6019]\n",
      "                                                                                       \r"
     ]
    },
    {
     "name": "stdout",
     "output_type": "stream",
     "text": [
      "\n",
      "Epoch 261/500:\n",
      "Train Loss: 0.0424\n",
      "Val Loss: 0.0489\n",
      "--------------------------------------------------\n"
     ]
    },
    {
     "name": "stderr",
     "output_type": "stream",
     "text": [
      "Epoch 262/500 - Training: 100%|██████████| 85/85 [00:40<00:00,  2.09it/s, Loss=3.5510]\n",
      "                                                                                       \r"
     ]
    },
    {
     "name": "stdout",
     "output_type": "stream",
     "text": [
      "\n",
      "Epoch 262/500:\n",
      "Train Loss: 0.0418\n",
      "Val Loss: 0.0513\n",
      "--------------------------------------------------\n"
     ]
    },
    {
     "name": "stderr",
     "output_type": "stream",
     "text": [
      "Epoch 263/500 - Training: 100%|██████████| 85/85 [00:40<00:00,  2.09it/s, Loss=3.4326]\n",
      "                                                                                       \r"
     ]
    },
    {
     "name": "stdout",
     "output_type": "stream",
     "text": [
      "\n",
      "Epoch 263/500:\n",
      "Train Loss: 0.0404\n",
      "Val Loss: 0.0483\n",
      "--------------------------------------------------\n"
     ]
    },
    {
     "name": "stderr",
     "output_type": "stream",
     "text": [
      "Epoch 264/500 - Training: 100%|██████████| 85/85 [00:40<00:00,  2.09it/s, Loss=3.3647]\n",
      "                                                                                       \r"
     ]
    },
    {
     "name": "stdout",
     "output_type": "stream",
     "text": [
      "\n",
      "Epoch 264/500:\n",
      "Train Loss: 0.0396\n",
      "Val Loss: 0.0471\n",
      "--------------------------------------------------\n"
     ]
    },
    {
     "name": "stderr",
     "output_type": "stream",
     "text": [
      "Epoch 265/500 - Training: 100%|██████████| 85/85 [00:40<00:00,  2.09it/s, Loss=3.3005]\n",
      "                                                                                       \r"
     ]
    },
    {
     "name": "stdout",
     "output_type": "stream",
     "text": [
      "\n",
      "Epoch 265/500:\n",
      "Train Loss: 0.0388\n",
      "Val Loss: 0.0477\n",
      "--------------------------------------------------\n"
     ]
    },
    {
     "name": "stderr",
     "output_type": "stream",
     "text": [
      "Epoch 266/500 - Training: 100%|██████████| 85/85 [00:40<00:00,  2.09it/s, Loss=3.1827]\n",
      "                                                                                       \r"
     ]
    },
    {
     "name": "stdout",
     "output_type": "stream",
     "text": [
      "\n",
      "Epoch 266/500:\n",
      "Train Loss: 0.0374\n",
      "Val Loss: 0.0463\n",
      "--------------------------------------------------\n"
     ]
    },
    {
     "name": "stderr",
     "output_type": "stream",
     "text": [
      "Epoch 267/500 - Training: 100%|██████████| 85/85 [00:40<00:00,  2.09it/s, Loss=3.1058]\n",
      "                                                                                       \r"
     ]
    },
    {
     "name": "stdout",
     "output_type": "stream",
     "text": [
      "\n",
      "Epoch 267/500:\n",
      "Train Loss: 0.0365\n",
      "Val Loss: 0.0470\n",
      "--------------------------------------------------\n"
     ]
    },
    {
     "name": "stderr",
     "output_type": "stream",
     "text": [
      "Epoch 268/500 - Training: 100%|██████████| 85/85 [00:40<00:00,  2.09it/s, Loss=3.0699]\n",
      "                                                                                       \r"
     ]
    },
    {
     "name": "stdout",
     "output_type": "stream",
     "text": [
      "\n",
      "Epoch 268/500:\n",
      "Train Loss: 0.0361\n",
      "Val Loss: 0.0449\n",
      "--------------------------------------------------\n"
     ]
    },
    {
     "name": "stderr",
     "output_type": "stream",
     "text": [
      "Epoch 269/500 - Training: 100%|██████████| 85/85 [00:40<00:00,  2.09it/s, Loss=2.9848]\n",
      "                                                                                       \r"
     ]
    },
    {
     "name": "stdout",
     "output_type": "stream",
     "text": [
      "\n",
      "Epoch 269/500:\n",
      "Train Loss: 0.0351\n",
      "Val Loss: 0.0473\n",
      "--------------------------------------------------\n"
     ]
    },
    {
     "name": "stderr",
     "output_type": "stream",
     "text": [
      "Epoch 270/500 - Training: 100%|██████████| 85/85 [00:40<00:00,  2.09it/s, Loss=2.9210]\n",
      "                                                                                       \r"
     ]
    },
    {
     "name": "stdout",
     "output_type": "stream",
     "text": [
      "\n",
      "Epoch 270/500:\n",
      "Train Loss: 0.0344\n",
      "Val Loss: 0.0449\n",
      "--------------------------------------------------\n"
     ]
    },
    {
     "name": "stderr",
     "output_type": "stream",
     "text": [
      "Epoch 271/500 - Training: 100%|██████████| 85/85 [00:40<00:00,  2.09it/s, Loss=2.8205]\n",
      "                                                                                       \r"
     ]
    },
    {
     "name": "stdout",
     "output_type": "stream",
     "text": [
      "\n",
      "Epoch 271/500:\n",
      "Train Loss: 0.0332\n",
      "Val Loss: 0.0504\n",
      "--------------------------------------------------\n"
     ]
    },
    {
     "name": "stderr",
     "output_type": "stream",
     "text": [
      "Epoch 272/500 - Training: 100%|██████████| 85/85 [00:40<00:00,  2.09it/s, Loss=2.8850]\n",
      "                                                                                       \r"
     ]
    },
    {
     "name": "stdout",
     "output_type": "stream",
     "text": [
      "\n",
      "Epoch 272/500:\n",
      "Train Loss: 0.0339\n",
      "Val Loss: 0.0436\n",
      "--------------------------------------------------\n"
     ]
    },
    {
     "name": "stderr",
     "output_type": "stream",
     "text": [
      "Epoch 273/500 - Training: 100%|██████████| 85/85 [00:40<00:00,  2.09it/s, Loss=2.7075]\n",
      "                                                                                       \r"
     ]
    },
    {
     "name": "stdout",
     "output_type": "stream",
     "text": [
      "\n",
      "Epoch 273/500:\n",
      "Train Loss: 0.0319\n",
      "Val Loss: 0.0432\n",
      "--------------------------------------------------\n"
     ]
    },
    {
     "name": "stderr",
     "output_type": "stream",
     "text": [
      "Epoch 274/500 - Training: 100%|██████████| 85/85 [00:40<00:00,  2.09it/s, Loss=2.6686]\n",
      "                                                                                       \r"
     ]
    },
    {
     "name": "stdout",
     "output_type": "stream",
     "text": [
      "\n",
      "Epoch 274/500:\n",
      "Train Loss: 0.0314\n",
      "Val Loss: 0.0431\n",
      "--------------------------------------------------\n"
     ]
    },
    {
     "name": "stderr",
     "output_type": "stream",
     "text": [
      "Epoch 275/500 - Training: 100%|██████████| 85/85 [00:40<00:00,  2.09it/s, Loss=2.5789]\n",
      "                                                                                       \r"
     ]
    },
    {
     "name": "stdout",
     "output_type": "stream",
     "text": [
      "\n",
      "Epoch 275/500:\n",
      "Train Loss: 0.0303\n",
      "Val Loss: 0.0430\n",
      "--------------------------------------------------\n"
     ]
    },
    {
     "name": "stderr",
     "output_type": "stream",
     "text": [
      "Epoch 276/500 - Training: 100%|██████████| 85/85 [00:40<00:00,  2.09it/s, Loss=2.6242]\n",
      "                                                                                       \r"
     ]
    },
    {
     "name": "stdout",
     "output_type": "stream",
     "text": [
      "\n",
      "Epoch 276/500:\n",
      "Train Loss: 0.0309\n",
      "Val Loss: 0.0440\n",
      "--------------------------------------------------\n"
     ]
    },
    {
     "name": "stderr",
     "output_type": "stream",
     "text": [
      "Epoch 277/500 - Training: 100%|██████████| 85/85 [00:40<00:00,  2.09it/s, Loss=2.4912]\n",
      "                                                                                       \r"
     ]
    },
    {
     "name": "stdout",
     "output_type": "stream",
     "text": [
      "\n",
      "Epoch 277/500:\n",
      "Train Loss: 0.0293\n",
      "Val Loss: 0.0428\n",
      "--------------------------------------------------\n"
     ]
    },
    {
     "name": "stderr",
     "output_type": "stream",
     "text": [
      "Epoch 278/500 - Training: 100%|██████████| 85/85 [00:40<00:00,  2.09it/s, Loss=2.4085]\n",
      "                                                                                       \r"
     ]
    },
    {
     "name": "stdout",
     "output_type": "stream",
     "text": [
      "\n",
      "Epoch 278/500:\n",
      "Train Loss: 0.0283\n",
      "Val Loss: 0.0429\n",
      "--------------------------------------------------\n"
     ]
    },
    {
     "name": "stderr",
     "output_type": "stream",
     "text": [
      "Epoch 279/500 - Training: 100%|██████████| 85/85 [00:40<00:00,  2.09it/s, Loss=2.3596]\n",
      "                                                                                       \r"
     ]
    },
    {
     "name": "stdout",
     "output_type": "stream",
     "text": [
      "\n",
      "Epoch 279/500:\n",
      "Train Loss: 0.0278\n",
      "Val Loss: 0.0425\n",
      "--------------------------------------------------\n"
     ]
    },
    {
     "name": "stderr",
     "output_type": "stream",
     "text": [
      "Epoch 280/500 - Training: 100%|██████████| 85/85 [00:40<00:00,  2.09it/s, Loss=2.3582]\n",
      "                                                                                       \r"
     ]
    },
    {
     "name": "stdout",
     "output_type": "stream",
     "text": [
      "\n",
      "Epoch 280/500:\n",
      "Train Loss: 0.0277\n",
      "Val Loss: 0.0426\n",
      "--------------------------------------------------\n"
     ]
    },
    {
     "name": "stderr",
     "output_type": "stream",
     "text": [
      "Epoch 281/500 - Training: 100%|██████████| 85/85 [00:40<00:00,  2.08it/s, Loss=2.4214]\n",
      "                                                                                       \r"
     ]
    },
    {
     "name": "stdout",
     "output_type": "stream",
     "text": [
      "\n",
      "Epoch 281/500:\n",
      "Train Loss: 0.0285\n",
      "Val Loss: 0.0430\n",
      "--------------------------------------------------\n"
     ]
    },
    {
     "name": "stderr",
     "output_type": "stream",
     "text": [
      "Epoch 282/500 - Training: 100%|██████████| 85/85 [00:40<00:00,  2.09it/s, Loss=2.2588]\n",
      "                                                                                       \r"
     ]
    },
    {
     "name": "stdout",
     "output_type": "stream",
     "text": [
      "\n",
      "Epoch 282/500:\n",
      "Train Loss: 0.0266\n",
      "Val Loss: 0.0422\n",
      "--------------------------------------------------\n"
     ]
    },
    {
     "name": "stderr",
     "output_type": "stream",
     "text": [
      "Epoch 283/500 - Training: 100%|██████████| 85/85 [00:40<00:00,  2.09it/s, Loss=2.1962]\n",
      "                                                                                       \r"
     ]
    },
    {
     "name": "stdout",
     "output_type": "stream",
     "text": [
      "\n",
      "Epoch 283/500:\n",
      "Train Loss: 0.0258\n",
      "Val Loss: 0.0405\n",
      "--------------------------------------------------\n"
     ]
    },
    {
     "name": "stderr",
     "output_type": "stream",
     "text": [
      "Epoch 284/500 - Training: 100%|██████████| 85/85 [00:40<00:00,  2.09it/s, Loss=2.1128]\n",
      "                                                                                       \r"
     ]
    },
    {
     "name": "stdout",
     "output_type": "stream",
     "text": [
      "\n",
      "Epoch 284/500:\n",
      "Train Loss: 0.0249\n",
      "Val Loss: 0.0421\n",
      "--------------------------------------------------\n"
     ]
    },
    {
     "name": "stderr",
     "output_type": "stream",
     "text": [
      "Epoch 285/500 - Training: 100%|██████████| 85/85 [00:40<00:00,  2.09it/s, Loss=2.0805]\n",
      "                                                                                       \r"
     ]
    },
    {
     "name": "stdout",
     "output_type": "stream",
     "text": [
      "\n",
      "Epoch 285/500:\n",
      "Train Loss: 0.0245\n",
      "Val Loss: 0.0421\n",
      "--------------------------------------------------\n"
     ]
    },
    {
     "name": "stderr",
     "output_type": "stream",
     "text": [
      "Epoch 286/500 - Training: 100%|██████████| 85/85 [00:40<00:00,  2.09it/s, Loss=2.1422]\n",
      "                                                                                       \r"
     ]
    },
    {
     "name": "stdout",
     "output_type": "stream",
     "text": [
      "\n",
      "Epoch 286/500:\n",
      "Train Loss: 0.0252\n",
      "Val Loss: 0.0415\n",
      "--------------------------------------------------\n"
     ]
    },
    {
     "name": "stderr",
     "output_type": "stream",
     "text": [
      "Epoch 287/500 - Training: 100%|██████████| 85/85 [00:40<00:00,  2.09it/s, Loss=2.0417]\n",
      "                                                                                       \r"
     ]
    },
    {
     "name": "stdout",
     "output_type": "stream",
     "text": [
      "\n",
      "Epoch 287/500:\n",
      "Train Loss: 0.0240\n",
      "Val Loss: 0.0410\n",
      "--------------------------------------------------\n"
     ]
    },
    {
     "name": "stderr",
     "output_type": "stream",
     "text": [
      "Epoch 288/500 - Training: 100%|██████████| 85/85 [00:40<00:00,  2.09it/s, Loss=1.9654]\n",
      "                                                                                       \r"
     ]
    },
    {
     "name": "stdout",
     "output_type": "stream",
     "text": [
      "\n",
      "Epoch 288/500:\n",
      "Train Loss: 0.0231\n",
      "Val Loss: 0.0418\n",
      "--------------------------------------------------\n"
     ]
    },
    {
     "name": "stderr",
     "output_type": "stream",
     "text": [
      "Epoch 289/500 - Training: 100%|██████████| 85/85 [00:40<00:00,  2.09it/s, Loss=1.9434]\n",
      "                                                                                       \r"
     ]
    },
    {
     "name": "stdout",
     "output_type": "stream",
     "text": [
      "\n",
      "Epoch 289/500:\n",
      "Train Loss: 0.0229\n",
      "Val Loss: 0.0414\n",
      "--------------------------------------------------\n"
     ]
    },
    {
     "name": "stderr",
     "output_type": "stream",
     "text": [
      "Epoch 290/500 - Training: 100%|██████████| 85/85 [00:40<00:00,  2.09it/s, Loss=1.8828]\n",
      "                                                                                       \r"
     ]
    },
    {
     "name": "stdout",
     "output_type": "stream",
     "text": [
      "\n",
      "Epoch 290/500:\n",
      "Train Loss: 0.0222\n",
      "Val Loss: 0.0434\n",
      "--------------------------------------------------\n"
     ]
    },
    {
     "name": "stderr",
     "output_type": "stream",
     "text": [
      "Epoch 291/500 - Training: 100%|██████████| 85/85 [00:40<00:00,  2.09it/s, Loss=1.8698]\n",
      "                                                                                       \r"
     ]
    },
    {
     "name": "stdout",
     "output_type": "stream",
     "text": [
      "\n",
      "Epoch 291/500:\n",
      "Train Loss: 0.0220\n",
      "Val Loss: 0.0416\n",
      "--------------------------------------------------\n"
     ]
    },
    {
     "name": "stderr",
     "output_type": "stream",
     "text": [
      "Epoch 292/500 - Training: 100%|██████████| 85/85 [00:40<00:00,  2.09it/s, Loss=1.8369]\n",
      "                                                                                       \r"
     ]
    },
    {
     "name": "stdout",
     "output_type": "stream",
     "text": [
      "\n",
      "Epoch 292/500:\n",
      "Train Loss: 0.0216\n",
      "Val Loss: 0.0458\n",
      "--------------------------------------------------\n"
     ]
    },
    {
     "name": "stderr",
     "output_type": "stream",
     "text": [
      "Epoch 293/500 - Training: 100%|██████████| 85/85 [00:40<00:00,  2.09it/s, Loss=1.9117]\n",
      "                                                                                       \r"
     ]
    },
    {
     "name": "stdout",
     "output_type": "stream",
     "text": [
      "\n",
      "Epoch 293/500:\n",
      "Train Loss: 0.0225\n",
      "Val Loss: 0.0429\n",
      "--------------------------------------------------\n"
     ]
    },
    {
     "name": "stderr",
     "output_type": "stream",
     "text": [
      "Epoch 294/500 - Training: 100%|██████████| 85/85 [00:40<00:00,  2.09it/s, Loss=1.7956]\n",
      "                                                                                       \r"
     ]
    },
    {
     "name": "stdout",
     "output_type": "stream",
     "text": [
      "\n",
      "Epoch 294/500:\n",
      "Train Loss: 0.0211\n",
      "Val Loss: 0.0412\n",
      "--------------------------------------------------\n"
     ]
    },
    {
     "name": "stderr",
     "output_type": "stream",
     "text": [
      "Epoch 295/500 - Training: 100%|██████████| 85/85 [00:40<00:00,  2.09it/s, Loss=1.7256]\n",
      "                                                                                       \r"
     ]
    },
    {
     "name": "stdout",
     "output_type": "stream",
     "text": [
      "\n",
      "Epoch 295/500:\n",
      "Train Loss: 0.0203\n",
      "Val Loss: 0.0427\n",
      "--------------------------------------------------\n"
     ]
    },
    {
     "name": "stderr",
     "output_type": "stream",
     "text": [
      "Epoch 296/500 - Training: 100%|██████████| 85/85 [00:40<00:00,  2.09it/s, Loss=1.6794]\n",
      "                                                                                       \r"
     ]
    },
    {
     "name": "stdout",
     "output_type": "stream",
     "text": [
      "\n",
      "Epoch 296/500:\n",
      "Train Loss: 0.0198\n",
      "Val Loss: 0.0431\n",
      "--------------------------------------------------\n"
     ]
    },
    {
     "name": "stderr",
     "output_type": "stream",
     "text": [
      "Epoch 297/500 - Training: 100%|██████████| 85/85 [00:40<00:00,  2.09it/s, Loss=1.6649]\n",
      "                                                                                       \r"
     ]
    },
    {
     "name": "stdout",
     "output_type": "stream",
     "text": [
      "\n",
      "Epoch 297/500:\n",
      "Train Loss: 0.0196\n",
      "Val Loss: 0.0435\n",
      "--------------------------------------------------\n"
     ]
    },
    {
     "name": "stderr",
     "output_type": "stream",
     "text": [
      "Epoch 298/500 - Training: 100%|██████████| 85/85 [00:40<00:00,  2.09it/s, Loss=1.6399]\n",
      "                                                                                       \r"
     ]
    },
    {
     "name": "stdout",
     "output_type": "stream",
     "text": [
      "\n",
      "Epoch 298/500:\n",
      "Train Loss: 0.0193\n",
      "Val Loss: 0.0429\n",
      "--------------------------------------------------\n"
     ]
    },
    {
     "name": "stderr",
     "output_type": "stream",
     "text": [
      "Epoch 299/500 - Training: 100%|██████████| 85/85 [00:40<00:00,  2.09it/s, Loss=1.5978]\n",
      "                                                                                       \r"
     ]
    },
    {
     "name": "stdout",
     "output_type": "stream",
     "text": [
      "\n",
      "Epoch 299/500:\n",
      "Train Loss: 0.0188\n",
      "Val Loss: 0.0427\n",
      "--------------------------------------------------\n"
     ]
    },
    {
     "name": "stderr",
     "output_type": "stream",
     "text": [
      "Epoch 300/500 - Training: 100%|██████████| 85/85 [00:40<00:00,  2.09it/s, Loss=1.5660]\n",
      "                                                                                       \r"
     ]
    },
    {
     "name": "stdout",
     "output_type": "stream",
     "text": [
      "\n",
      "Epoch 300/500:\n",
      "Train Loss: 0.0184\n",
      "Val Loss: 0.0408\n",
      "--------------------------------------------------\n"
     ]
    },
    {
     "name": "stderr",
     "output_type": "stream",
     "text": [
      "Epoch 301/500 - Training: 100%|██████████| 85/85 [00:40<00:00,  2.09it/s, Loss=1.6650]\n",
      "                                                                                       \r"
     ]
    },
    {
     "name": "stdout",
     "output_type": "stream",
     "text": [
      "\n",
      "Epoch 301/500:\n",
      "Train Loss: 0.0196\n",
      "Val Loss: 0.0422\n",
      "--------------------------------------------------\n"
     ]
    },
    {
     "name": "stderr",
     "output_type": "stream",
     "text": [
      "Epoch 302/500 - Training: 100%|██████████| 85/85 [00:40<00:00,  2.09it/s, Loss=1.5674]\n",
      "                                                                                       \r"
     ]
    },
    {
     "name": "stdout",
     "output_type": "stream",
     "text": [
      "\n",
      "Epoch 302/500:\n",
      "Train Loss: 0.0184\n",
      "Val Loss: 0.0428\n",
      "--------------------------------------------------\n"
     ]
    },
    {
     "name": "stderr",
     "output_type": "stream",
     "text": [
      "Epoch 303/500 - Training: 100%|██████████| 85/85 [00:40<00:00,  2.09it/s, Loss=1.4811]\n",
      "                                                                                       \r"
     ]
    },
    {
     "name": "stdout",
     "output_type": "stream",
     "text": [
      "\n",
      "Epoch 303/500:\n",
      "Train Loss: 0.0174\n",
      "Val Loss: 0.0431\n",
      "--------------------------------------------------\n"
     ]
    },
    {
     "name": "stderr",
     "output_type": "stream",
     "text": [
      "Epoch 304/500 - Training: 100%|██████████| 85/85 [00:40<00:00,  2.09it/s, Loss=1.5191]\n",
      "                                                                                       \r"
     ]
    },
    {
     "name": "stdout",
     "output_type": "stream",
     "text": [
      "\n",
      "Epoch 304/500:\n",
      "Train Loss: 0.0179\n",
      "Val Loss: 0.0425\n",
      "--------------------------------------------------\n"
     ]
    },
    {
     "name": "stderr",
     "output_type": "stream",
     "text": [
      "Epoch 305/500 - Training: 100%|██████████| 85/85 [00:40<00:00,  2.09it/s, Loss=17.3996]\n",
      "                                                                                       \r"
     ]
    },
    {
     "name": "stdout",
     "output_type": "stream",
     "text": [
      "\n",
      "Epoch 305/500:\n",
      "Train Loss: 0.2047\n",
      "Val Loss: 0.1128\n",
      "--------------------------------------------------\n"
     ]
    },
    {
     "name": "stderr",
     "output_type": "stream",
     "text": [
      "Epoch 306/500 - Training: 100%|██████████| 85/85 [00:40<00:00,  2.09it/s, Loss=7.4422]\n",
      "                                                                                       \r"
     ]
    },
    {
     "name": "stdout",
     "output_type": "stream",
     "text": [
      "\n",
      "Epoch 306/500:\n",
      "Train Loss: 0.0876\n",
      "Val Loss: 0.0758\n",
      "--------------------------------------------------\n"
     ]
    },
    {
     "name": "stderr",
     "output_type": "stream",
     "text": [
      "Epoch 307/500 - Training: 100%|██████████| 85/85 [00:40<00:00,  2.09it/s, Loss=5.8378]\n",
      "                                                                                       \r"
     ]
    },
    {
     "name": "stdout",
     "output_type": "stream",
     "text": [
      "\n",
      "Epoch 307/500:\n",
      "Train Loss: 0.0687\n",
      "Val Loss: 0.0679\n",
      "--------------------------------------------------\n"
     ]
    },
    {
     "name": "stderr",
     "output_type": "stream",
     "text": [
      "Epoch 308/500 - Training: 100%|██████████| 85/85 [00:40<00:00,  2.09it/s, Loss=5.1864]\n",
      "                                                                                       \r"
     ]
    },
    {
     "name": "stdout",
     "output_type": "stream",
     "text": [
      "\n",
      "Epoch 308/500:\n",
      "Train Loss: 0.0610\n",
      "Val Loss: 0.0609\n",
      "--------------------------------------------------\n"
     ]
    },
    {
     "name": "stderr",
     "output_type": "stream",
     "text": [
      "Epoch 309/500 - Training: 100%|██████████| 85/85 [00:40<00:00,  2.09it/s, Loss=4.7625]\n",
      "                                                                                       \r"
     ]
    },
    {
     "name": "stdout",
     "output_type": "stream",
     "text": [
      "\n",
      "Epoch 309/500:\n",
      "Train Loss: 0.0560\n",
      "Val Loss: 0.0591\n",
      "--------------------------------------------------\n"
     ]
    },
    {
     "name": "stderr",
     "output_type": "stream",
     "text": [
      "Epoch 310/500 - Training: 100%|██████████| 85/85 [00:40<00:00,  2.09it/s, Loss=4.5610]\n",
      "                                                                                       \r"
     ]
    },
    {
     "name": "stdout",
     "output_type": "stream",
     "text": [
      "\n",
      "Epoch 310/500:\n",
      "Train Loss: 0.0537\n",
      "Val Loss: 0.0567\n",
      "--------------------------------------------------\n"
     ]
    },
    {
     "name": "stderr",
     "output_type": "stream",
     "text": [
      "Epoch 311/500 - Training: 100%|██████████| 85/85 [00:40<00:00,  2.09it/s, Loss=4.2224]\n",
      "                                                                                       \r"
     ]
    },
    {
     "name": "stdout",
     "output_type": "stream",
     "text": [
      "\n",
      "Epoch 311/500:\n",
      "Train Loss: 0.0497\n",
      "Val Loss: 0.0545\n",
      "--------------------------------------------------\n"
     ]
    },
    {
     "name": "stderr",
     "output_type": "stream",
     "text": [
      "Epoch 312/500 - Training: 100%|██████████| 85/85 [00:40<00:00,  2.09it/s, Loss=4.0764]\n",
      "                                                                                       \r"
     ]
    },
    {
     "name": "stdout",
     "output_type": "stream",
     "text": [
      "\n",
      "Epoch 312/500:\n",
      "Train Loss: 0.0480\n",
      "Val Loss: 0.0563\n",
      "--------------------------------------------------\n"
     ]
    },
    {
     "name": "stderr",
     "output_type": "stream",
     "text": [
      "Epoch 313/500 - Training: 100%|██████████| 85/85 [00:40<00:00,  2.09it/s, Loss=3.9012]\n",
      "                                                                                       \r"
     ]
    },
    {
     "name": "stdout",
     "output_type": "stream",
     "text": [
      "\n",
      "Epoch 313/500:\n",
      "Train Loss: 0.0459\n",
      "Val Loss: 0.0503\n",
      "--------------------------------------------------\n"
     ]
    },
    {
     "name": "stderr",
     "output_type": "stream",
     "text": [
      "Epoch 314/500 - Training: 100%|██████████| 85/85 [00:40<00:00,  2.09it/s, Loss=3.7506]\n",
      "                                                                                       \r"
     ]
    },
    {
     "name": "stdout",
     "output_type": "stream",
     "text": [
      "\n",
      "Epoch 314/500:\n",
      "Train Loss: 0.0441\n",
      "Val Loss: 0.0488\n",
      "--------------------------------------------------\n"
     ]
    },
    {
     "name": "stderr",
     "output_type": "stream",
     "text": [
      "Epoch 315/500 - Training: 100%|██████████| 85/85 [00:40<00:00,  2.09it/s, Loss=3.6359]\n",
      "                                                                                       \r"
     ]
    },
    {
     "name": "stdout",
     "output_type": "stream",
     "text": [
      "\n",
      "Epoch 315/500:\n",
      "Train Loss: 0.0428\n",
      "Val Loss: 0.0466\n",
      "--------------------------------------------------\n"
     ]
    },
    {
     "name": "stderr",
     "output_type": "stream",
     "text": [
      "Epoch 316/500 - Training: 100%|██████████| 85/85 [00:40<00:00,  2.09it/s, Loss=3.4514]\n",
      "                                                                                       \r"
     ]
    },
    {
     "name": "stdout",
     "output_type": "stream",
     "text": [
      "\n",
      "Epoch 316/500:\n",
      "Train Loss: 0.0406\n",
      "Val Loss: 0.0468\n",
      "--------------------------------------------------\n"
     ]
    },
    {
     "name": "stderr",
     "output_type": "stream",
     "text": [
      "Epoch 317/500 - Training: 100%|██████████| 85/85 [00:40<00:00,  2.09it/s, Loss=3.3795]\n",
      "                                                                                       \r"
     ]
    },
    {
     "name": "stdout",
     "output_type": "stream",
     "text": [
      "\n",
      "Epoch 317/500:\n",
      "Train Loss: 0.0398\n",
      "Val Loss: 0.0454\n",
      "--------------------------------------------------\n"
     ]
    },
    {
     "name": "stderr",
     "output_type": "stream",
     "text": [
      "Epoch 318/500 - Training: 100%|██████████| 85/85 [00:40<00:00,  2.09it/s, Loss=3.2623]\n",
      "                                                                                       \r"
     ]
    },
    {
     "name": "stdout",
     "output_type": "stream",
     "text": [
      "\n",
      "Epoch 318/500:\n",
      "Train Loss: 0.0384\n",
      "Val Loss: 0.0446\n",
      "--------------------------------------------------\n"
     ]
    },
    {
     "name": "stderr",
     "output_type": "stream",
     "text": [
      "Epoch 319/500 - Training: 100%|██████████| 85/85 [00:40<00:00,  2.09it/s, Loss=3.1361]\n",
      "                                                                                       \r"
     ]
    },
    {
     "name": "stdout",
     "output_type": "stream",
     "text": [
      "\n",
      "Epoch 319/500:\n",
      "Train Loss: 0.0369\n",
      "Val Loss: 0.0433\n",
      "--------------------------------------------------\n"
     ]
    },
    {
     "name": "stderr",
     "output_type": "stream",
     "text": [
      "Epoch 320/500 - Training: 100%|██████████| 85/85 [00:40<00:00,  2.09it/s, Loss=3.0223]\n",
      "                                                                                       \r"
     ]
    },
    {
     "name": "stdout",
     "output_type": "stream",
     "text": [
      "\n",
      "Epoch 320/500:\n",
      "Train Loss: 0.0356\n",
      "Val Loss: 0.0441\n",
      "--------------------------------------------------\n"
     ]
    },
    {
     "name": "stderr",
     "output_type": "stream",
     "text": [
      "Epoch 321/500 - Training: 100%|██████████| 85/85 [00:40<00:00,  2.09it/s, Loss=2.9377]\n",
      "                                                                                       \r"
     ]
    },
    {
     "name": "stdout",
     "output_type": "stream",
     "text": [
      "\n",
      "Epoch 321/500:\n",
      "Train Loss: 0.0346\n",
      "Val Loss: 0.0444\n",
      "--------------------------------------------------\n"
     ]
    },
    {
     "name": "stderr",
     "output_type": "stream",
     "text": [
      "Epoch 322/500 - Training: 100%|██████████| 85/85 [00:40<00:00,  2.09it/s, Loss=2.8468]\n",
      "                                                                                       \r"
     ]
    },
    {
     "name": "stdout",
     "output_type": "stream",
     "text": [
      "\n",
      "Epoch 322/500:\n",
      "Train Loss: 0.0335\n",
      "Val Loss: 0.0420\n",
      "--------------------------------------------------\n"
     ]
    },
    {
     "name": "stderr",
     "output_type": "stream",
     "text": [
      "Epoch 323/500 - Training: 100%|██████████| 85/85 [00:40<00:00,  2.09it/s, Loss=2.7991]\n",
      "                                                                                       \r"
     ]
    },
    {
     "name": "stdout",
     "output_type": "stream",
     "text": [
      "\n",
      "Epoch 323/500:\n",
      "Train Loss: 0.0329\n",
      "Val Loss: 0.0414\n",
      "--------------------------------------------------\n"
     ]
    },
    {
     "name": "stderr",
     "output_type": "stream",
     "text": [
      "Epoch 324/500 - Training: 100%|██████████| 85/85 [00:40<00:00,  2.09it/s, Loss=2.7186]\n",
      "                                                                                       \r"
     ]
    },
    {
     "name": "stdout",
     "output_type": "stream",
     "text": [
      "\n",
      "Epoch 324/500:\n",
      "Train Loss: 0.0320\n",
      "Val Loss: 0.0429\n",
      "--------------------------------------------------\n"
     ]
    },
    {
     "name": "stderr",
     "output_type": "stream",
     "text": [
      "Epoch 325/500 - Training: 100%|██████████| 85/85 [00:40<00:00,  2.08it/s, Loss=2.5954]\n",
      "                                                                                       \r"
     ]
    },
    {
     "name": "stdout",
     "output_type": "stream",
     "text": [
      "\n",
      "Epoch 325/500:\n",
      "Train Loss: 0.0305\n",
      "Val Loss: 0.0411\n",
      "--------------------------------------------------\n"
     ]
    },
    {
     "name": "stderr",
     "output_type": "stream",
     "text": [
      "Epoch 326/500 - Training: 100%|██████████| 85/85 [00:40<00:00,  2.09it/s, Loss=2.5133]\n",
      "                                                                                       \r"
     ]
    },
    {
     "name": "stdout",
     "output_type": "stream",
     "text": [
      "\n",
      "Epoch 326/500:\n",
      "Train Loss: 0.0296\n",
      "Val Loss: 0.0404\n",
      "--------------------------------------------------\n"
     ]
    },
    {
     "name": "stderr",
     "output_type": "stream",
     "text": [
      "Epoch 327/500 - Training: 100%|██████████| 85/85 [00:40<00:00,  2.09it/s, Loss=2.4892]\n",
      "                                                                                       \r"
     ]
    },
    {
     "name": "stdout",
     "output_type": "stream",
     "text": [
      "\n",
      "Epoch 327/500:\n",
      "Train Loss: 0.0293\n",
      "Val Loss: 0.0406\n",
      "--------------------------------------------------\n"
     ]
    },
    {
     "name": "stderr",
     "output_type": "stream",
     "text": [
      "Epoch 328/500 - Training: 100%|██████████| 85/85 [00:40<00:00,  2.09it/s, Loss=2.5191]\n",
      "                                                                                       \r"
     ]
    },
    {
     "name": "stdout",
     "output_type": "stream",
     "text": [
      "\n",
      "Epoch 328/500:\n",
      "Train Loss: 0.0296\n",
      "Val Loss: 0.0400\n",
      "--------------------------------------------------\n"
     ]
    },
    {
     "name": "stderr",
     "output_type": "stream",
     "text": [
      "Epoch 329/500 - Training: 100%|██████████| 85/85 [00:40<00:00,  2.09it/s, Loss=2.3490]\n",
      "                                                                                       \r"
     ]
    },
    {
     "name": "stdout",
     "output_type": "stream",
     "text": [
      "\n",
      "Epoch 329/500:\n",
      "Train Loss: 0.0276\n",
      "Val Loss: 0.0402\n",
      "--------------------------------------------------\n"
     ]
    },
    {
     "name": "stderr",
     "output_type": "stream",
     "text": [
      "Epoch 330/500 - Training: 100%|██████████| 85/85 [00:40<00:00,  2.09it/s, Loss=2.2768]\n",
      "                                                                                       \r"
     ]
    },
    {
     "name": "stdout",
     "output_type": "stream",
     "text": [
      "\n",
      "Epoch 330/500:\n",
      "Train Loss: 0.0268\n",
      "Val Loss: 0.0398\n",
      "--------------------------------------------------\n"
     ]
    },
    {
     "name": "stderr",
     "output_type": "stream",
     "text": [
      "Epoch 331/500 - Training: 100%|██████████| 85/85 [00:40<00:00,  2.09it/s, Loss=2.2161]\n",
      "                                                                                       \r"
     ]
    },
    {
     "name": "stdout",
     "output_type": "stream",
     "text": [
      "\n",
      "Epoch 331/500:\n",
      "Train Loss: 0.0261\n",
      "Val Loss: 0.0413\n",
      "--------------------------------------------------\n"
     ]
    },
    {
     "name": "stderr",
     "output_type": "stream",
     "text": [
      "Epoch 332/500 - Training: 100%|██████████| 85/85 [00:40<00:00,  2.09it/s, Loss=2.1899]\n",
      "                                                                                       \r"
     ]
    },
    {
     "name": "stdout",
     "output_type": "stream",
     "text": [
      "\n",
      "Epoch 332/500:\n",
      "Train Loss: 0.0258\n",
      "Val Loss: 0.0397\n",
      "--------------------------------------------------\n"
     ]
    },
    {
     "name": "stderr",
     "output_type": "stream",
     "text": [
      "Epoch 333/500 - Training: 100%|██████████| 85/85 [00:40<00:00,  2.09it/s, Loss=2.1158]\n",
      "                                                                                       \r"
     ]
    },
    {
     "name": "stdout",
     "output_type": "stream",
     "text": [
      "\n",
      "Epoch 333/500:\n",
      "Train Loss: 0.0249\n",
      "Val Loss: 0.0391\n",
      "--------------------------------------------------\n"
     ]
    },
    {
     "name": "stderr",
     "output_type": "stream",
     "text": [
      "Epoch 334/500 - Training: 100%|██████████| 85/85 [00:40<00:00,  2.09it/s, Loss=2.1268]\n",
      "                                                                                       \r"
     ]
    },
    {
     "name": "stdout",
     "output_type": "stream",
     "text": [
      "\n",
      "Epoch 334/500:\n",
      "Train Loss: 0.0250\n",
      "Val Loss: 0.0391\n",
      "--------------------------------------------------\n"
     ]
    },
    {
     "name": "stderr",
     "output_type": "stream",
     "text": [
      "Epoch 335/500 - Training: 100%|██████████| 85/85 [00:40<00:00,  2.09it/s, Loss=2.1334]\n",
      "                                                                                       \r"
     ]
    },
    {
     "name": "stdout",
     "output_type": "stream",
     "text": [
      "\n",
      "Epoch 335/500:\n",
      "Train Loss: 0.0251\n",
      "Val Loss: 0.0401\n",
      "--------------------------------------------------\n"
     ]
    },
    {
     "name": "stderr",
     "output_type": "stream",
     "text": [
      "Epoch 336/500 - Training: 100%|██████████| 85/85 [00:40<00:00,  2.09it/s, Loss=2.0809]\n",
      "                                                                                       \r"
     ]
    },
    {
     "name": "stdout",
     "output_type": "stream",
     "text": [
      "\n",
      "Epoch 336/500:\n",
      "Train Loss: 0.0245\n",
      "Val Loss: 0.0382\n",
      "--------------------------------------------------\n"
     ]
    },
    {
     "name": "stderr",
     "output_type": "stream",
     "text": [
      "Epoch 337/500 - Training: 100%|██████████| 85/85 [00:40<00:00,  2.09it/s, Loss=1.9695]\n",
      "                                                                                       \r"
     ]
    },
    {
     "name": "stdout",
     "output_type": "stream",
     "text": [
      "\n",
      "Epoch 337/500:\n",
      "Train Loss: 0.0232\n",
      "Val Loss: 0.0394\n",
      "--------------------------------------------------\n"
     ]
    },
    {
     "name": "stderr",
     "output_type": "stream",
     "text": [
      "Epoch 338/500 - Training: 100%|██████████| 85/85 [00:40<00:00,  2.09it/s, Loss=1.9175]\n",
      "                                                                                       \r"
     ]
    },
    {
     "name": "stdout",
     "output_type": "stream",
     "text": [
      "\n",
      "Epoch 338/500:\n",
      "Train Loss: 0.0226\n",
      "Val Loss: 0.0401\n",
      "--------------------------------------------------\n"
     ]
    },
    {
     "name": "stderr",
     "output_type": "stream",
     "text": [
      "Epoch 339/500 - Training: 100%|██████████| 85/85 [00:40<00:00,  2.09it/s, Loss=1.8727]\n",
      "                                                                                       \r"
     ]
    },
    {
     "name": "stdout",
     "output_type": "stream",
     "text": [
      "\n",
      "Epoch 339/500:\n",
      "Train Loss: 0.0220\n",
      "Val Loss: 0.0377\n",
      "--------------------------------------------------\n"
     ]
    },
    {
     "name": "stderr",
     "output_type": "stream",
     "text": [
      "Epoch 340/500 - Training: 100%|██████████| 85/85 [00:40<00:00,  2.09it/s, Loss=1.8324]\n",
      "                                                                                       \r"
     ]
    },
    {
     "name": "stdout",
     "output_type": "stream",
     "text": [
      "\n",
      "Epoch 340/500:\n",
      "Train Loss: 0.0216\n",
      "Val Loss: 0.0376\n",
      "--------------------------------------------------\n"
     ]
    },
    {
     "name": "stderr",
     "output_type": "stream",
     "text": [
      "Epoch 341/500 - Training: 100%|██████████| 85/85 [00:40<00:00,  2.09it/s, Loss=1.7941]\n",
      "                                                                                       \r"
     ]
    },
    {
     "name": "stdout",
     "output_type": "stream",
     "text": [
      "\n",
      "Epoch 341/500:\n",
      "Train Loss: 0.0211\n",
      "Val Loss: 0.0396\n",
      "--------------------------------------------------\n"
     ]
    },
    {
     "name": "stderr",
     "output_type": "stream",
     "text": [
      "Epoch 342/500 - Training: 100%|██████████| 85/85 [00:40<00:00,  2.09it/s, Loss=1.7589]\n",
      "                                                                                       \r"
     ]
    },
    {
     "name": "stdout",
     "output_type": "stream",
     "text": [
      "\n",
      "Epoch 342/500:\n",
      "Train Loss: 0.0207\n",
      "Val Loss: 0.0387\n",
      "--------------------------------------------------\n"
     ]
    },
    {
     "name": "stderr",
     "output_type": "stream",
     "text": [
      "Epoch 343/500 - Training: 100%|██████████| 85/85 [00:40<00:00,  2.09it/s, Loss=1.7230]\n",
      "                                                                                       \r"
     ]
    },
    {
     "name": "stdout",
     "output_type": "stream",
     "text": [
      "\n",
      "Epoch 343/500:\n",
      "Train Loss: 0.0203\n",
      "Val Loss: 0.0395\n",
      "--------------------------------------------------\n"
     ]
    },
    {
     "name": "stderr",
     "output_type": "stream",
     "text": [
      "Epoch 344/500 - Training: 100%|██████████| 85/85 [00:40<00:00,  2.09it/s, Loss=1.6687]\n",
      "                                                                                       \r"
     ]
    },
    {
     "name": "stdout",
     "output_type": "stream",
     "text": [
      "\n",
      "Epoch 344/500:\n",
      "Train Loss: 0.0196\n",
      "Val Loss: 0.0381\n",
      "--------------------------------------------------\n"
     ]
    },
    {
     "name": "stderr",
     "output_type": "stream",
     "text": [
      "Epoch 345/500 - Training: 100%|██████████| 85/85 [00:40<00:00,  2.09it/s, Loss=1.7434]\n",
      "                                                                                       \r"
     ]
    },
    {
     "name": "stdout",
     "output_type": "stream",
     "text": [
      "\n",
      "Epoch 345/500:\n",
      "Train Loss: 0.0205\n",
      "Val Loss: 0.0419\n",
      "--------------------------------------------------\n"
     ]
    },
    {
     "name": "stderr",
     "output_type": "stream",
     "text": [
      "Epoch 346/500 - Training: 100%|██████████| 85/85 [00:40<00:00,  2.08it/s, Loss=1.9035]\n",
      "                                                                                       \r"
     ]
    },
    {
     "name": "stdout",
     "output_type": "stream",
     "text": [
      "\n",
      "Epoch 346/500:\n",
      "Train Loss: 0.0224\n",
      "Val Loss: 0.0402\n",
      "--------------------------------------------------\n"
     ]
    },
    {
     "name": "stderr",
     "output_type": "stream",
     "text": [
      "Epoch 347/500 - Training: 100%|██████████| 85/85 [00:40<00:00,  2.09it/s, Loss=1.6598]\n",
      "                                                                                       \r"
     ]
    },
    {
     "name": "stdout",
     "output_type": "stream",
     "text": [
      "\n",
      "Epoch 347/500:\n",
      "Train Loss: 0.0195\n",
      "Val Loss: 0.0386\n",
      "--------------------------------------------------\n"
     ]
    },
    {
     "name": "stderr",
     "output_type": "stream",
     "text": [
      "Epoch 348/500 - Training: 100%|██████████| 85/85 [00:40<00:00,  2.09it/s, Loss=1.5722]\n",
      "                                                                                       \r"
     ]
    },
    {
     "name": "stdout",
     "output_type": "stream",
     "text": [
      "\n",
      "Epoch 348/500:\n",
      "Train Loss: 0.0185\n",
      "Val Loss: 0.0378\n",
      "--------------------------------------------------\n"
     ]
    },
    {
     "name": "stderr",
     "output_type": "stream",
     "text": [
      "Epoch 349/500 - Training: 100%|██████████| 85/85 [00:40<00:00,  2.09it/s, Loss=1.5779]\n",
      "                                                                                       \r"
     ]
    },
    {
     "name": "stdout",
     "output_type": "stream",
     "text": [
      "\n",
      "Epoch 349/500:\n",
      "Train Loss: 0.0186\n",
      "Val Loss: 0.0381\n",
      "--------------------------------------------------\n"
     ]
    },
    {
     "name": "stderr",
     "output_type": "stream",
     "text": [
      "Epoch 350/500 - Training: 100%|██████████| 85/85 [00:40<00:00,  2.09it/s, Loss=1.5505]\n",
      "                                                                                       \r"
     ]
    },
    {
     "name": "stdout",
     "output_type": "stream",
     "text": [
      "\n",
      "Epoch 350/500:\n",
      "Train Loss: 0.0182\n",
      "Val Loss: 0.0399\n",
      "--------------------------------------------------\n"
     ]
    },
    {
     "name": "stderr",
     "output_type": "stream",
     "text": [
      "Epoch 351/500 - Training: 100%|██████████| 85/85 [00:40<00:00,  2.09it/s, Loss=1.5316]\n",
      "                                                                                       \r"
     ]
    },
    {
     "name": "stdout",
     "output_type": "stream",
     "text": [
      "\n",
      "Epoch 351/500:\n",
      "Train Loss: 0.0180\n",
      "Val Loss: 0.0392\n",
      "--------------------------------------------------\n"
     ]
    },
    {
     "name": "stderr",
     "output_type": "stream",
     "text": [
      "Epoch 352/500 - Training: 100%|██████████| 85/85 [00:40<00:00,  2.09it/s, Loss=1.4751]\n",
      "                                                                                       \r"
     ]
    },
    {
     "name": "stdout",
     "output_type": "stream",
     "text": [
      "\n",
      "Epoch 352/500:\n",
      "Train Loss: 0.0174\n",
      "Val Loss: 0.0415\n",
      "--------------------------------------------------\n"
     ]
    },
    {
     "name": "stderr",
     "output_type": "stream",
     "text": [
      "Epoch 353/500 - Training: 100%|██████████| 85/85 [00:40<00:00,  2.09it/s, Loss=1.4506]\n",
      "                                                                                       \r"
     ]
    },
    {
     "name": "stdout",
     "output_type": "stream",
     "text": [
      "\n",
      "Epoch 353/500:\n",
      "Train Loss: 0.0171\n",
      "Val Loss: 0.0407\n",
      "--------------------------------------------------\n"
     ]
    },
    {
     "name": "stderr",
     "output_type": "stream",
     "text": [
      "Epoch 354/500 - Training: 100%|██████████| 85/85 [00:40<00:00,  2.09it/s, Loss=1.4748]\n",
      "                                                                                       \r"
     ]
    },
    {
     "name": "stdout",
     "output_type": "stream",
     "text": [
      "\n",
      "Epoch 354/500:\n",
      "Train Loss: 0.0174\n",
      "Val Loss: 0.0422\n",
      "--------------------------------------------------\n"
     ]
    },
    {
     "name": "stderr",
     "output_type": "stream",
     "text": [
      "Epoch 355/500 - Training: 100%|██████████| 85/85 [00:40<00:00,  2.09it/s, Loss=1.4442]\n",
      "                                                                                       \r"
     ]
    },
    {
     "name": "stdout",
     "output_type": "stream",
     "text": [
      "\n",
      "Epoch 355/500:\n",
      "Train Loss: 0.0170\n",
      "Val Loss: 0.0390\n",
      "--------------------------------------------------\n"
     ]
    },
    {
     "name": "stderr",
     "output_type": "stream",
     "text": [
      "Epoch 356/500 - Training: 100%|██████████| 85/85 [00:40<00:00,  2.09it/s, Loss=1.3925]\n",
      "                                                                                       \r"
     ]
    },
    {
     "name": "stdout",
     "output_type": "stream",
     "text": [
      "\n",
      "Epoch 356/500:\n",
      "Train Loss: 0.0164\n",
      "Val Loss: 0.0417\n",
      "--------------------------------------------------\n"
     ]
    },
    {
     "name": "stderr",
     "output_type": "stream",
     "text": [
      "Epoch 357/500 - Training: 100%|██████████| 85/85 [00:40<00:00,  2.09it/s, Loss=1.3839]\n",
      "                                                                                       \r"
     ]
    },
    {
     "name": "stdout",
     "output_type": "stream",
     "text": [
      "\n",
      "Epoch 357/500:\n",
      "Train Loss: 0.0163\n",
      "Val Loss: 0.0411\n",
      "--------------------------------------------------\n"
     ]
    },
    {
     "name": "stderr",
     "output_type": "stream",
     "text": [
      "Epoch 358/500 - Training: 100%|██████████| 85/85 [00:40<00:00,  2.09it/s, Loss=1.8808]\n",
      "                                                                                       \r"
     ]
    },
    {
     "name": "stdout",
     "output_type": "stream",
     "text": [
      "\n",
      "Epoch 358/500:\n",
      "Train Loss: 0.0221\n",
      "Val Loss: 0.0475\n",
      "--------------------------------------------------\n"
     ]
    },
    {
     "name": "stderr",
     "output_type": "stream",
     "text": [
      "Epoch 359/500 - Training: 100%|██████████| 85/85 [00:40<00:00,  2.08it/s, Loss=2.0303]\n",
      "                                                                                       \r"
     ]
    },
    {
     "name": "stdout",
     "output_type": "stream",
     "text": [
      "\n",
      "Epoch 359/500:\n",
      "Train Loss: 0.0239\n",
      "Val Loss: 0.0393\n",
      "--------------------------------------------------\n"
     ]
    },
    {
     "name": "stderr",
     "output_type": "stream",
     "text": [
      "Epoch 360/500 - Training: 100%|██████████| 85/85 [00:40<00:00,  2.09it/s, Loss=1.4077]\n",
      "                                                                                       \r"
     ]
    },
    {
     "name": "stdout",
     "output_type": "stream",
     "text": [
      "\n",
      "Epoch 360/500:\n",
      "Train Loss: 0.0166\n",
      "Val Loss: 0.0387\n",
      "--------------------------------------------------\n"
     ]
    },
    {
     "name": "stderr",
     "output_type": "stream",
     "text": [
      "Epoch 361/500 - Training: 100%|██████████| 85/85 [00:40<00:00,  2.09it/s, Loss=1.3212]\n",
      "                                                                                       \r"
     ]
    },
    {
     "name": "stdout",
     "output_type": "stream",
     "text": [
      "\n",
      "Epoch 361/500:\n",
      "Train Loss: 0.0155\n",
      "Val Loss: 0.0378\n",
      "--------------------------------------------------\n"
     ]
    },
    {
     "name": "stderr",
     "output_type": "stream",
     "text": [
      "Epoch 362/500 - Training: 100%|██████████| 85/85 [00:40<00:00,  2.09it/s, Loss=1.2653]\n",
      "                                                                                       \r"
     ]
    },
    {
     "name": "stdout",
     "output_type": "stream",
     "text": [
      "\n",
      "Epoch 362/500:\n",
      "Train Loss: 0.0149\n",
      "Val Loss: 0.0396\n",
      "--------------------------------------------------\n"
     ]
    },
    {
     "name": "stderr",
     "output_type": "stream",
     "text": [
      "Epoch 363/500 - Training: 100%|██████████| 85/85 [00:40<00:00,  2.09it/s, Loss=1.2313]\n",
      "                                                                                       \r"
     ]
    },
    {
     "name": "stdout",
     "output_type": "stream",
     "text": [
      "\n",
      "Epoch 363/500:\n",
      "Train Loss: 0.0145\n",
      "Val Loss: 0.0403\n",
      "--------------------------------------------------\n"
     ]
    },
    {
     "name": "stderr",
     "output_type": "stream",
     "text": [
      "Epoch 364/500 - Training: 100%|██████████| 85/85 [00:40<00:00,  2.09it/s, Loss=1.2027]\n",
      "                                                                                       \r"
     ]
    },
    {
     "name": "stdout",
     "output_type": "stream",
     "text": [
      "\n",
      "Epoch 364/500:\n",
      "Train Loss: 0.0141\n",
      "Val Loss: 0.0416\n",
      "--------------------------------------------------\n"
     ]
    },
    {
     "name": "stderr",
     "output_type": "stream",
     "text": [
      "Epoch 365/500 - Training: 100%|██████████| 85/85 [00:40<00:00,  2.09it/s, Loss=1.1977]\n",
      "                                                                                       \r"
     ]
    },
    {
     "name": "stdout",
     "output_type": "stream",
     "text": [
      "\n",
      "Epoch 365/500:\n",
      "Train Loss: 0.0141\n",
      "Val Loss: 0.0389\n",
      "--------------------------------------------------\n"
     ]
    },
    {
     "name": "stderr",
     "output_type": "stream",
     "text": [
      "Epoch 366/500 - Training: 100%|██████████| 85/85 [00:40<00:00,  2.09it/s, Loss=1.2158]\n",
      "                                                                                       \r"
     ]
    },
    {
     "name": "stdout",
     "output_type": "stream",
     "text": [
      "\n",
      "Epoch 366/500:\n",
      "Train Loss: 0.0143\n",
      "Val Loss: 0.0400\n",
      "--------------------------------------------------\n"
     ]
    },
    {
     "name": "stderr",
     "output_type": "stream",
     "text": [
      "Epoch 367/500 - Training: 100%|██████████| 85/85 [00:40<00:00,  2.09it/s, Loss=1.1774]\n",
      "                                                                                       \r"
     ]
    },
    {
     "name": "stdout",
     "output_type": "stream",
     "text": [
      "\n",
      "Epoch 367/500:\n",
      "Train Loss: 0.0139\n",
      "Val Loss: 0.0430\n",
      "--------------------------------------------------\n"
     ]
    },
    {
     "name": "stderr",
     "output_type": "stream",
     "text": [
      "Epoch 368/500 - Training: 100%|██████████| 85/85 [00:40<00:00,  2.09it/s, Loss=1.1588]\n",
      "                                                                                       \r"
     ]
    },
    {
     "name": "stdout",
     "output_type": "stream",
     "text": [
      "\n",
      "Epoch 368/500:\n",
      "Train Loss: 0.0136\n",
      "Val Loss: 0.0411\n",
      "--------------------------------------------------\n"
     ]
    },
    {
     "name": "stderr",
     "output_type": "stream",
     "text": [
      "Epoch 369/500 - Training: 100%|██████████| 85/85 [00:40<00:00,  2.09it/s, Loss=1.1381]\n",
      "                                                                                       \r"
     ]
    },
    {
     "name": "stdout",
     "output_type": "stream",
     "text": [
      "\n",
      "Epoch 369/500:\n",
      "Train Loss: 0.0134\n",
      "Val Loss: 0.0421\n",
      "--------------------------------------------------\n"
     ]
    },
    {
     "name": "stderr",
     "output_type": "stream",
     "text": [
      "Epoch 370/500 - Training: 100%|██████████| 85/85 [00:40<00:00,  2.09it/s, Loss=1.1823]\n",
      "                                                                                       \r"
     ]
    },
    {
     "name": "stdout",
     "output_type": "stream",
     "text": [
      "\n",
      "Epoch 370/500:\n",
      "Train Loss: 0.0139\n",
      "Val Loss: 0.0438\n",
      "--------------------------------------------------\n"
     ]
    },
    {
     "name": "stderr",
     "output_type": "stream",
     "text": [
      "Epoch 371/500 - Training: 100%|██████████| 85/85 [00:40<00:00,  2.09it/s, Loss=1.1593]\n",
      "                                                                                       \r"
     ]
    },
    {
     "name": "stdout",
     "output_type": "stream",
     "text": [
      "\n",
      "Epoch 371/500:\n",
      "Train Loss: 0.0136\n",
      "Val Loss: 0.0409\n",
      "--------------------------------------------------\n"
     ]
    },
    {
     "name": "stderr",
     "output_type": "stream",
     "text": [
      "Epoch 372/500 - Training: 100%|██████████| 85/85 [00:40<00:00,  2.09it/s, Loss=1.1275]\n",
      "                                                                                       \r"
     ]
    },
    {
     "name": "stdout",
     "output_type": "stream",
     "text": [
      "\n",
      "Epoch 372/500:\n",
      "Train Loss: 0.0133\n",
      "Val Loss: 0.0433\n",
      "--------------------------------------------------\n"
     ]
    },
    {
     "name": "stderr",
     "output_type": "stream",
     "text": [
      "Epoch 373/500 - Training: 100%|██████████| 85/85 [00:40<00:00,  2.09it/s, Loss=1.2154]\n",
      "                                                                                       \r"
     ]
    },
    {
     "name": "stdout",
     "output_type": "stream",
     "text": [
      "\n",
      "Epoch 373/500:\n",
      "Train Loss: 0.0143\n",
      "Val Loss: 0.0428\n",
      "--------------------------------------------------\n"
     ]
    },
    {
     "name": "stderr",
     "output_type": "stream",
     "text": [
      "Epoch 374/500 - Training: 100%|██████████| 85/85 [00:40<00:00,  2.09it/s, Loss=1.1196]\n",
      "                                                                                       \r"
     ]
    },
    {
     "name": "stdout",
     "output_type": "stream",
     "text": [
      "\n",
      "Epoch 374/500:\n",
      "Train Loss: 0.0132\n",
      "Val Loss: 0.0430\n",
      "--------------------------------------------------\n"
     ]
    },
    {
     "name": "stderr",
     "output_type": "stream",
     "text": [
      "Epoch 375/500 - Training: 100%|██████████| 85/85 [00:40<00:00,  2.09it/s, Loss=1.0887]\n",
      "                                                                                       \r"
     ]
    },
    {
     "name": "stdout",
     "output_type": "stream",
     "text": [
      "\n",
      "Epoch 375/500:\n",
      "Train Loss: 0.0128\n",
      "Val Loss: 0.0451\n",
      "--------------------------------------------------\n"
     ]
    },
    {
     "name": "stderr",
     "output_type": "stream",
     "text": [
      "Epoch 376/500 - Training: 100%|██████████| 85/85 [00:40<00:00,  2.09it/s, Loss=1.1154]\n",
      "                                                                                       \r"
     ]
    },
    {
     "name": "stdout",
     "output_type": "stream",
     "text": [
      "\n",
      "Epoch 376/500:\n",
      "Train Loss: 0.0131\n",
      "Val Loss: 0.0453\n",
      "--------------------------------------------------\n"
     ]
    },
    {
     "name": "stderr",
     "output_type": "stream",
     "text": [
      "Epoch 377/500 - Training: 100%|██████████| 85/85 [00:40<00:00,  2.09it/s, Loss=1.1541]\n",
      "                                                                                       \r"
     ]
    },
    {
     "name": "stdout",
     "output_type": "stream",
     "text": [
      "\n",
      "Epoch 377/500:\n",
      "Train Loss: 0.0136\n",
      "Val Loss: 0.0425\n",
      "--------------------------------------------------\n"
     ]
    },
    {
     "name": "stderr",
     "output_type": "stream",
     "text": [
      "Epoch 378/500 - Training: 100%|██████████| 85/85 [00:40<00:00,  2.09it/s, Loss=1.0799]\n",
      "                                                                                       \r"
     ]
    },
    {
     "name": "stdout",
     "output_type": "stream",
     "text": [
      "\n",
      "Epoch 378/500:\n",
      "Train Loss: 0.0127\n",
      "Val Loss: 0.0437\n",
      "--------------------------------------------------\n"
     ]
    },
    {
     "name": "stderr",
     "output_type": "stream",
     "text": [
      "Epoch 379/500 - Training: 100%|██████████| 85/85 [00:40<00:00,  2.09it/s, Loss=1.0865]\n",
      "                                                                                       \r"
     ]
    },
    {
     "name": "stdout",
     "output_type": "stream",
     "text": [
      "\n",
      "Epoch 379/500:\n",
      "Train Loss: 0.0128\n",
      "Val Loss: 0.0418\n",
      "--------------------------------------------------\n"
     ]
    },
    {
     "name": "stderr",
     "output_type": "stream",
     "text": [
      "Epoch 380/500 - Training: 100%|██████████| 85/85 [00:40<00:00,  2.09it/s, Loss=1.1052]\n",
      "                                                                                       \r"
     ]
    },
    {
     "name": "stdout",
     "output_type": "stream",
     "text": [
      "\n",
      "Epoch 380/500:\n",
      "Train Loss: 0.0130\n",
      "Val Loss: 0.0434\n",
      "--------------------------------------------------\n"
     ]
    },
    {
     "name": "stderr",
     "output_type": "stream",
     "text": [
      "Epoch 381/500 - Training: 100%|██████████| 85/85 [00:40<00:00,  2.09it/s, Loss=13.6456]\n",
      "                                                                                       \r"
     ]
    },
    {
     "name": "stdout",
     "output_type": "stream",
     "text": [
      "\n",
      "Epoch 381/500:\n",
      "Train Loss: 0.1605\n",
      "Val Loss: 0.1751\n",
      "--------------------------------------------------\n"
     ]
    },
    {
     "name": "stderr",
     "output_type": "stream",
     "text": [
      "Epoch 382/500 - Training: 100%|██████████| 85/85 [00:40<00:00,  2.09it/s, Loss=10.1295]\n",
      "                                                                                       \r"
     ]
    },
    {
     "name": "stdout",
     "output_type": "stream",
     "text": [
      "\n",
      "Epoch 382/500:\n",
      "Train Loss: 0.1192\n",
      "Val Loss: 0.0917\n",
      "--------------------------------------------------\n"
     ]
    },
    {
     "name": "stderr",
     "output_type": "stream",
     "text": [
      "Epoch 383/500 - Training: 100%|██████████| 85/85 [00:40<00:00,  2.09it/s, Loss=6.6212]\n",
      "                                                                                       \r"
     ]
    },
    {
     "name": "stdout",
     "output_type": "stream",
     "text": [
      "\n",
      "Epoch 383/500:\n",
      "Train Loss: 0.0779\n",
      "Val Loss: 0.0730\n",
      "--------------------------------------------------\n"
     ]
    },
    {
     "name": "stderr",
     "output_type": "stream",
     "text": [
      "Epoch 384/500 - Training: 100%|██████████| 85/85 [00:40<00:00,  2.09it/s, Loss=5.5064]\n",
      "                                                                                       \r"
     ]
    },
    {
     "name": "stdout",
     "output_type": "stream",
     "text": [
      "\n",
      "Epoch 384/500:\n",
      "Train Loss: 0.0648\n",
      "Val Loss: 0.0630\n",
      "--------------------------------------------------\n"
     ]
    },
    {
     "name": "stderr",
     "output_type": "stream",
     "text": [
      "Epoch 385/500 - Training: 100%|██████████| 85/85 [00:40<00:00,  2.09it/s, Loss=5.0944]\n",
      "                                                                                       \r"
     ]
    },
    {
     "name": "stdout",
     "output_type": "stream",
     "text": [
      "\n",
      "Epoch 385/500:\n",
      "Train Loss: 0.0599\n",
      "Val Loss: 0.0617\n",
      "--------------------------------------------------\n"
     ]
    },
    {
     "name": "stderr",
     "output_type": "stream",
     "text": [
      "Epoch 386/500 - Training: 100%|██████████| 85/85 [00:40<00:00,  2.09it/s, Loss=4.7155]\n",
      "                                                                                       \r"
     ]
    },
    {
     "name": "stdout",
     "output_type": "stream",
     "text": [
      "\n",
      "Epoch 386/500:\n",
      "Train Loss: 0.0555\n",
      "Val Loss: 0.0584\n",
      "--------------------------------------------------\n"
     ]
    },
    {
     "name": "stderr",
     "output_type": "stream",
     "text": [
      "Epoch 387/500 - Training: 100%|██████████| 85/85 [00:40<00:00,  2.09it/s, Loss=4.3784]\n",
      "                                                                                       \r"
     ]
    },
    {
     "name": "stdout",
     "output_type": "stream",
     "text": [
      "\n",
      "Epoch 387/500:\n",
      "Train Loss: 0.0515\n",
      "Val Loss: 0.0542\n",
      "--------------------------------------------------\n"
     ]
    },
    {
     "name": "stderr",
     "output_type": "stream",
     "text": [
      "Epoch 388/500 - Training: 100%|██████████| 85/85 [00:40<00:00,  2.09it/s, Loss=4.1500]\n",
      "                                                                                       \r"
     ]
    },
    {
     "name": "stdout",
     "output_type": "stream",
     "text": [
      "\n",
      "Epoch 388/500:\n",
      "Train Loss: 0.0488\n",
      "Val Loss: 0.0524\n",
      "--------------------------------------------------\n"
     ]
    },
    {
     "name": "stderr",
     "output_type": "stream",
     "text": [
      "Epoch 389/500 - Training: 100%|██████████| 85/85 [00:40<00:00,  2.09it/s, Loss=3.9793]\n",
      "                                                                                       \r"
     ]
    },
    {
     "name": "stdout",
     "output_type": "stream",
     "text": [
      "\n",
      "Epoch 389/500:\n",
      "Train Loss: 0.0468\n",
      "Val Loss: 0.0514\n",
      "--------------------------------------------------\n"
     ]
    },
    {
     "name": "stderr",
     "output_type": "stream",
     "text": [
      "Epoch 390/500 - Training: 100%|██████████| 85/85 [00:40<00:00,  2.09it/s, Loss=3.8524]\n",
      "                                                                                       \r"
     ]
    },
    {
     "name": "stdout",
     "output_type": "stream",
     "text": [
      "\n",
      "Epoch 390/500:\n",
      "Train Loss: 0.0453\n",
      "Val Loss: 0.0512\n",
      "--------------------------------------------------\n"
     ]
    },
    {
     "name": "stderr",
     "output_type": "stream",
     "text": [
      "Epoch 391/500 - Training: 100%|██████████| 85/85 [00:40<00:00,  2.09it/s, Loss=3.7647]\n",
      "                                                                                       \r"
     ]
    },
    {
     "name": "stdout",
     "output_type": "stream",
     "text": [
      "\n",
      "Epoch 391/500:\n",
      "Train Loss: 0.0443\n",
      "Val Loss: 0.0476\n",
      "--------------------------------------------------\n"
     ]
    },
    {
     "name": "stderr",
     "output_type": "stream",
     "text": [
      "Epoch 392/500 - Training: 100%|██████████| 85/85 [00:40<00:00,  2.09it/s, Loss=3.5469]\n",
      "                                                                                       \r"
     ]
    },
    {
     "name": "stdout",
     "output_type": "stream",
     "text": [
      "\n",
      "Epoch 392/500:\n",
      "Train Loss: 0.0417\n",
      "Val Loss: 0.0466\n",
      "--------------------------------------------------\n"
     ]
    },
    {
     "name": "stderr",
     "output_type": "stream",
     "text": [
      "Epoch 393/500 - Training: 100%|██████████| 85/85 [00:40<00:00,  2.09it/s, Loss=3.4145]\n",
      "                                                                                       \r"
     ]
    },
    {
     "name": "stdout",
     "output_type": "stream",
     "text": [
      "\n",
      "Epoch 393/500:\n",
      "Train Loss: 0.0402\n",
      "Val Loss: 0.0455\n",
      "--------------------------------------------------\n"
     ]
    },
    {
     "name": "stderr",
     "output_type": "stream",
     "text": [
      "Epoch 394/500 - Training: 100%|██████████| 85/85 [00:40<00:00,  2.09it/s, Loss=3.2947]\n",
      "                                                                                       \r"
     ]
    },
    {
     "name": "stdout",
     "output_type": "stream",
     "text": [
      "\n",
      "Epoch 394/500:\n",
      "Train Loss: 0.0388\n",
      "Val Loss: 0.0466\n",
      "--------------------------------------------------\n"
     ]
    },
    {
     "name": "stderr",
     "output_type": "stream",
     "text": [
      "Epoch 395/500 - Training: 100%|██████████| 85/85 [00:40<00:00,  2.09it/s, Loss=3.2576]\n",
      "                                                                                       \r"
     ]
    },
    {
     "name": "stdout",
     "output_type": "stream",
     "text": [
      "\n",
      "Epoch 395/500:\n",
      "Train Loss: 0.0383\n",
      "Val Loss: 0.0441\n",
      "--------------------------------------------------\n"
     ]
    },
    {
     "name": "stderr",
     "output_type": "stream",
     "text": [
      "Epoch 396/500 - Training: 100%|██████████| 85/85 [00:40<00:00,  2.09it/s, Loss=3.1123]\n",
      "                                                                                       \r"
     ]
    },
    {
     "name": "stdout",
     "output_type": "stream",
     "text": [
      "\n",
      "Epoch 396/500:\n",
      "Train Loss: 0.0366\n",
      "Val Loss: 0.0437\n",
      "--------------------------------------------------\n"
     ]
    },
    {
     "name": "stderr",
     "output_type": "stream",
     "text": [
      "Epoch 397/500 - Training: 100%|██████████| 85/85 [00:40<00:00,  2.09it/s, Loss=3.0209]\n",
      "                                                                                       \r"
     ]
    },
    {
     "name": "stdout",
     "output_type": "stream",
     "text": [
      "\n",
      "Epoch 397/500:\n",
      "Train Loss: 0.0355\n",
      "Val Loss: 0.0431\n",
      "--------------------------------------------------\n"
     ]
    },
    {
     "name": "stderr",
     "output_type": "stream",
     "text": [
      "Epoch 398/500 - Training: 100%|██████████| 85/85 [00:40<00:00,  2.09it/s, Loss=2.9400]\n",
      "                                                                                       \r"
     ]
    },
    {
     "name": "stdout",
     "output_type": "stream",
     "text": [
      "\n",
      "Epoch 398/500:\n",
      "Train Loss: 0.0346\n",
      "Val Loss: 0.0417\n",
      "--------------------------------------------------\n"
     ]
    },
    {
     "name": "stderr",
     "output_type": "stream",
     "text": [
      "Epoch 399/500 - Training: 100%|██████████| 85/85 [00:40<00:00,  2.09it/s, Loss=2.7953]\n",
      "                                                                                       \r"
     ]
    },
    {
     "name": "stdout",
     "output_type": "stream",
     "text": [
      "\n",
      "Epoch 399/500:\n",
      "Train Loss: 0.0329\n",
      "Val Loss: 0.0427\n",
      "--------------------------------------------------\n"
     ]
    },
    {
     "name": "stderr",
     "output_type": "stream",
     "text": [
      "Epoch 400/500 - Training: 100%|██████████| 85/85 [00:40<00:00,  2.09it/s, Loss=2.6929]\n",
      "                                                                                       \r"
     ]
    },
    {
     "name": "stdout",
     "output_type": "stream",
     "text": [
      "\n",
      "Epoch 400/500:\n",
      "Train Loss: 0.0317\n",
      "Val Loss: 0.0409\n",
      "--------------------------------------------------\n"
     ]
    },
    {
     "name": "stderr",
     "output_type": "stream",
     "text": [
      "Epoch 401/500 - Training: 100%|██████████| 85/85 [00:40<00:00,  2.09it/s, Loss=2.6590]\n",
      "                                                                                       \r"
     ]
    },
    {
     "name": "stdout",
     "output_type": "stream",
     "text": [
      "\n",
      "Epoch 401/500:\n",
      "Train Loss: 0.0313\n",
      "Val Loss: 0.0454\n",
      "--------------------------------------------------\n"
     ]
    },
    {
     "name": "stderr",
     "output_type": "stream",
     "text": [
      "Epoch 402/500 - Training: 100%|██████████| 85/85 [00:40<00:00,  2.09it/s, Loss=2.5774]\n",
      "                                                                                       \r"
     ]
    },
    {
     "name": "stdout",
     "output_type": "stream",
     "text": [
      "\n",
      "Epoch 402/500:\n",
      "Train Loss: 0.0303\n",
      "Val Loss: 0.0404\n",
      "--------------------------------------------------\n"
     ]
    },
    {
     "name": "stderr",
     "output_type": "stream",
     "text": [
      "Epoch 403/500 - Training: 100%|██████████| 85/85 [00:40<00:00,  2.09it/s, Loss=2.5117]\n",
      "                                                                                       \r"
     ]
    },
    {
     "name": "stdout",
     "output_type": "stream",
     "text": [
      "\n",
      "Epoch 403/500:\n",
      "Train Loss: 0.0295\n",
      "Val Loss: 0.0411\n",
      "--------------------------------------------------\n"
     ]
    },
    {
     "name": "stderr",
     "output_type": "stream",
     "text": [
      "Epoch 404/500 - Training: 100%|██████████| 85/85 [00:40<00:00,  2.09it/s, Loss=2.4925]\n",
      "                                                                                       \r"
     ]
    },
    {
     "name": "stdout",
     "output_type": "stream",
     "text": [
      "\n",
      "Epoch 404/500:\n",
      "Train Loss: 0.0293\n",
      "Val Loss: 0.0392\n",
      "--------------------------------------------------\n"
     ]
    },
    {
     "name": "stderr",
     "output_type": "stream",
     "text": [
      "Epoch 405/500 - Training: 100%|██████████| 85/85 [00:40<00:00,  2.09it/s, Loss=2.3741]\n",
      "                                                                                       \r"
     ]
    },
    {
     "name": "stdout",
     "output_type": "stream",
     "text": [
      "\n",
      "Epoch 405/500:\n",
      "Train Loss: 0.0279\n",
      "Val Loss: 0.0396\n",
      "--------------------------------------------------\n"
     ]
    },
    {
     "name": "stderr",
     "output_type": "stream",
     "text": [
      "Epoch 406/500 - Training: 100%|██████████| 85/85 [00:40<00:00,  2.09it/s, Loss=2.3404]\n",
      "                                                                                       \r"
     ]
    },
    {
     "name": "stdout",
     "output_type": "stream",
     "text": [
      "\n",
      "Epoch 406/500:\n",
      "Train Loss: 0.0275\n",
      "Val Loss: 0.0393\n",
      "--------------------------------------------------\n"
     ]
    },
    {
     "name": "stderr",
     "output_type": "stream",
     "text": [
      "Epoch 407/500 - Training: 100%|██████████| 85/85 [00:40<00:00,  2.09it/s, Loss=2.2897]\n",
      "                                                                                       \r"
     ]
    },
    {
     "name": "stdout",
     "output_type": "stream",
     "text": [
      "\n",
      "Epoch 407/500:\n",
      "Train Loss: 0.0269\n",
      "Val Loss: 0.0390\n",
      "--------------------------------------------------\n"
     ]
    },
    {
     "name": "stderr",
     "output_type": "stream",
     "text": [
      "Epoch 408/500 - Training: 100%|██████████| 85/85 [00:40<00:00,  2.09it/s, Loss=2.1894]\n",
      "                                                                                       \r"
     ]
    },
    {
     "name": "stdout",
     "output_type": "stream",
     "text": [
      "\n",
      "Epoch 408/500:\n",
      "Train Loss: 0.0258\n",
      "Val Loss: 0.0387\n",
      "--------------------------------------------------\n"
     ]
    },
    {
     "name": "stderr",
     "output_type": "stream",
     "text": [
      "Epoch 409/500 - Training: 100%|██████████| 85/85 [00:40<00:00,  2.09it/s, Loss=2.1279]\n",
      "                                                                                       \r"
     ]
    },
    {
     "name": "stdout",
     "output_type": "stream",
     "text": [
      "\n",
      "Epoch 409/500:\n",
      "Train Loss: 0.0250\n",
      "Val Loss: 0.0387\n",
      "--------------------------------------------------\n"
     ]
    },
    {
     "name": "stderr",
     "output_type": "stream",
     "text": [
      "Epoch 410/500 - Training: 100%|██████████| 85/85 [00:40<00:00,  2.09it/s, Loss=2.1645]\n",
      "                                                                                       \r"
     ]
    },
    {
     "name": "stdout",
     "output_type": "stream",
     "text": [
      "\n",
      "Epoch 410/500:\n",
      "Train Loss: 0.0255\n",
      "Val Loss: 0.0406\n",
      "--------------------------------------------------\n"
     ]
    },
    {
     "name": "stderr",
     "output_type": "stream",
     "text": [
      "Epoch 411/500 - Training: 100%|██████████| 85/85 [00:40<00:00,  2.09it/s, Loss=2.0568]\n",
      "                                                                                       \r"
     ]
    },
    {
     "name": "stdout",
     "output_type": "stream",
     "text": [
      "\n",
      "Epoch 411/500:\n",
      "Train Loss: 0.0242\n",
      "Val Loss: 0.0394\n",
      "--------------------------------------------------\n"
     ]
    },
    {
     "name": "stderr",
     "output_type": "stream",
     "text": [
      "Epoch 412/500 - Training: 100%|██████████| 85/85 [00:40<00:00,  2.09it/s, Loss=1.9968]\n",
      "                                                                                       \r"
     ]
    },
    {
     "name": "stdout",
     "output_type": "stream",
     "text": [
      "\n",
      "Epoch 412/500:\n",
      "Train Loss: 0.0235\n",
      "Val Loss: 0.0394\n",
      "--------------------------------------------------\n"
     ]
    },
    {
     "name": "stderr",
     "output_type": "stream",
     "text": [
      "Epoch 413/500 - Training: 100%|██████████| 85/85 [00:40<00:00,  2.09it/s, Loss=1.9361]\n",
      "                                                                                       \r"
     ]
    },
    {
     "name": "stdout",
     "output_type": "stream",
     "text": [
      "\n",
      "Epoch 413/500:\n",
      "Train Loss: 0.0228\n",
      "Val Loss: 0.0397\n",
      "--------------------------------------------------\n"
     ]
    },
    {
     "name": "stderr",
     "output_type": "stream",
     "text": [
      "Epoch 414/500 - Training: 100%|██████████| 85/85 [00:40<00:00,  2.09it/s, Loss=1.9120]\n",
      "                                                                                       \r"
     ]
    },
    {
     "name": "stdout",
     "output_type": "stream",
     "text": [
      "\n",
      "Epoch 414/500:\n",
      "Train Loss: 0.0225\n",
      "Val Loss: 0.0401\n",
      "--------------------------------------------------\n"
     ]
    },
    {
     "name": "stderr",
     "output_type": "stream",
     "text": [
      "Epoch 415/500 - Training: 100%|██████████| 85/85 [00:40<00:00,  2.09it/s, Loss=1.8583]\n",
      "                                                                                       \r"
     ]
    },
    {
     "name": "stdout",
     "output_type": "stream",
     "text": [
      "\n",
      "Epoch 415/500:\n",
      "Train Loss: 0.0219\n",
      "Val Loss: 0.0392\n",
      "--------------------------------------------------\n"
     ]
    },
    {
     "name": "stderr",
     "output_type": "stream",
     "text": [
      "Epoch 416/500 - Training: 100%|██████████| 85/85 [00:40<00:00,  2.09it/s, Loss=1.8399]\n",
      "                                                                                       \r"
     ]
    },
    {
     "name": "stdout",
     "output_type": "stream",
     "text": [
      "\n",
      "Epoch 416/500:\n",
      "Train Loss: 0.0216\n",
      "Val Loss: 0.0396\n",
      "--------------------------------------------------\n"
     ]
    },
    {
     "name": "stderr",
     "output_type": "stream",
     "text": [
      "Epoch 417/500 - Training: 100%|██████████| 85/85 [00:40<00:00,  2.09it/s, Loss=1.9267]\n",
      "                                                                                       \r"
     ]
    },
    {
     "name": "stdout",
     "output_type": "stream",
     "text": [
      "\n",
      "Epoch 417/500:\n",
      "Train Loss: 0.0227\n",
      "Val Loss: 0.0389\n",
      "--------------------------------------------------\n"
     ]
    },
    {
     "name": "stderr",
     "output_type": "stream",
     "text": [
      "Epoch 418/500 - Training: 100%|██████████| 85/85 [00:40<00:00,  2.09it/s, Loss=1.7353]\n",
      "                                                                                       \r"
     ]
    },
    {
     "name": "stdout",
     "output_type": "stream",
     "text": [
      "\n",
      "Epoch 418/500:\n",
      "Train Loss: 0.0204\n",
      "Val Loss: 0.0388\n",
      "--------------------------------------------------\n"
     ]
    },
    {
     "name": "stderr",
     "output_type": "stream",
     "text": [
      "Epoch 419/500 - Training: 100%|██████████| 85/85 [00:40<00:00,  2.09it/s, Loss=1.7205]\n",
      "                                                                                       \r"
     ]
    },
    {
     "name": "stdout",
     "output_type": "stream",
     "text": [
      "\n",
      "Epoch 419/500:\n",
      "Train Loss: 0.0202\n",
      "Val Loss: 0.0397\n",
      "--------------------------------------------------\n"
     ]
    },
    {
     "name": "stderr",
     "output_type": "stream",
     "text": [
      "Epoch 420/500 - Training: 100%|██████████| 85/85 [00:40<00:00,  2.09it/s, Loss=1.6693]\n",
      "                                                                                       \r"
     ]
    },
    {
     "name": "stdout",
     "output_type": "stream",
     "text": [
      "\n",
      "Epoch 420/500:\n",
      "Train Loss: 0.0196\n",
      "Val Loss: 0.0399\n",
      "--------------------------------------------------\n"
     ]
    },
    {
     "name": "stderr",
     "output_type": "stream",
     "text": [
      "Epoch 421/500 - Training: 100%|██████████| 85/85 [00:40<00:00,  2.09it/s, Loss=1.6259]\n",
      "                                                                                       \r"
     ]
    },
    {
     "name": "stdout",
     "output_type": "stream",
     "text": [
      "\n",
      "Epoch 421/500:\n",
      "Train Loss: 0.0191\n",
      "Val Loss: 0.0409\n",
      "--------------------------------------------------\n"
     ]
    },
    {
     "name": "stderr",
     "output_type": "stream",
     "text": [
      "Epoch 422/500 - Training: 100%|██████████| 85/85 [00:40<00:00,  2.09it/s, Loss=1.6029]\n",
      "                                                                                       \r"
     ]
    },
    {
     "name": "stdout",
     "output_type": "stream",
     "text": [
      "\n",
      "Epoch 422/500:\n",
      "Train Loss: 0.0189\n",
      "Val Loss: 0.0398\n",
      "--------------------------------------------------\n"
     ]
    },
    {
     "name": "stderr",
     "output_type": "stream",
     "text": [
      "Epoch 423/500 - Training: 100%|██████████| 85/85 [00:40<00:00,  2.09it/s, Loss=1.5380]\n",
      "                                                                                       \r"
     ]
    },
    {
     "name": "stdout",
     "output_type": "stream",
     "text": [
      "\n",
      "Epoch 423/500:\n",
      "Train Loss: 0.0181\n",
      "Val Loss: 0.0412\n",
      "--------------------------------------------------\n"
     ]
    },
    {
     "name": "stderr",
     "output_type": "stream",
     "text": [
      "Epoch 424/500 - Training: 100%|██████████| 85/85 [00:40<00:00,  2.09it/s, Loss=1.5184]\n",
      "                                                                                       \r"
     ]
    },
    {
     "name": "stdout",
     "output_type": "stream",
     "text": [
      "\n",
      "Epoch 424/500:\n",
      "Train Loss: 0.0179\n",
      "Val Loss: 0.0416\n",
      "--------------------------------------------------\n"
     ]
    },
    {
     "name": "stderr",
     "output_type": "stream",
     "text": [
      "Epoch 425/500 - Training: 100%|██████████| 85/85 [00:40<00:00,  2.09it/s, Loss=1.4733]\n",
      "                                                                                       \r"
     ]
    },
    {
     "name": "stdout",
     "output_type": "stream",
     "text": [
      "\n",
      "Epoch 425/500:\n",
      "Train Loss: 0.0173\n",
      "Val Loss: 0.0415\n",
      "--------------------------------------------------\n"
     ]
    },
    {
     "name": "stderr",
     "output_type": "stream",
     "text": [
      "Epoch 426/500 - Training: 100%|██████████| 85/85 [00:40<00:00,  2.09it/s, Loss=1.4608]\n",
      "                                                                                       \r"
     ]
    },
    {
     "name": "stdout",
     "output_type": "stream",
     "text": [
      "\n",
      "Epoch 426/500:\n",
      "Train Loss: 0.0172\n",
      "Val Loss: 0.0414\n",
      "--------------------------------------------------\n"
     ]
    },
    {
     "name": "stderr",
     "output_type": "stream",
     "text": [
      "Epoch 427/500 - Training: 100%|██████████| 85/85 [00:40<00:00,  2.09it/s, Loss=1.4853]\n",
      "                                                                                       \r"
     ]
    },
    {
     "name": "stdout",
     "output_type": "stream",
     "text": [
      "\n",
      "Epoch 427/500:\n",
      "Train Loss: 0.0175\n",
      "Val Loss: 0.0419\n",
      "--------------------------------------------------\n"
     ]
    },
    {
     "name": "stderr",
     "output_type": "stream",
     "text": [
      "Epoch 428/500 - Training: 100%|██████████| 85/85 [00:40<00:00,  2.09it/s, Loss=1.4846]\n",
      "                                                                                       \r"
     ]
    },
    {
     "name": "stdout",
     "output_type": "stream",
     "text": [
      "\n",
      "Epoch 428/500:\n",
      "Train Loss: 0.0175\n",
      "Val Loss: 0.0445\n",
      "--------------------------------------------------\n"
     ]
    },
    {
     "name": "stderr",
     "output_type": "stream",
     "text": [
      "Epoch 429/500 - Training: 100%|██████████| 85/85 [00:40<00:00,  2.09it/s, Loss=1.5111]\n",
      "                                                                                       \r"
     ]
    },
    {
     "name": "stdout",
     "output_type": "stream",
     "text": [
      "\n",
      "Epoch 429/500:\n",
      "Train Loss: 0.0178\n",
      "Val Loss: 0.0412\n",
      "--------------------------------------------------\n"
     ]
    },
    {
     "name": "stderr",
     "output_type": "stream",
     "text": [
      "Epoch 430/500 - Training: 100%|██████████| 85/85 [00:40<00:00,  2.09it/s, Loss=1.4409]\n",
      "                                                                                       \r"
     ]
    },
    {
     "name": "stdout",
     "output_type": "stream",
     "text": [
      "\n",
      "Epoch 430/500:\n",
      "Train Loss: 0.0170\n",
      "Val Loss: 0.0415\n",
      "--------------------------------------------------\n"
     ]
    },
    {
     "name": "stderr",
     "output_type": "stream",
     "text": [
      "Epoch 431/500 - Training: 100%|██████████| 85/85 [00:40<00:00,  2.09it/s, Loss=1.4383]\n",
      "                                                                                       \r"
     ]
    },
    {
     "name": "stdout",
     "output_type": "stream",
     "text": [
      "\n",
      "Epoch 431/500:\n",
      "Train Loss: 0.0169\n",
      "Val Loss: 0.0420\n",
      "--------------------------------------------------\n"
     ]
    },
    {
     "name": "stderr",
     "output_type": "stream",
     "text": [
      "Epoch 432/500 - Training: 100%|██████████| 85/85 [00:40<00:00,  2.09it/s, Loss=1.3518]\n",
      "                                                                                       \r"
     ]
    },
    {
     "name": "stdout",
     "output_type": "stream",
     "text": [
      "\n",
      "Epoch 432/500:\n",
      "Train Loss: 0.0159\n",
      "Val Loss: 0.0429\n",
      "--------------------------------------------------\n"
     ]
    },
    {
     "name": "stderr",
     "output_type": "stream",
     "text": [
      "Epoch 433/500 - Training: 100%|██████████| 85/85 [00:40<00:00,  2.09it/s, Loss=1.3371]\n",
      "                                                                                       \r"
     ]
    },
    {
     "name": "stdout",
     "output_type": "stream",
     "text": [
      "\n",
      "Epoch 433/500:\n",
      "Train Loss: 0.0157\n",
      "Val Loss: 0.0418\n",
      "--------------------------------------------------\n"
     ]
    },
    {
     "name": "stderr",
     "output_type": "stream",
     "text": [
      "Epoch 434/500 - Training: 100%|██████████| 85/85 [00:40<00:00,  2.09it/s, Loss=1.3032]\n",
      "                                                                                       \r"
     ]
    },
    {
     "name": "stdout",
     "output_type": "stream",
     "text": [
      "\n",
      "Epoch 434/500:\n",
      "Train Loss: 0.0153\n",
      "Val Loss: 0.0435\n",
      "--------------------------------------------------\n"
     ]
    },
    {
     "name": "stderr",
     "output_type": "stream",
     "text": [
      "Epoch 435/500 - Training: 100%|██████████| 85/85 [00:40<00:00,  2.09it/s, Loss=1.3362]\n",
      "                                                                                       \r"
     ]
    },
    {
     "name": "stdout",
     "output_type": "stream",
     "text": [
      "\n",
      "Epoch 435/500:\n",
      "Train Loss: 0.0157\n",
      "Val Loss: 0.0431\n",
      "--------------------------------------------------\n"
     ]
    },
    {
     "name": "stderr",
     "output_type": "stream",
     "text": [
      "Epoch 436/500 - Training: 100%|██████████| 85/85 [00:40<00:00,  2.09it/s, Loss=1.8362]\n",
      "                                                                                       \r"
     ]
    },
    {
     "name": "stdout",
     "output_type": "stream",
     "text": [
      "\n",
      "Epoch 436/500:\n",
      "Train Loss: 0.0216\n",
      "Val Loss: 0.0398\n",
      "--------------------------------------------------\n"
     ]
    },
    {
     "name": "stderr",
     "output_type": "stream",
     "text": [
      "Epoch 437/500 - Training: 100%|██████████| 85/85 [00:40<00:00,  2.09it/s, Loss=1.5800]\n",
      "                                                                                       \r"
     ]
    },
    {
     "name": "stdout",
     "output_type": "stream",
     "text": [
      "\n",
      "Epoch 437/500:\n",
      "Train Loss: 0.0186\n",
      "Val Loss: 0.0413\n",
      "--------------------------------------------------\n"
     ]
    },
    {
     "name": "stderr",
     "output_type": "stream",
     "text": [
      "Epoch 438/500 - Training: 100%|██████████| 85/85 [00:40<00:00,  2.09it/s, Loss=1.5615]\n",
      "                                                                                       \r"
     ]
    },
    {
     "name": "stdout",
     "output_type": "stream",
     "text": [
      "\n",
      "Epoch 438/500:\n",
      "Train Loss: 0.0184\n",
      "Val Loss: 0.0408\n",
      "--------------------------------------------------\n"
     ]
    },
    {
     "name": "stderr",
     "output_type": "stream",
     "text": [
      "Epoch 439/500 - Training: 100%|██████████| 85/85 [00:40<00:00,  2.09it/s, Loss=1.3108]\n",
      "                                                                                       \r"
     ]
    },
    {
     "name": "stdout",
     "output_type": "stream",
     "text": [
      "\n",
      "Epoch 439/500:\n",
      "Train Loss: 0.0154\n",
      "Val Loss: 0.0411\n",
      "--------------------------------------------------\n"
     ]
    },
    {
     "name": "stderr",
     "output_type": "stream",
     "text": [
      "Epoch 440/500 - Training: 100%|██████████| 85/85 [00:40<00:00,  2.09it/s, Loss=1.2023]\n",
      "                                                                                       \r"
     ]
    },
    {
     "name": "stdout",
     "output_type": "stream",
     "text": [
      "\n",
      "Epoch 440/500:\n",
      "Train Loss: 0.0141\n",
      "Val Loss: 0.0424\n",
      "--------------------------------------------------\n"
     ]
    },
    {
     "name": "stderr",
     "output_type": "stream",
     "text": [
      "Epoch 441/500 - Training: 100%|██████████| 85/85 [00:40<00:00,  2.09it/s, Loss=1.1632]\n",
      "                                                                                       \r"
     ]
    },
    {
     "name": "stdout",
     "output_type": "stream",
     "text": [
      "\n",
      "Epoch 441/500:\n",
      "Train Loss: 0.0137\n",
      "Val Loss: 0.0438\n",
      "--------------------------------------------------\n"
     ]
    },
    {
     "name": "stderr",
     "output_type": "stream",
     "text": [
      "Epoch 442/500 - Training: 100%|██████████| 85/85 [00:40<00:00,  2.09it/s, Loss=1.1421]\n",
      "                                                                                       \r"
     ]
    },
    {
     "name": "stdout",
     "output_type": "stream",
     "text": [
      "\n",
      "Epoch 442/500:\n",
      "Train Loss: 0.0134\n",
      "Val Loss: 0.0446\n",
      "--------------------------------------------------\n"
     ]
    },
    {
     "name": "stderr",
     "output_type": "stream",
     "text": [
      "Epoch 443/500 - Training: 100%|██████████| 85/85 [00:40<00:00,  2.09it/s, Loss=1.1148]\n",
      "                                                                                       \r"
     ]
    },
    {
     "name": "stdout",
     "output_type": "stream",
     "text": [
      "\n",
      "Epoch 443/500:\n",
      "Train Loss: 0.0131\n",
      "Val Loss: 0.0446\n",
      "--------------------------------------------------\n"
     ]
    },
    {
     "name": "stderr",
     "output_type": "stream",
     "text": [
      "Epoch 444/500 - Training: 100%|██████████| 85/85 [00:40<00:00,  2.09it/s, Loss=1.1027]\n",
      "                                                                                       \r"
     ]
    },
    {
     "name": "stdout",
     "output_type": "stream",
     "text": [
      "\n",
      "Epoch 444/500:\n",
      "Train Loss: 0.0130\n",
      "Val Loss: 0.0454\n",
      "--------------------------------------------------\n"
     ]
    },
    {
     "name": "stderr",
     "output_type": "stream",
     "text": [
      "Epoch 445/500 - Training: 100%|██████████| 85/85 [00:40<00:00,  2.09it/s, Loss=1.1164]\n",
      "                                                                                       \r"
     ]
    },
    {
     "name": "stdout",
     "output_type": "stream",
     "text": [
      "\n",
      "Epoch 445/500:\n",
      "Train Loss: 0.0131\n",
      "Val Loss: 0.0446\n",
      "--------------------------------------------------\n"
     ]
    },
    {
     "name": "stderr",
     "output_type": "stream",
     "text": [
      "Epoch 446/500 - Training: 100%|██████████| 85/85 [00:40<00:00,  2.09it/s, Loss=1.0907]\n",
      "                                                                                       \r"
     ]
    },
    {
     "name": "stdout",
     "output_type": "stream",
     "text": [
      "\n",
      "Epoch 446/500:\n",
      "Train Loss: 0.0128\n",
      "Val Loss: 0.0460\n",
      "--------------------------------------------------\n"
     ]
    },
    {
     "name": "stderr",
     "output_type": "stream",
     "text": [
      "Epoch 447/500 - Training: 100%|██████████| 85/85 [00:40<00:00,  2.09it/s, Loss=1.0736]\n",
      "                                                                                       \r"
     ]
    },
    {
     "name": "stdout",
     "output_type": "stream",
     "text": [
      "\n",
      "Epoch 447/500:\n",
      "Train Loss: 0.0126\n",
      "Val Loss: 0.0460\n",
      "--------------------------------------------------\n"
     ]
    },
    {
     "name": "stderr",
     "output_type": "stream",
     "text": [
      "Epoch 448/500 - Training: 100%|██████████| 85/85 [00:40<00:00,  2.09it/s, Loss=1.0879]\n",
      "                                                                                       \r"
     ]
    },
    {
     "name": "stdout",
     "output_type": "stream",
     "text": [
      "\n",
      "Epoch 448/500:\n",
      "Train Loss: 0.0128\n",
      "Val Loss: 0.0464\n",
      "--------------------------------------------------\n"
     ]
    },
    {
     "name": "stderr",
     "output_type": "stream",
     "text": [
      "Epoch 449/500 - Training: 100%|██████████| 85/85 [00:40<00:00,  2.09it/s, Loss=1.1099]\n",
      "                                                                                       \r"
     ]
    },
    {
     "name": "stdout",
     "output_type": "stream",
     "text": [
      "\n",
      "Epoch 449/500:\n",
      "Train Loss: 0.0131\n",
      "Val Loss: 0.0456\n",
      "--------------------------------------------------\n"
     ]
    },
    {
     "name": "stderr",
     "output_type": "stream",
     "text": [
      "Epoch 450/500 - Training: 100%|██████████| 85/85 [00:40<00:00,  2.09it/s, Loss=1.0861]\n",
      "                                                                                       \r"
     ]
    },
    {
     "name": "stdout",
     "output_type": "stream",
     "text": [
      "\n",
      "Epoch 450/500:\n",
      "Train Loss: 0.0128\n",
      "Val Loss: 0.0444\n",
      "--------------------------------------------------\n"
     ]
    },
    {
     "name": "stderr",
     "output_type": "stream",
     "text": [
      "Epoch 451/500 - Training: 100%|██████████| 85/85 [00:40<00:00,  2.09it/s, Loss=1.0815]\n",
      "                                                                                       \r"
     ]
    },
    {
     "name": "stdout",
     "output_type": "stream",
     "text": [
      "\n",
      "Epoch 451/500:\n",
      "Train Loss: 0.0127\n",
      "Val Loss: 0.0489\n",
      "--------------------------------------------------\n"
     ]
    },
    {
     "name": "stderr",
     "output_type": "stream",
     "text": [
      "Epoch 452/500 - Training: 100%|██████████| 85/85 [00:40<00:00,  2.09it/s, Loss=1.0771]\n",
      "                                                                                       \r"
     ]
    },
    {
     "name": "stdout",
     "output_type": "stream",
     "text": [
      "\n",
      "Epoch 452/500:\n",
      "Train Loss: 0.0127\n",
      "Val Loss: 0.0466\n",
      "--------------------------------------------------\n"
     ]
    },
    {
     "name": "stderr",
     "output_type": "stream",
     "text": [
      "Epoch 453/500 - Training: 100%|██████████| 85/85 [00:40<00:00,  2.09it/s, Loss=1.0479]\n",
      "                                                                                       \r"
     ]
    },
    {
     "name": "stdout",
     "output_type": "stream",
     "text": [
      "\n",
      "Epoch 453/500:\n",
      "Train Loss: 0.0123\n",
      "Val Loss: 0.0478\n",
      "--------------------------------------------------\n"
     ]
    },
    {
     "name": "stderr",
     "output_type": "stream",
     "text": [
      "Epoch 454/500 - Training: 100%|██████████| 85/85 [00:40<00:00,  2.09it/s, Loss=1.0470]\n",
      "                                                                                       \r"
     ]
    },
    {
     "name": "stdout",
     "output_type": "stream",
     "text": [
      "\n",
      "Epoch 454/500:\n",
      "Train Loss: 0.0123\n",
      "Val Loss: 0.0466\n",
      "--------------------------------------------------\n"
     ]
    },
    {
     "name": "stderr",
     "output_type": "stream",
     "text": [
      "Epoch 455/500 - Training: 100%|██████████| 85/85 [00:40<00:00,  2.09it/s, Loss=1.0309]\n",
      "                                                                                       \r"
     ]
    },
    {
     "name": "stdout",
     "output_type": "stream",
     "text": [
      "\n",
      "Epoch 455/500:\n",
      "Train Loss: 0.0121\n",
      "Val Loss: 0.0469\n",
      "--------------------------------------------------\n"
     ]
    },
    {
     "name": "stderr",
     "output_type": "stream",
     "text": [
      "Epoch 456/500 - Training: 100%|██████████| 85/85 [00:40<00:00,  2.09it/s, Loss=1.0094]\n",
      "                                                                                       \r"
     ]
    },
    {
     "name": "stdout",
     "output_type": "stream",
     "text": [
      "\n",
      "Epoch 456/500:\n",
      "Train Loss: 0.0119\n",
      "Val Loss: 0.0481\n",
      "--------------------------------------------------\n"
     ]
    },
    {
     "name": "stderr",
     "output_type": "stream",
     "text": [
      "Epoch 457/500 - Training: 100%|██████████| 85/85 [00:40<00:00,  2.09it/s, Loss=0.9894]\n",
      "                                                                                       \r"
     ]
    },
    {
     "name": "stdout",
     "output_type": "stream",
     "text": [
      "\n",
      "Epoch 457/500:\n",
      "Train Loss: 0.0116\n",
      "Val Loss: 0.0492\n",
      "--------------------------------------------------\n"
     ]
    },
    {
     "name": "stderr",
     "output_type": "stream",
     "text": [
      "Epoch 458/500 - Training: 100%|██████████| 85/85 [00:40<00:00,  2.09it/s, Loss=1.0440]\n",
      "                                                                                       \r"
     ]
    },
    {
     "name": "stdout",
     "output_type": "stream",
     "text": [
      "\n",
      "Epoch 458/500:\n",
      "Train Loss: 0.0123\n",
      "Val Loss: 0.0470\n",
      "--------------------------------------------------\n"
     ]
    },
    {
     "name": "stderr",
     "output_type": "stream",
     "text": [
      "Epoch 459/500 - Training: 100%|██████████| 85/85 [00:40<00:00,  2.09it/s, Loss=1.1045]\n",
      "                                                                                       \r"
     ]
    },
    {
     "name": "stdout",
     "output_type": "stream",
     "text": [
      "\n",
      "Epoch 459/500:\n",
      "Train Loss: 0.0130\n",
      "Val Loss: 0.0454\n",
      "--------------------------------------------------\n"
     ]
    },
    {
     "name": "stderr",
     "output_type": "stream",
     "text": [
      "Epoch 460/500 - Training: 100%|██████████| 85/85 [00:40<00:00,  2.09it/s, Loss=1.0715]\n",
      "                                                                                       \r"
     ]
    },
    {
     "name": "stdout",
     "output_type": "stream",
     "text": [
      "\n",
      "Epoch 460/500:\n",
      "Train Loss: 0.0126\n",
      "Val Loss: 0.0491\n",
      "--------------------------------------------------\n"
     ]
    },
    {
     "name": "stderr",
     "output_type": "stream",
     "text": [
      "Epoch 461/500 - Training: 100%|██████████| 85/85 [00:40<00:00,  2.09it/s, Loss=0.9895]\n",
      "                                                                                       \r"
     ]
    },
    {
     "name": "stdout",
     "output_type": "stream",
     "text": [
      "\n",
      "Epoch 461/500:\n",
      "Train Loss: 0.0116\n",
      "Val Loss: 0.0479\n",
      "--------------------------------------------------\n"
     ]
    },
    {
     "name": "stderr",
     "output_type": "stream",
     "text": [
      "Epoch 462/500 - Training: 100%|██████████| 85/85 [00:40<00:00,  2.09it/s, Loss=0.9404]\n",
      "                                                                                       \r"
     ]
    },
    {
     "name": "stdout",
     "output_type": "stream",
     "text": [
      "\n",
      "Epoch 462/500:\n",
      "Train Loss: 0.0111\n",
      "Val Loss: 0.0507\n",
      "--------------------------------------------------\n"
     ]
    },
    {
     "name": "stderr",
     "output_type": "stream",
     "text": [
      "Epoch 463/500 - Training: 100%|██████████| 85/85 [00:40<00:00,  2.09it/s, Loss=0.9268]\n",
      "                                                                                       \r"
     ]
    },
    {
     "name": "stdout",
     "output_type": "stream",
     "text": [
      "\n",
      "Epoch 463/500:\n",
      "Train Loss: 0.0109\n",
      "Val Loss: 0.0492\n",
      "--------------------------------------------------\n"
     ]
    },
    {
     "name": "stderr",
     "output_type": "stream",
     "text": [
      "Epoch 464/500 - Training: 100%|██████████| 85/85 [00:40<00:00,  2.09it/s, Loss=0.9871]\n",
      "                                                                                       \r"
     ]
    },
    {
     "name": "stdout",
     "output_type": "stream",
     "text": [
      "\n",
      "Epoch 464/500:\n",
      "Train Loss: 0.0116\n",
      "Val Loss: 0.0497\n",
      "--------------------------------------------------\n"
     ]
    },
    {
     "name": "stderr",
     "output_type": "stream",
     "text": [
      "Epoch 465/500 - Training: 100%|██████████| 85/85 [00:40<00:00,  2.09it/s, Loss=0.9469]\n",
      "                                                                                       \r"
     ]
    },
    {
     "name": "stdout",
     "output_type": "stream",
     "text": [
      "\n",
      "Epoch 465/500:\n",
      "Train Loss: 0.0111\n",
      "Val Loss: 0.0490\n",
      "--------------------------------------------------\n"
     ]
    },
    {
     "name": "stderr",
     "output_type": "stream",
     "text": [
      "Epoch 466/500 - Training: 100%|██████████| 85/85 [00:40<00:00,  2.09it/s, Loss=0.9430]\n",
      "                                                                                       \r"
     ]
    },
    {
     "name": "stdout",
     "output_type": "stream",
     "text": [
      "\n",
      "Epoch 466/500:\n",
      "Train Loss: 0.0111\n",
      "Val Loss: 0.0503\n",
      "--------------------------------------------------\n"
     ]
    },
    {
     "name": "stderr",
     "output_type": "stream",
     "text": [
      "Epoch 467/500 - Training: 100%|██████████| 85/85 [00:40<00:00,  2.09it/s, Loss=0.9134]\n",
      "                                                                                       \r"
     ]
    },
    {
     "name": "stdout",
     "output_type": "stream",
     "text": [
      "\n",
      "Epoch 467/500:\n",
      "Train Loss: 0.0107\n",
      "Val Loss: 0.0500\n",
      "--------------------------------------------------\n"
     ]
    },
    {
     "name": "stderr",
     "output_type": "stream",
     "text": [
      "Epoch 468/500 - Training: 100%|██████████| 85/85 [00:40<00:00,  2.09it/s, Loss=0.9283]\n",
      "                                                                                       \r"
     ]
    },
    {
     "name": "stdout",
     "output_type": "stream",
     "text": [
      "\n",
      "Epoch 468/500:\n",
      "Train Loss: 0.0109\n",
      "Val Loss: 0.0524\n",
      "--------------------------------------------------\n"
     ]
    },
    {
     "name": "stderr",
     "output_type": "stream",
     "text": [
      "Epoch 469/500 - Training: 100%|██████████| 85/85 [00:40<00:00,  2.09it/s, Loss=0.9647]\n",
      "                                                                                       \r"
     ]
    },
    {
     "name": "stdout",
     "output_type": "stream",
     "text": [
      "\n",
      "Epoch 469/500:\n",
      "Train Loss: 0.0113\n",
      "Val Loss: 0.0518\n",
      "--------------------------------------------------\n"
     ]
    },
    {
     "name": "stderr",
     "output_type": "stream",
     "text": [
      "Epoch 470/500 - Training: 100%|██████████| 85/85 [00:40<00:00,  2.09it/s, Loss=0.9399]\n",
      "                                                                                       \r"
     ]
    },
    {
     "name": "stdout",
     "output_type": "stream",
     "text": [
      "\n",
      "Epoch 470/500:\n",
      "Train Loss: 0.0111\n",
      "Val Loss: 0.0514\n",
      "--------------------------------------------------\n"
     ]
    },
    {
     "name": "stderr",
     "output_type": "stream",
     "text": [
      "Epoch 471/500 - Training: 100%|██████████| 85/85 [00:40<00:00,  2.09it/s, Loss=0.8940]\n",
      "                                                                                       \r"
     ]
    },
    {
     "name": "stdout",
     "output_type": "stream",
     "text": [
      "\n",
      "Epoch 471/500:\n",
      "Train Loss: 0.0105\n",
      "Val Loss: 0.0521\n",
      "--------------------------------------------------\n"
     ]
    },
    {
     "name": "stderr",
     "output_type": "stream",
     "text": [
      "Epoch 472/500 - Training: 100%|██████████| 85/85 [00:40<00:00,  2.09it/s, Loss=0.8772]\n",
      "                                                                                       \r"
     ]
    },
    {
     "name": "stdout",
     "output_type": "stream",
     "text": [
      "\n",
      "Epoch 472/500:\n",
      "Train Loss: 0.0103\n",
      "Val Loss: 0.0532\n",
      "--------------------------------------------------\n"
     ]
    },
    {
     "name": "stderr",
     "output_type": "stream",
     "text": [
      "Epoch 473/500 - Training: 100%|██████████| 85/85 [00:40<00:00,  2.09it/s, Loss=0.8649]\n",
      "                                                                                       \r"
     ]
    },
    {
     "name": "stdout",
     "output_type": "stream",
     "text": [
      "\n",
      "Epoch 473/500:\n",
      "Train Loss: 0.0102\n",
      "Val Loss: 0.0512\n",
      "--------------------------------------------------\n"
     ]
    },
    {
     "name": "stderr",
     "output_type": "stream",
     "text": [
      "Epoch 474/500 - Training: 100%|██████████| 85/85 [00:40<00:00,  2.09it/s, Loss=0.8665]\n",
      "                                                                                       \r"
     ]
    },
    {
     "name": "stdout",
     "output_type": "stream",
     "text": [
      "\n",
      "Epoch 474/500:\n",
      "Train Loss: 0.0102\n",
      "Val Loss: 0.0521\n",
      "--------------------------------------------------\n"
     ]
    },
    {
     "name": "stderr",
     "output_type": "stream",
     "text": [
      "Epoch 475/500 - Training: 100%|██████████| 85/85 [00:40<00:00,  2.09it/s, Loss=0.8733]\n",
      "                                                                                       \r"
     ]
    },
    {
     "name": "stdout",
     "output_type": "stream",
     "text": [
      "\n",
      "Epoch 475/500:\n",
      "Train Loss: 0.0103\n",
      "Val Loss: 0.0518\n",
      "--------------------------------------------------\n"
     ]
    },
    {
     "name": "stderr",
     "output_type": "stream",
     "text": [
      "Epoch 476/500 - Training: 100%|██████████| 85/85 [00:40<00:00,  2.09it/s, Loss=0.9075]\n",
      "                                                                                       \r"
     ]
    },
    {
     "name": "stdout",
     "output_type": "stream",
     "text": [
      "\n",
      "Epoch 476/500:\n",
      "Train Loss: 0.0107\n",
      "Val Loss: 0.0508\n",
      "--------------------------------------------------\n"
     ]
    },
    {
     "name": "stderr",
     "output_type": "stream",
     "text": [
      "Epoch 477/500 - Training: 100%|██████████| 85/85 [00:40<00:00,  2.09it/s, Loss=0.8839]\n",
      "                                                                                       \r"
     ]
    },
    {
     "name": "stdout",
     "output_type": "stream",
     "text": [
      "\n",
      "Epoch 477/500:\n",
      "Train Loss: 0.0104\n",
      "Val Loss: 0.0511\n",
      "--------------------------------------------------\n"
     ]
    },
    {
     "name": "stderr",
     "output_type": "stream",
     "text": [
      "Epoch 478/500 - Training: 100%|██████████| 85/85 [00:40<00:00,  2.09it/s, Loss=0.9219]\n",
      "                                                                                       \r"
     ]
    },
    {
     "name": "stdout",
     "output_type": "stream",
     "text": [
      "\n",
      "Epoch 478/500:\n",
      "Train Loss: 0.0108\n",
      "Val Loss: 0.0495\n",
      "--------------------------------------------------\n"
     ]
    },
    {
     "name": "stderr",
     "output_type": "stream",
     "text": [
      "Epoch 479/500 - Training: 100%|██████████| 85/85 [00:40<00:00,  2.09it/s, Loss=1.0588]\n",
      "                                                                                       \r"
     ]
    },
    {
     "name": "stdout",
     "output_type": "stream",
     "text": [
      "\n",
      "Epoch 479/500:\n",
      "Train Loss: 0.0125\n",
      "Val Loss: 0.0503\n",
      "--------------------------------------------------\n"
     ]
    },
    {
     "name": "stderr",
     "output_type": "stream",
     "text": [
      "Epoch 480/500 - Training: 100%|██████████| 85/85 [00:40<00:00,  2.09it/s, Loss=1.0897]\n",
      "                                                                                       \r"
     ]
    },
    {
     "name": "stdout",
     "output_type": "stream",
     "text": [
      "\n",
      "Epoch 480/500:\n",
      "Train Loss: 0.0128\n",
      "Val Loss: 0.0469\n",
      "--------------------------------------------------\n"
     ]
    },
    {
     "name": "stderr",
     "output_type": "stream",
     "text": [
      "Epoch 481/500 - Training: 100%|██████████| 85/85 [00:40<00:00,  2.09it/s, Loss=0.9394]\n",
      "                                                                                       \r"
     ]
    },
    {
     "name": "stdout",
     "output_type": "stream",
     "text": [
      "\n",
      "Epoch 481/500:\n",
      "Train Loss: 0.0111\n",
      "Val Loss: 0.0495\n",
      "--------------------------------------------------\n"
     ]
    },
    {
     "name": "stderr",
     "output_type": "stream",
     "text": [
      "Epoch 482/500 - Training: 100%|██████████| 85/85 [00:40<00:00,  2.09it/s, Loss=0.8701]\n",
      "                                                                                       \r"
     ]
    },
    {
     "name": "stdout",
     "output_type": "stream",
     "text": [
      "\n",
      "Epoch 482/500:\n",
      "Train Loss: 0.0102\n",
      "Val Loss: 0.0511\n",
      "--------------------------------------------------\n"
     ]
    },
    {
     "name": "stderr",
     "output_type": "stream",
     "text": [
      "Epoch 483/500 - Training: 100%|██████████| 85/85 [00:40<00:00,  2.09it/s, Loss=0.8099]\n",
      "                                                                                       \r"
     ]
    },
    {
     "name": "stdout",
     "output_type": "stream",
     "text": [
      "\n",
      "Epoch 483/500:\n",
      "Train Loss: 0.0095\n",
      "Val Loss: 0.0521\n",
      "--------------------------------------------------\n"
     ]
    },
    {
     "name": "stderr",
     "output_type": "stream",
     "text": [
      "Epoch 484/500 - Training: 100%|██████████| 85/85 [00:40<00:00,  2.09it/s, Loss=0.7864]\n",
      "                                                                                       \r"
     ]
    },
    {
     "name": "stdout",
     "output_type": "stream",
     "text": [
      "\n",
      "Epoch 484/500:\n",
      "Train Loss: 0.0093\n",
      "Val Loss: 0.0545\n",
      "--------------------------------------------------\n"
     ]
    },
    {
     "name": "stderr",
     "output_type": "stream",
     "text": [
      "Epoch 485/500 - Training: 100%|██████████| 85/85 [00:40<00:00,  2.09it/s, Loss=0.7702]\n",
      "                                                                                       \r"
     ]
    },
    {
     "name": "stdout",
     "output_type": "stream",
     "text": [
      "\n",
      "Epoch 485/500:\n",
      "Train Loss: 0.0091\n",
      "Val Loss: 0.0542\n",
      "--------------------------------------------------\n"
     ]
    },
    {
     "name": "stderr",
     "output_type": "stream",
     "text": [
      "Epoch 486/500 - Training: 100%|██████████| 85/85 [00:40<00:00,  2.09it/s, Loss=0.7849]\n",
      "                                                                                       \r"
     ]
    },
    {
     "name": "stdout",
     "output_type": "stream",
     "text": [
      "\n",
      "Epoch 486/500:\n",
      "Train Loss: 0.0092\n",
      "Val Loss: 0.0539\n",
      "--------------------------------------------------\n"
     ]
    },
    {
     "name": "stderr",
     "output_type": "stream",
     "text": [
      "Epoch 487/500 - Training: 100%|██████████| 85/85 [00:40<00:00,  2.09it/s, Loss=0.7955]\n",
      "                                                                                       \r"
     ]
    },
    {
     "name": "stdout",
     "output_type": "stream",
     "text": [
      "\n",
      "Epoch 487/500:\n",
      "Train Loss: 0.0094\n",
      "Val Loss: 0.0542\n",
      "--------------------------------------------------\n"
     ]
    },
    {
     "name": "stderr",
     "output_type": "stream",
     "text": [
      "Epoch 488/500 - Training: 100%|██████████| 85/85 [00:40<00:00,  2.09it/s, Loss=0.7856]\n",
      "                                                                                       \r"
     ]
    },
    {
     "name": "stdout",
     "output_type": "stream",
     "text": [
      "\n",
      "Epoch 488/500:\n",
      "Train Loss: 0.0092\n",
      "Val Loss: 0.0550\n",
      "--------------------------------------------------\n"
     ]
    },
    {
     "name": "stderr",
     "output_type": "stream",
     "text": [
      "Epoch 489/500 - Training: 100%|██████████| 85/85 [00:40<00:00,  2.09it/s, Loss=0.7705]\n",
      "                                                                                       \r"
     ]
    },
    {
     "name": "stdout",
     "output_type": "stream",
     "text": [
      "\n",
      "Epoch 489/500:\n",
      "Train Loss: 0.0091\n",
      "Val Loss: 0.0550\n",
      "--------------------------------------------------\n"
     ]
    },
    {
     "name": "stderr",
     "output_type": "stream",
     "text": [
      "Epoch 490/500 - Training: 100%|██████████| 85/85 [00:40<00:00,  2.09it/s, Loss=0.7724]\n",
      "                                                                                       \r"
     ]
    },
    {
     "name": "stdout",
     "output_type": "stream",
     "text": [
      "\n",
      "Epoch 490/500:\n",
      "Train Loss: 0.0091\n",
      "Val Loss: 0.0554\n",
      "--------------------------------------------------\n"
     ]
    },
    {
     "name": "stderr",
     "output_type": "stream",
     "text": [
      "Epoch 491/500 - Training: 100%|██████████| 85/85 [00:40<00:00,  2.09it/s, Loss=0.7667]\n",
      "                                                                                       \r"
     ]
    },
    {
     "name": "stdout",
     "output_type": "stream",
     "text": [
      "\n",
      "Epoch 491/500:\n",
      "Train Loss: 0.0090\n",
      "Val Loss: 0.0566\n",
      "--------------------------------------------------\n"
     ]
    },
    {
     "name": "stderr",
     "output_type": "stream",
     "text": [
      "Epoch 492/500 - Training: 100%|██████████| 85/85 [00:40<00:00,  2.09it/s, Loss=0.7724]\n",
      "                                                                                       \r"
     ]
    },
    {
     "name": "stdout",
     "output_type": "stream",
     "text": [
      "\n",
      "Epoch 492/500:\n",
      "Train Loss: 0.0091\n",
      "Val Loss: 0.0567\n",
      "--------------------------------------------------\n"
     ]
    },
    {
     "name": "stderr",
     "output_type": "stream",
     "text": [
      "Epoch 493/500 - Training: 100%|██████████| 85/85 [00:40<00:00,  2.09it/s, Loss=0.8583]\n",
      "                                                                                       \r"
     ]
    },
    {
     "name": "stdout",
     "output_type": "stream",
     "text": [
      "\n",
      "Epoch 493/500:\n",
      "Train Loss: 0.0101\n",
      "Val Loss: 0.0501\n",
      "--------------------------------------------------\n"
     ]
    },
    {
     "name": "stderr",
     "output_type": "stream",
     "text": [
      "Epoch 494/500 - Training: 100%|██████████| 85/85 [00:40<00:00,  2.09it/s, Loss=11.3032]\n",
      "                                                                                       \r"
     ]
    },
    {
     "name": "stdout",
     "output_type": "stream",
     "text": [
      "\n",
      "Epoch 494/500:\n",
      "Train Loss: 0.1330\n",
      "Val Loss: 0.0732\n",
      "--------------------------------------------------\n"
     ]
    },
    {
     "name": "stderr",
     "output_type": "stream",
     "text": [
      "Epoch 495/500 - Training: 100%|██████████| 85/85 [00:40<00:00,  2.09it/s, Loss=5.2926]\n",
      "                                                                                       \r"
     ]
    },
    {
     "name": "stdout",
     "output_type": "stream",
     "text": [
      "\n",
      "Epoch 495/500:\n",
      "Train Loss: 0.0623\n",
      "Val Loss: 0.0611\n",
      "--------------------------------------------------\n"
     ]
    },
    {
     "name": "stderr",
     "output_type": "stream",
     "text": [
      "Epoch 496/500 - Training: 100%|██████████| 85/85 [00:40<00:00,  2.09it/s, Loss=4.6127]\n",
      "                                                                                       \r"
     ]
    },
    {
     "name": "stdout",
     "output_type": "stream",
     "text": [
      "\n",
      "Epoch 496/500:\n",
      "Train Loss: 0.0543\n",
      "Val Loss: 0.0656\n",
      "--------------------------------------------------\n"
     ]
    },
    {
     "name": "stderr",
     "output_type": "stream",
     "text": [
      "Epoch 497/500 - Training: 100%|██████████| 85/85 [00:40<00:00,  2.09it/s, Loss=4.2073]\n",
      "                                                                                       \r"
     ]
    },
    {
     "name": "stdout",
     "output_type": "stream",
     "text": [
      "\n",
      "Epoch 497/500:\n",
      "Train Loss: 0.0495\n",
      "Val Loss: 0.0504\n",
      "--------------------------------------------------\n"
     ]
    },
    {
     "name": "stderr",
     "output_type": "stream",
     "text": [
      "Epoch 498/500 - Training: 100%|██████████| 85/85 [00:40<00:00,  2.09it/s, Loss=4.0186]\n",
      "                                                                                       \r"
     ]
    },
    {
     "name": "stdout",
     "output_type": "stream",
     "text": [
      "\n",
      "Epoch 498/500:\n",
      "Train Loss: 0.0473\n",
      "Val Loss: 0.0576\n",
      "--------------------------------------------------\n"
     ]
    },
    {
     "name": "stderr",
     "output_type": "stream",
     "text": [
      "Epoch 499/500 - Training: 100%|██████████| 85/85 [00:40<00:00,  2.09it/s, Loss=3.7034]\n",
      "                                                                                       \r"
     ]
    },
    {
     "name": "stdout",
     "output_type": "stream",
     "text": [
      "\n",
      "Epoch 499/500:\n",
      "Train Loss: 0.0436\n",
      "Val Loss: 0.0471\n",
      "--------------------------------------------------\n"
     ]
    },
    {
     "name": "stderr",
     "output_type": "stream",
     "text": [
      "Epoch 500/500 - Training: 100%|██████████| 85/85 [00:40<00:00,  2.09it/s, Loss=3.4630]\n",
      "                                                                                       "
     ]
    },
    {
     "name": "stdout",
     "output_type": "stream",
     "text": [
      "\n",
      "Epoch 500/500:\n",
      "Train Loss: 0.0407\n",
      "Val Loss: 0.0455\n",
      "--------------------------------------------------\n",
      "\n",
      "🎉 Training completed! Best validation loss: 0.0337\n"
     ]
    },
    {
     "name": "stderr",
     "output_type": "stream",
     "text": [
      "\r"
     ]
    }
   ],
   "source": [
    "model = FishSegmentation()\n",
    "optimizer = torch.optim.Adam(model.parameters(), lr=0.001)\n",
    "train_dataloaders, valid_dataloaders, _ = create_fish_dataloaders_separate(train_batch_size=96, val_batch_size=96, val_split=0.1)\n",
    "train_loss , valid_loss = train(model , 500 , train_dataloaders , valid_dataloaders, optimizer)"
   ]
  },
  {
   "cell_type": "code",
   "execution_count": null,
   "id": "17cecb04",
   "metadata": {},
   "outputs": [
    {
     "data": {
      "text/plain": [
       "<All keys matched successfully>"
      ]
     },
     "execution_count": 26,
     "metadata": {},
     "output_type": "execute_result"
    }
   ],
   "source": [
    "# Testing\n",
    "checkpoint = torch.load(\"/home/krrish/home/desktop/fish_repo/fish_project/notebooks/best_fish_segmentation_model.pth\")\n",
    "model.load_state_dict(checkpoint['model_state_dict'])"
   ]
  },
  {
   "cell_type": "code",
   "execution_count": 73,
   "id": "cc4eca93",
   "metadata": {},
   "outputs": [
    {
     "name": "stdout",
     "output_type": "stream",
     "text": [
      "Found 430 test samples across 9 categories\n"
     ]
    }
   ],
   "source": [
    "test_loader, categories = create_test_dataloader(batch_size=64)\n",
    "image, category = next(iter(test_loader))"
   ]
  },
  {
   "cell_type": "code",
   "execution_count": 74,
   "id": "e7a1564a",
   "metadata": {},
   "outputs": [],
   "source": [
    "# Move model to GPU\n",
    "device = torch.device('cuda' if torch.cuda.is_available() else 'cpu')\n",
    "model = model.to(device)\n",
    "\n",
    "# Move input to same device\n",
    "image = image.to(device)\n",
    "\n",
    "\n",
    "# Now run inference\n",
    "with torch.no_grad():\n",
    "    predictions = model(image)"
   ]
  },
  {
   "cell_type": "code",
   "execution_count": 76,
   "id": "6e1562a0",
   "metadata": {},
   "outputs": [
    {
     "data": {
      "image/png": "[encoded data removed]",
      "text/plain": [
       "<Figure size 1500x500 with 2 Axes>"
      ]
     },
     "metadata": {},
     "output_type": "display_data"
    }
   ],
   "source": [
    "# Move predictions to CPU and convert to numpy\n",
    "predictions_cpu = predictions[3].squeeze().cpu().numpy()\n",
    "original = image[3].squeeze().cpu().numpy()\n",
    "\n",
    "fig, axis = plt.subplots(1, 2, figsize=(15, 5))\n",
    "axis[0].imshow(predictions_cpu, cmap = \"gray\")\n",
    "axis[1].imshow(original, cmap = \"gray\")\n",
    "plt.show()\n"
   ]
  },
  {
   "cell_type": "code",
   "execution_count": 72,
   "id": "c0e8d38d",
   "metadata": {},
   "outputs": [
    {
     "data": {
      "image/png": "[encoded data removed]",
      "text/plain": [
       "<Figure size 1500x500 with 2 Axes>"
      ]
     },
     "metadata": {},
     "output_type": "display_data"
    },
    {
     "data": {
      "image/png": "[encoded data removed]",
      "text/plain": [
       "<Figure size 1000x600 with 1 Axes>"
      ]
     },
     "metadata": {},
     "output_type": "display_data"
    }
   ],
   "source": [
    "# train_loss, valid_loss = train(model, 2, train_dataloaders, valid_dataloaders, optimizer)\n",
    "\n",
    "fig, axis = plt.subplots(1, 2, figsize=(15, 5))\n",
    "\n",
    "# Training loss plot\n",
    "axis[0].plot(train_loss, label='Training Loss', color='blue')\n",
    "axis[0].set_title('Training Loss')\n",
    "axis[0].set_xlabel('Epoch')\n",
    "axis[0].set_ylabel('Loss')\n",
    "axis[0].legend()\n",
    "axis[0].grid(True)\n",
    "\n",
    "# Validation loss plot\n",
    "axis[1].plot(valid_loss, label='Validation Loss', color='red')\n",
    "axis[1].set_title('Validation Loss')\n",
    "axis[1].set_xlabel('Epoch')\n",
    "axis[1].set_ylabel('Loss')\n",
    "axis[1].legend()\n",
    "axis[1].grid(True)\n",
    "\n",
    "plt.tight_layout()\n",
    "plt.show()\n",
    "\n",
    "# Optional: Combined plot for comparison\n",
    "plt.figure(figsize=(10, 6))\n",
    "plt.plot(train_loss, label='Training Loss', color='blue')\n",
    "plt.plot(valid_loss, label='Validation Loss', color='red')\n",
    "plt.title('Training vs Validation Loss')\n",
    "plt.xlabel('Epoch')\n",
    "plt.ylabel('Loss')\n",
    "plt.legend()\n",
    "plt.grid(True)\n",
    "plt.show()"
   ]
  }
 ],
 "metadata": {
  "kernelspec": {
   "display_name": "fishenv",
   "language": "python",
   "name": "python3"
  },
  "language_info": {
   "codemirror_mode": {
    "name": "ipython",
    "version": 3
   },
   "file_extension": ".py",
   "mimetype": "text/x-python",
   "name": "python",
   "nbconvert_exporter": "python",
   "pygments_lexer": "ipython3",
   "version": "3.11.2"
  }
 },
 "nbformat": 4,
 "nbformat_minor": 5
}
